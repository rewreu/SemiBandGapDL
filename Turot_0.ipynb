{
 "cells": [
  {
   "cell_type": "code",
   "execution_count": null,
   "metadata": {
    "collapsed": true
   },
   "outputs": [],
   "source": [
    "# old code from online instructions at https://contact.citrine.io/blog/2015/3/3/machine-learning-mat-sci-1\n",
    "# doesn't work, seems that developer at material project delete the API for make all combinations from periodic_table\n",
    "# from pymatgen import MPRester, periodic_table\n",
    "# import itertools\n",
    "\n",
    "# API_KEY = 'IJeQxmCAHlrKGW4T' # You have to register with Materials Project to receive an API\n",
    "\n",
    "# # There are 103 elements in pymatgen's list, giving C(103, 2) = 5253 binary systems\n",
    "# allBinaries = itertools.combinations(periodic_table.Specie, 2) # Create list of all binary systems\n",
    "\n",
    "# with MPRester(API_KEY) as m:\n",
    "#     for system in allBinaries:\n",
    "#         results = m.get_data(system[0] + '-' + system[1], data_type='vasp') # Download DFT data for each binary system\n",
    "#         for material in results: # We will receive many compounds within each binary system\n",
    "#             if material['e_above_hull'] < 1e-6: # Check if this compound is thermodynamically stable\n",
    "#                 print(material['pretty_formula'] + ',' + str(material['band_gap'])) # Output band gap csv to the screen      "
   ]
  },
  {
   "cell_type": "markdown",
   "metadata": {},
   "source": [
    "### The data below comes from following database\n",
    "http://bg.imet-db.ru/api/"
   ]
  },
  {
   "cell_type": "code",
   "execution_count": 62,
   "metadata": {
    "collapsed": true
   },
   "outputs": [],
   "source": [
    "Temp=[\"Cr-Li-Te\",\"Ga-Sn-Zn\",\"Ag-Al-O\",\"Ag-Al-S\",\"Ag-Al-Se\",\"Ag-Al-Te\",\"Ag-As-Cs-S\",\"Ag-As-K-S\",\"Ag-As-S\",\"Ag-As-Se\",\"Ag-As-Te\",\"Ag-Ba-Ga-Se\",\"Ag-Ba-Ge-Te\",\"Ag-Ba-In-S\",\"Ag-Ba-In-Se\",\"Ag-Ba-Se-Sn\",\"Ag-Ba-S-Sb\",\"Ag-Ba-S-Sn\",\"Ag-Bi-Br-Cs\",\"Ag-Bi-Cl-Cs\",\"Ag-Bi-Pb-S\",\"Ag-Bi-Pb-Se\",\"Ag-Bi-P-S\",\"Ag-Bi-P-Se\",\"Ag-Bi-S\",\"Ag-Bi-Se\",\"Ag-Bi-Te\",\"Ag-Br\",\"Ag-Br-Ge-S\",\"Ag-Cd-Ge-S\",\"Ag-Cd-In-Te\",\"Ag-Cd-P-S\",\"Ag-Cl\",\"Ag-Cs-S-Sb\",\"Ag-Cs-S-Te\",\"Ag-Cs-S-Ti\",\"Ag-Cs-S-V\",\"Ag-Cs-Te\",\"Ag-Eu-Ge-S\",\"Ag-F\",\"Ag-Fe-Se\",\"Ag-Fe-Te\",\"Ag-Ga-Ge-S\",\"Ag-Ga-Ge-Se\",\"Ag-Ga-O\",\"Ag-Ga-S\",\"Ag-Ga-Se\",\"Ag-Ga-Se-Si\",\"Ag-Ga-S-Si\",\"Ag-Ga-Te\",\"Ag-Ge-Pb-S\",\"Ag-Ge-Pb-Se\",\"Ag-Ge-S\",\"Ag-Ge-Se\",\"Ag-Ge-Te\",\"Ag-Hg-I\",\"Ag-I\",\"Ag-I-Mo-O\",\"Ag-In-K-Se\",\"Ag-In-O\",\"Ag-In-S\",\"Ag-In-Sb-Se\",\"Ag-In-Se\",\"Ag-In-Te\",\"Ag-I-O\",\"Ag-I-O-Pd\",\"Ag-I-O-V\",\"Ag-K-O-V\",\"Ag-K-P-S\",\"Ag-K-Se-Sn\",\"Ag-K-S-Sb\",\"Ag-K-S-V\",\"Ag-Li-O-Sn\",\"Ag-Li-O-Ti\",\"Ag-N\",\"Ag-Nb-P-S\",\"Ag-Nb-Rb-S\",\"Ag-O\",\"Ag-O-Pd\",\"Ag-O-S\",\"Ag-O-Sc\",\"Ag-P\",\"Ag-P-Rb-S\",\"Ag-P-Sc-Se\",\"Ag-P-S-Zn\",\"Ag-Rb-S-Sb\",\"Ag-Rb-S-Te\",\"Ag-Rb-S-Ti\",\"Ag-Rb-S-V\",\"Ag-S\",\"Ag-Sb-Se\",\"Ag-Sb-Te\",\"Ag-Se\",\"Ag-Se-Sn\",\"Ag-Se-Tl\",\"Ag-Sn-Te\",\"Ag-S-Sb\",\"Ag-S-Si-Zn\",\"Ag-S-Sn\",\"Ag-Te\",\"Ag-Te-Tl\",\"Al-As\",\"Al-As-Ba\",\"Al-As-Ga\",\"Al-B\",\"Al-Ba-S\",\"Al-Ba-Se\",\"Al-B-Ba-O\",\"Al-B-Cs-O\",\"Al-B-Li\",\"Al-B-O\",\"Al-Cd-Sb-Te\",\"Al-C-O-Sc\",\"Al-Cu-S\",\"Al-Cu-Se\",\"Al-Cu-Te\",\"Al-Dy-S-Si\",\"Al-Eu-O\",\"Al-Ga-P\",\"Al-Gd-S-Si\",\"Al-Ge-K-S\",\"Al-Ge-Na-S\",\"Al-Ge-Rb-S\",\"Al-Ge-Rb-Se\",\"Al-H-Si-Sr\",\"Al-In-P\",\"Al-K-Si\",\"Al-Li-O-Te\",\"Al-Li-P\",\"Al-Mn\",\"Al-N\",\"Al-Na-Si\",\"Al-O\",\"Al-O-Tb\",\"Al-O-Te-V\",\"Al-P\",\"Al-S\",\"Al-Sb\",\"Al-Se\",\"Al-S-Si-Sm\",\"Al-Te\",\"As\",\"As-B\",\"As-Ba-Ga\",\"As-Ba-Ga-Se\",\"As-Ba-K-Se\",\"As-Ba-Si-Sn\",\"As-Ba-Zn\",\"As-Bi-Cl-Hg\",\"As-Bi-Cl-O\",\"As-Bi-Cs-Se\",\"As-Bi-O\",\"As-Br\",\"As-Br-Cd\",\"As-Br-Cd-Hg\",\"As-Br-Hg-In\",\"As-Br-In-O\",\"As-Ca-Cd\",\"As-Ca-H-Li\",\"As-Ca-Li\",\"As-Cd\",\"As-Cd-Cl-Hg\",\"As-Cd-Ge\",\"As-Cd-Hg-I\",\"As-Cd-I\",\"As-Cd-In-Sn\",\"As-Cd-In-Te\",\"As-Cd-Na\",\"As-Cd-Na-S\",\"As-Cd-Si\",\"As-Cd-Sn\",\"As-Cl-Hf-Hg\",\"As-Cl-Hg\",\"As-Cl-Hg-U\",\"As-Cl-Hg-Zr\",\"As-Cl-In-O\",\"As-Co\",\"As-Co-S\",\"As-Co-Se\",\"As-Cs\",\"As-Cs-Cu-S\",\"As-Cs-Nb-Se\",\"As-Cs-Se\",\"As-Cu-K-S\",\"As-Cu-Rb-S\",\"As-Cu-S\",\"As-Cu-Se\",\"As-Dy\",\"As-Eu\",\"As-Eu-K-S\",\"As-Eu-Zn\",\"As-Fe\",\"As-Fe-S\",\"As-Fe-Sc\",\"As-Fe-Se\",\"As-Ga\",\"As-Ga-Ge-Zn\",\"As-Ga-In\",\"As-Ga-In-P\",\"As-Ga-P\",\"As-Ga-Sb\",\"As-Ga-Se-Zn\",\"As-Ga-Si-Zn\",\"As-Gd\",\"As-Ge\",\"As-Ge-Zn\",\"As-Hg-I-S\",\"As-H-O-V\",\"As-I\",\"As-In\",\"As-In-Sb\",\"As-In-Se-Sn\",\"As-In-Te\",\"As-Ir\",\"As-I-S\",\"As-I-Se\",\"As-K\",\"As-K-Nb-Se\",\"As-K-Se\",\"As-K-Se-Ta\",\"As-K-S-Sm\",\"As-K-S-Ta\",\"As-La-O-Zn\",\"As-Li-Mg\",\"As-Li-Na-Se\",\"As-Li-S\",\"As-Li-Se\",\"As-Mg\",\"As-Mg-N\",\"As-Na\",\"As-Na-S\",\"As-Na-Se\",\"As-Nb-Rb-Se\",\"As-Nd\",\"As-Ni\",\"As-O\",\"As-Os\",\"As-Os-S\",\"As-O-V\",\"As-P-Pd\",\"As-P-Pt\",\"As-Pr\",\"As-P-Ru\",\"As-Pt\",\"As-Rb-Se\",\"As-Rb-S-Ta\",\"As-Rh\",\"As-Rh-Sb\",\"As-Ru\",\"As-Ru-S\",\"As-S\",\"As-Sb\",\"As-Se\",\"As-Se-Te-Tl\",\"As-Se-Tl\",\"As-Si\",\"As-Si-Zn\",\"As-Sm\",\"As-Sn\",\"As-Sn-Zn\",\"As-Sr-Zn\",\"As-S-Tl\",\"As-Te\",\"As-Tm\",\"As-Yb\",\"As-Zn\",\"Au-Ba-Te\",\"Au-Cs\",\"Au-I-K-O\",\"Au-K-P-S\",\"Au-K-Se-Sn\",\"Au-K-S-Sn\",\"Au-Na\",\"Au-P-S-Tl\",\"Au-Se-Sn-Tl\",\"B\",\"Ba,Cs,Ga,Se,Cl\",\"Ba,Ga,Ge,Sn,P\",\"Ba-Ag-Sb-S-H-O\",\"Ba-Bi-Cl-O\",\"Ba-Bi-Fe-S\",\"Ba-Bi-Ga-S\",\"Ba-Bi-Ga-Se\",\"Ba-Bi-Ga-Te\",\"Ba-Bi-In-S\",\"Ba-Bi-Ir-O\",\"Ba-Bi-Na\",\"Ba-Bi-O-Te\",\"Ba-Bi-Se-Sn\",\"Ba-Br-Fe-S\",\"Ba-Cd-Ga-Se\",\"Ba-Cd-Ga-Se-Cl\",\"Ba-Cd-Se-Sn\",\"Ba-Cd-S-Sn\",\"Ba-Ce-In-Te\",\"Ba-Cl-Ge-S\",\"Ba-Cl-Ge-Se\",\"Ba-Cl-In-S\",\"Ba-Cl-Se-Si\",\"Ba-Cl-S-Sb\",\"Ba-Cs-Ga-Se-Cl\",\"Ba-Cs-In-Ga-Se-Cl\",\"Ba-Cs-O-P\",\"Ba-Cs-P-S\",\"Ba-Cs-S-V\",\"Ba-Cs-Zn-Ga-Se-Cl\",\"Ba-Cu-F-Te\",\"Ba-Cu-Ga-S\",\"Ba-Cu-Ga-Se\",\"Ba-Cu-Ga-Se-Cl\",\"Ba-Cu-Ga-S-Se\",\"Ba-Cu-Ge-Te\",\"Ba-Cu-In-Se\",\"Ba-Cu-La-O\",\"Ba-Cu-Na-S\",\"Ba-Cu-Sb-Se\",\"Ba-Cu-Se-Sn\",\"Ba-Cu-Se-Th\",\"Ba-Cu-Se-U\",\"Ba-Cu-S-Sb\",\"Ba-Cu-Te\",\"Ba-Dy-Ga-Se\",\"Ba-Dy-Ga-Te\",\"Ba-Dy-In-Se\",\"Ba-Dy-In-Te\",\"Ba-Dy-P-S\",\"Ba-Er-Ga-Se\",\"Ba-Er-Ga-Te\",\"Ba-Er-In-Se\",\"Ba-Er-In-Te\",\"Ba-Er-P-S\",\"Ba-Eu-O-P\",\"Ba-F\",\"Ba-Fe-S-Sb\",\"Ba-F-O-V\",\"Ba-Ga-Gd-Se\",\"Ba-Ga-Gd-Te\",\"Ba-Ga-Ge-P\",\"Ba-Ga-Ge-S\",\"Ba-Ga-Ge-Se\",\"Ba-Ga-Li-Se\",\"Ba-Ga-Nd-S\",\"Ba-Ga-Nd-Se\",\"Ba-Ga-P-Sn\",\"Ba-Ga-S\",\"Ba-Ga-Sb\",\"Ba-Ga-Sb-Se\",\"Ba-Ga-Sb-Te\",\"Ba-Ga-Se\",\"Ba-Ga-Se-Si\",\"Ba-Ga-Se-Sm\",\"Ba-Ga-Se-Sn\",\"Ba-Ga-Se-Y\",\"Ba-Ga-Si\",\"Ba-Ga-Sm-Te\",\"Ba-Ga-S-Sb\",\"Ba-Ga-S-Si\",\"Ba-Ga-Te-Y\",\"Ba-Gd-In-Se\",\"Ba-Gd-In-Te\",\"Ba-Gd-P-S\",\"Ba-Ge\",\"Ba-Ge-Ir-S\",\"Ba-Ge-Ir-Se\",\"Ba-Ge-Mg\",\"Ba-Ge-Na-S\",\"Ba-Ge-Na-Se\",\"Ba-Ge-Rh-Se\",\"Ba-Ge-S\",\"Ba-Ge-Se-Zn\",\"Ba-Hg-S\",\"Ba-Hg-Se\",\"Ba-Hg-S-Se\",\"Ba-H-Li\",\"Ba-Ho-P-S\",\"Ba-H-O-Sb\",\"Ba-H-Re\",\"Ba-In-La-S\",\"Ba-In-La-Se\",\"Ba-In-Nd-Se\",\"Ba-In-Nd-Te\",\"Ba-In-O-P\",\"Ba-In-O-Ta\",\"Ba-In-S\",\"Ba-In-Sb\",\"Ba-In-Sb-Se\",\"Ba-In-Se\",\"Ba-In-Se-Sm\",\"Ba-In-Se-Y\",\"Ba-In-Sm-Te\",\"Ba-In-S-Te\",\"Ba-In-Te-Y\",\"Ba-I-O-Pd\",\"Ba-K-Ga-Se-Cl\",\"Ba-K-Nb-S\",\"Ba-K-Sb-Se\",\"Ba-La-O-Te\",\"Ba-La-Te\",\"Ba-Mg-O-Ta\",\"Ba-Mn-Ga-Se-Cl\",\"Ba-Mo-O-Rb\",\"Ba-Mo-O-Te\",\"Ba-Na-Se-Sn\",\"Ba-Na-S-Sn\",\"Ba-Nb-Rb-Se\",\"Ba-Nb-Se\",\"Ba-N-O-Ta\",\"Ba-O\",\"Ba-O-Pd-Se\",\"Ba-O-Pr\",\"Ba-O-S\",\"Ba-O-Sc-Ta\",\"Ba-O-Se-V\",\"Ba-O-Sm-Ta\",\"Ba-O-Sn\",\"Ba-O-S-Zn\",\"Ba-O-Ta\",\"Ba-O-Ta-Zn\",\"Ba-O-Te\",\"Ba-O-Te-V\",\"Ba-O-Ti\",\"Ba-O-V-Zn\",\"Ba-Pd-Se-U\",\"Ba-P-Rb-S\",\"Ba-P-S-Tb\",\"Ba-Rb-Ga-Se-Cl\",\"Ba-Rb-Se-V\",\"Ba-S\",\"Ba-Sb-Se-Sn\",\"Ba-Se\",\"Ba-Se-Si-Zn\",\"Ba-Se-Sn\",\"Ba-Se-Ta\",\"Ba-Se-Th\",\"Ba-Se-U\",\"Ba-Se-Zn\",\"Ba-S-Fe-U-S\",\"Ba-Si\",\"Ba-S-Sb\",\"Ba-S-Si-U\",\"Ba-S-Sn\",\"Ba-Te\",\"Ba-Te-Zn\",\"Ba-Zn-Ga-Se-Cl\",\"B-Ba\",\"B-Ba-Bi-O\",\"B-Ba-Bi-S\",\"B-Ba-Ca-O\",\"B-Ba-Cd-O\",\"B-Ba-F-O\",\"B-Ba-H-O\",\"B-Ba-K-O\",\"B-Ba-Li-S\",\"B-Ba-Na-O\",\"B-Ba-O\",\"B-Ba-O-Sb\",\"B-Ba-S\",\"B-Ba-Sb-Se\",\"B-Ba-S-Sb\",\"B-Ba-S-Zn\",\"B-Be-La-O\",\"B-Bi-Cd-O\",\"B-Bi-O\",\"B-Bi-O-Pb\",\"B-Bi-O-Te\",\"B-Br-O-Pb\",\"B-C\",\"B-Ca\",\"B-Ca-Ge-O\",\"B-Ca-N\",\"B-Ca-O\",\"B-Ca-O-Rb\",\"B-Cd-Cs-O\",\"B-Cd-F-O\",\"B-Cd-Gd-O\",\"B-Cd-Ge-O\",\"B-Cd-K-O\",\"B-Cd-Li-O\",\"B-Cd-Lu-O\",\"B-Cd-O-Rb\",\"B-Cd-O-Y\",\"B-Ce-N\",\"B-Cl-O-Pb\",\"B-C-Mg\",\"B-Cr-O-Pb\",\"B-Cs-Ge-O\",\"B-Cs-O-Zn\",\"B-Cu-O-S-Se\",\"B-Cu-S\",\"B-Dy\",\"Be-N\",\"Be-O\",\"B-Er\",\"Be-S\",\"Be-Sb\",\"Be-Se\",\"Be-Te\",\"B-Eu\",\"B-Eu-O-Sb\",\"B-Fe-O-P\",\"B-F-Mg-O\",\"B-F-Na-O\",\"B-Gd\",\"B-Gd-O-Sb\",\"B-Ge-K-O\",\"B-Ge-O-Rb\",\"B-H-Na-O\",\"B-H-O-Pb\",\"B-H-O-Zn\",\"Bi\",\"Bi-Br\",\"Bi-Br-Cs\",\"Bi-Br-In-S\",\"Bi-Br-In-Se\",\"Bi-Br-O\",\"Bi-Br-O-Pb\",\"Bi-Br-Rb\",\"Bi-Br-S\",\"Bi-Br-Se\",\"Bi-Br-Te\",\"Bi-Ca-Li\",\"Bi-Ca-O\",\"Bi-Ca-O-P\",\"Bi-Cd-Cl-O\",\"Bi-Cd-Cs-S\",\"Bi-Cd-O-P\",\"Bi-Cd-O-Y\",\"Bi-Ce-O-W\",\"Bi-Cl-Hg-S\",\"Bi-Cl-Hg-Te\",\"Bi-Cl-In-S\",\"Bi-Cl-Li-O\",\"Bi-Cl-O\",\"Bi-Cl-O-Pb\",\"Bi-Cl-O-Sr\",\"Bi-Cl-Pt\",\"Bi-Cl-S\",\"Bi-C-O\",\"Bi-Cr-I-O\",\"Bi-Cs\",\"Bi-Cs-Cu-S\",\"Bi-Cs-I\",\"Bi-Cs-La-S\",\"Bi-Cs-P-Se\",\"Bi-Cs-S\",\"Bi-Cs-Se\",\"Bi-Cs-Te\",\"Bi-Cu-I-S\",\"Bi-Cu-I-Se\",\"Bi-Cu-K-S\",\"Bi-Cu-O-S\",\"Bi-Cu-O-Se\",\"Bi-Cu-O-Te\",\"Bi-Cu-Pb-S\",\"Bi-Cu-Pb-Se\",\"Bi-Cu-P-Se\",\"Bi-e-K-Rb\",\"Bi-Er-O-W\",\"Bi-Eu-O-W\",\"Bi-Eu-S\",\"Bi-Eu-Se\",\"Bi-Eu-Te\",\"Bi-Fe-K-O\",\"Bi-Fe-O\",\"Bi-Fe-O-Se\",\"Bi-F-I-O\",\"Bi-F-O\",\"Bi-F-O-Se\",\"Bi-Ga-Nb-O\",\"Bi-Ga-O\",\"Bi-Ga-O-Ta\",\"Bi-Ge-O\",\"Bi-Ge-Se-Sr\",\"Bi-I\",\"Bi-I-In-Se\",\"Bi-I-K\",\"Bi-In-Nb-O\",\"Bi-In-O-Ta\",\"Bi-In-S\",\"Bi-In-Sr\",\"Bi-I-O\",\"Bi-I-O-S\",\"Bi-I-O-Se\",\"Bi-I-Pb-S\",\"Bi-I-Rb\",\"Bi-I-S\",\"Bi-I-Se\",\"Bi-I-S-Sn\",\"Bi-I-Te\",\"Bi-K\",\"Bi-K-Pb-Se\",\"Bi-K-S\",\"Bi-K-Se\",\"Bi-K-Se-Sn\",\"Bi-K-S-Si\",\"Bi-La-Nb-O\",\"Bi-La-O-S\",\"Bi-La-O-Ta\",\"Bi-La-Pb-S\",\"Bi-La-S\",\"Bi-La-S-Sr\",\"Bi-Li\",\"Bi-Li-Mg\",\"Bi-Li-Nb-O\",\"Bi-Li-O-Ta\",\"Bi-Li-S\",\"Bi-Mg\",\"Bi-Mo-O\",\"Bi-Mo-O-Se\",\"Bi-Na\",\"Bi-Na-S\",\"Bi-Na-Se\",\"B-In-O-P\",\"Bi-N-O-Se\",\"Bi-N-O-Te\",\"Bi-O\",\"Bi-O-P\",\"Bi-O-Pb-V\",\"Bi-O-P-Pb\",\"Bi-O-P-Sr\",\"Bi-O-S\",\"Bi-O-Se-V\",\"Bi-O-Si\",\"Bi-O-Sm-W\",\"Bi-O-S-Te\",\"Bi-O-Te\",\"Bi-O-Ti\",\"Bi-O-V\",\"Bi-O-V-Y\",\"Bi-O-V-Zn\",\"Bi-O-Y-Zn\",\"Bi-O-Zn\",\"Bi-Pb-Se\",\"Bi-Pb-Se-Te\",\"Bi-Pd-Se\",\"Bi-P-S-Tl\",\"Bi-Rb-S\",\"Bi-Rb-Se\",\"Bi-Rb-Se-Te\",\"Bi-Rb-Te\",\"Bi-S\",\"Bi-Sb\",\"Bi-Sb-Te\",\"Bi-Se\",\"Bi-Se-Te\",\"Bi-Se-Tl\",\"Bi-S-Sb-Te\",\"Bi-S-Sn\",\"Bi-S-Tl\",\"Bi-Te\",\"Bi-Te-Tl\",\"B-K\",\"B-K-Li-O\",\"B-K-Mg-O\",\"B-K-O-Pb\",\"B-K-O-Sb\",\"B-K-O-Ta\",\"B-K-O-Zn\",\"B-La\",\"B-Li\",\"B-Li-Na-O\",\"B-Li-O\",\"B-Li-O-Pb\",\"B-Li-O-Zn\",\"B-Li-Si\",\"B-Mg-Na-O\",\"B-Mg-O-Rb\",\"B-Mo-O-Pb\",\"B-N\",\"B-Na\",\"B-Na-O-Zn\",\"B-Nd\",\"B-N-O-Pb\",\"B-N-Pr\",\"B-O\",\"B-O-P-Sr\",\"B-O-Rb-S\",\"B-O-Rb-Zn\",\"B-O-Sb-Sm\",\"B-O-Sb-Tb\",\"B-O-Se\",\"B-O-S-Sm\",\"B-O-Zn\",\"B-P\",\"B-Pb-S-Sb\",\"B-Pr\",\"Br-C\",\"Br-Cd\",\"Br-Cd-I-Rb\",\"Br-Cd-P\",\"Br-Cd-Sb-Se\",\"Br-Cl-Hg\",\"Br-Cs\",\"Br-Cs-Te\",\"Br-Cu\",\"Br-Hg\",\"Br-Hg-Se-Tl\",\"Br-Hg-S-Tl\",\"Br-Hg-Te\",\"Br-In-Sb-Se\",\"Br-K\",\"Br-K-Te\",\"Br-Li\",\"Br-Na\",\"Br-Nb-Rb\",\"Br-O-Pb\",\"Br-O-Pb-Sb\",\"Br-O-Pb-Se\",\"Br-Pb\",\"Br-Pb-Sr\",\"Br-P-Sr\",\"Br-Rb\",\"Br-Rb-Sb\",\"Br-Rb-Te\",\"Br-Sb-Se\",\"Br-Sn\",\"Br-S-Sb\",\"Br-Te-Tl\",\"Br-Tl\",\"B-Sb\",\"B-Si\",\"B-Sm\",\"B-Sr\",\"B-Y\",\"B-Yb\",\"C\",\"Ca-Cd-Sb\",\"Ca-Co-O-S\",\"Ca-Cs-H\",\"Ca-F\",\"Ca-Fe-O-Se\",\"Ca-F-O-Si\",\"Ca-Gd-S\",\"Ca-Ge\",\"Ca-Ge-O\",\"Ca-H-Rb\",\"Ca-I\",\"Ca-In-O-Ti\",\"Ca-La-S\",\"Ca-La-S-Sn\",\"Ca-Li-Sb\",\"Ca-Mg-N\",\"Ca-N\",\"Ca-Nd-S\",\"Ca-N-O-Ta\",\"Ca-N-Te\",\"Ca-O\",\"Ca-O-Pt\",\"Ca-O-Sb-Sc\",\"Ca-O-Si\",\"Ca-O-Si-Ti\",\"Ca-O-Sm-Ta\",\"Ca-O-Sn\",\"Ca-O-S-Zn\",\"Ca-Pb\",\"Ca-Pr-S\",\"Ca-P-Si\",\"Ca-S\",\"Ca-Sb\",\"Ca-Se\",\"Ca-Si\",\"Ca-Sn\",\"Ca-S-Sm\",\"Ca-S-Sn\",\"Ca-Te\",\"C-Ca-O\",\"C-Ce-N\",\"C-Cu-N-Ni\",\"Cd-Ce-Cs-Se\",\"Cd-Cl\",\"Cd-Cl-I-O\",\"Cd-Cl-P\",\"Cd-Cs-Dy-Se\",\"Cd-Cs-Er-Se\",\"Cd-Cs-Ga-S\",\"Cd-Cs-Ga-Se\",\"Cd-Cs-Ga-Te\",\"Cd-Cs-Hg-S\",\"Cd-Cs-Ho-Se\",\"Cd-Cs-In-Se\",\"Cd-Cs-In-Te\",\"Cd-Cs-P-Se\",\"Cd-Cs-Se-Sm\",\"Cd-Cs-Se-Tb\",\"Cd-Cs-Se-Tm\",\"Cd-Cs-Se-Y\",\"Cd-Cs-S-Sn\",\"Cd-Cs-Te\",\"Cd-Cu-Ge-S\",\"Cd-Cu-Ge-Se\",\"Cd-Cu-In-Se\",\"Cd-Cu-In-Te\",\"Cd-Cu-O-Se\",\"Cd-Cu-Se-Sn\",\"Cd-Cu-S-Sn\",\"Cd-F\",\"Cd-F-O-Si\",\"Cd-Ga-K-Se\",\"Cd-Ga-Rb-S\",\"Cd-Ga-Rb-Se\",\"Cd-Ga-Rb-Te\",\"Cd-Ga-S\",\"Cd-Ga-Sb-Te\",\"Cd-Ga-Se\",\"Cd-Ga-S-Te\",\"Cd-Ge-Li\",\"Cd-Ge-Li-S\",\"Cd-Ge-Na-S\",\"Cd-Ge-Na-Se\",\"Cd-Ge-P\",\"Cd-Ge-Te-Tl\",\"Cd-Hg-I-Sb\",\"Cd-Hg-Se\",\"Cd-Hg-Te\",\"Cd-H-I-O\",\"Cd-I\",\"Cd-In-La-S\",\"Cd-In-Rb-Se\",\"Cd-In-S\",\"Cd-In-Se\",\"Cd-In-S-Te\",\"Cd-In-Te\",\"Cd-I-P\",\"Cd-I-Tl\",\"Cd-K-P-Se\",\"Cd-K-S\",\"Cd-K-Se\",\"Cd-K-Se-Sn\",\"Cd-K-Te\",\"Cd-Li-Na-S\",\"Cd-Li-S-Sn\",\"Cd-Mo-O-Sb\",\"Cd-Mo-O-Te\",\"Cd-Na-P\",\"Cd-Na-S-Sn\",\"Cd-O\",\"Cd-O-P-Pb\",\"Cd-O-Sn\",\"Cd-O-Te\",\"Cd-O-Te-V\",\"Cd-P\",\"Cd-P-Rb-Se\",\"Cd-P-S\",\"Cd-P-Si\",\"Cd-P-Sn\",\"Cd-Rb-S\",\"Cd-Rb-Se\",\"Cd-Rb-Te\",\"Cd-S\",\"Cd-Sb\",\"Cd-Se\",\"Cd-Se-Zn\",\"Cd-Sn-Te-Tl\",\"Cd-S-Se\",\"Cd-S-Tl\",\"Cd-Te\",\"C-Dy-N\",\"Ce-Cs-Hg-Se\",\"Ce-Cu-Se-Yb\",\"Ce-Cu-S-Yb\",\"Ce-F\",\"Ce-F-Mo-O\",\"Ce-Ge-S\",\"Ce-Ge-Se\",\"Ce-I-K-O\",\"Ce-In-S\",\"Ce-In-Sb-Se\",\"Ce-I-O-Pb\",\"Ce-K-O-P\",\"Ce-K-Se\",\"Ce-K-S-Sn\",\"Ce-Lu-S\",\"Ce-Lu-Se\",\"Ce-Mn-O-Se\",\"Ce-Mo-O\",\"Ce-N\",\"Ce-Na-S\",\"Ce-N-O-Ta\",\"Ce-O\",\"Ce-O-Sc\",\"Ce-O-Se\",\"Ce-P-S-Tl\",\"Ce-S\",\"Ce-Se\",\"Ce-Se-Sn\",\"Ce-Te\",\"C-Gd-N\",\"C-I\",\"C-La-N\",\"Cl-Cs\",\"Cl-Cs-F-Sn\",\"Cl-Cs-Ga-Se\",\"Cl-Cs-Hg-I\",\"Cl-Cu\",\"Cl-Cu-Tl\",\"Cl-F-Na-Sn\",\"Cl-Hf-Hg-P\",\"Cl-Hg\",\"Cl-Hg-In-P\",\"Cl-Hg-In-S\",\"Cl-Hg-P-Zr\",\"Cl-Hg-Se-Zn\",\"Cl-Hg-S-Zn\",\"Cl-In-S-Sb\",\"Cl-K\",\"Cl-K-O-U\",\"Cl-La-Mo-O\",\"Cl-La-Ru\",\"Cl-Li\",\"Cl-Mo-Na-O\",\"Cl-Mo-O-Y\",\"Cl-Na\",\"Cl-Na-O-W\",\"Cl-O-Pb\",\"Cl-O-Pb-Te\",\"Cl-O-P-Sr\",\"Cl-O-Se-Sr\",\"Cl-O-Sr-Te\",\"Cl-O-Ta-Te\",\"Cl-O-Tb-W\",\"Cl-O-W-Yb\",\"Cl-Pb\",\"Cl-P-Sr\",\"Cl-Rb\",\"Cl-Sn\",\"Cl-S-Zn\",\"Cl-Tc\",\"Cl-Tl\",\"C-N-Nd\",\"C-N-Ni\",\"C-N-Pr\",\"C-N-Tb\",\"C-N-Tm\",\"Co-Cs-Lu-S\",\"Co-Cs-Se-Yb\",\"Co-K-S-Sn\",\"Co-La-Mn-O\",\"Co-La-O-Ti\",\"Co-La-O-V\",\"Co-Mn-Nd-O\",\"Co-Mn-O-Pr\",\"Co-Mn-O-Sm\",\"Co-Mn-Sb\",\"Co-Na-O\",\"Co-O\",\"Co-O-Pb\",\"Co-O-Te\",\"Co-P\",\"Co-P-S\",\"C-O-Ru-Se\",\"Co-Sb\",\"Co-Sb-Ti\",\"Co-Si\",\"Co-S-Sb\",\"Cr-Cu-O\",\"Cr-K-P-S\",\"Cr-Lu-S\",\"Cr-O\",\"Cr-O-Pb\",\"Cr-O-Sr\",\"Cr-S\",\"Cr-Sb\",\"Cr-Se\",\"Cr-Se-Tl\",\"Cr-Si\",\"Cr-Sn-Ti\",\"Cr-S-Se-Tl\",\"Cr-S-Tl\",\"Cr-Te\",\"Cs,Ba,Sn,S,Cl\",\"Cs,Ti,Se,O,F\",\"Cs,Zn,Mg,P,O\",\"Cs,Zn,Se,H,O\",\"Cs-Cu-Dy-Te\",\"Cs-Cu-Nb-Se\",\"Cs-Cu-P-S\",\"Cs-Cu-S-Sb\",\"Cs-Er-Se-Zn\",\"Cs-F\",\"Cs-Ga-Ge-Na\",\"Cs-Ga-Mn-Te\",\"Cs-Ga-S\",\"Cs-Ga-Se\",\"Cs-Ga-Se-Sn\",\"Cs-Ga-Si\",\"Cs-Gd-Te-Zn\",\"Cs-Ge-I\",\"Cs-Ge-In\",\"Cs-Ge-In-S\",\"Cs-Ge-In-Se\",\"Cs-Ge-Mg-Se\",\"Cs-Ge-Na-Zn\",\"Cs-Ge-O-P\",\"Cs-Ge-Pb-S\",\"Cs-Ge-P-Se\",\"Cs-Ge-Se-Zn\",\"Cs-Ge-S-Zn\",\"Cs-Ge-Te-Zn\",\"Cs-Hg-Br-I-H-O\",\"Cs-Hg-I\",\"Cs-Hg-I-H-O\",\"Cs-Hg-In-S\",\"Cs-Hg-La-Se\",\"Cs-Hg-S\",\"Cs-Hg-Se-Sm\",\"Cs-Hg-Se-Y\",\"Cs-H-O-Se\",\"C-Si\",\"Cs-I\",\"Cs-In-Mn-Se\",\"Cs-In-Mn-Te\",\"Cs-In-O-Te\",\"Cs-In-S\",\"Cs-In-Se\",\"Cs-In-Se-Sn\",\"Cs-In-Se-Zn\",\"Cs-In-S-Sn\",\"Cs-In-Te\",\"Cs-In-Te-Zn\",\"Cs-I-O-Pt\",\"Cs-I-Sb\",\"Cs-I-Te\",\"Cs-K-P-Se\",\"Cs-K-Sb\",\"Cs-La-P-S\",\"Cs-Lu-S\",\"Cs-Lu-Se\",\"Cs-Mg-O-P\",\"Cs-Mg-O-W\",\"Cs-Mg-Se-Sn\",\"Cs-Mn-Se-Yb\",\"Cs-Na-Sb\",\"Cs-Nb-O-Se\",\"Cs-Nb-O-Te\",\"Cs-Nb-P-Se\",\"Cs-O-P-Pb\",\"Cs-O-P-W\",\"Cs-O-Sc-Se\",\"Cs-O-Se-Ta\",\"Cs-O-Se-Zn\",\"Cs-O-Si-U\",\"Cs-O-S-Sb\",\"Cs-O-Te-Y\",\"Cs-Pd-Se\",\"Cs-P-Pd-Se\",\"Cs-P-Rb-Se\",\"Cs-P-Se\",\"Cs-P-Se-Sn\",\"Cs-P-Se-Zr\",\"Cs-P-S-Ta\",\"Cs-P-S-Th\",\"Cs-Rb-Sb\",\"Cs-Sb\",\"Cs-Sb-Se\",\"Cs-Sb-Te\",\"Cs-Se-Sm-Zn\",\"Cs-Se-Sn-Zn\",\"Cs-Se-U\",\"Cs-Se-Yb-Zn\",\"Cs-Se-Y-Zn\",\"Cs-S-Sb\",\"Cs-S-Sb-Sn\",\"Cs-S-Te\",\"Cs-S-Yb-Zn\",\"Cs-S-Zr\",\"Cs-Tb-Te-Zn\",\"Cs-Te\",\"Cu-Dy-Se\",\"Cu-Dy-Te\",\"Cu-Er-Te\",\"Cu-Eu-S-Sn\",\"Cu-Fe-K-Te\",\"Cu-Fe-S\",\"Cu-Fe-Se\",\"Cu-Fe-Te\",\"Cu-Ga-Ge-Se\",\"Cu-Ga-In-S\",\"Cu-Ga-K-Se\",\"Cu-Ga-La-Se\",\"Cu-Ga-O\",\"Cu-Ga-S\",\"Cu-Ga-Se\",\"Cu-Ga-Te\",\"Cu-Gd-S\",\"Cu-Gd-Se\",\"Cu-Gd-Te\",\"Cu-Ge-In-Se\",\"Cu-Ge-La-Se\",\"Cu-Ge-Mg-S\",\"Cu-Ge-Pb-S\",\"Cu-Ge-S\",\"Cu-Ge-Se\",\"Cu-Ge-Se-Zn\",\"Cu-Ge-S-Zn\",\"Cu-Ge-Te\",\"Cu-Hg-I\",\"Cu-Hg-O-Se\",\"Cu-Hg-O-Te\",\"Cu-Ho-K-S\",\"Cu-Ho-Se\",\"Cu-Ho-Te\",\"Cu-I\",\"Cu-In-K-Se\",\"Cu-In-S\",\"Cu-In-Se\",\"Cu-In-Se-Zn\",\"Cu-In-Te\",\"Cu-In-Te-Zn\",\"Cu-K-Nb-S\",\"Cu-K-Nb-Se\",\"Cu-K-S\",\"Cu-K-Se-Sn\",\"Cu-K-S-Sb\",\"Cu-K-S-Sm\",\"Cu-K-S-Sn\",\"Cu-K-S-Th\",\"Cu-K-S-Ti\",\"Cu-K-S-V\",\"Cu-La-O-S\",\"Cu-La-O-Se\",\"Cu-La-O-Te\",\"Cu-La-Se-Yb\",\"Cu-La-S-Yb\",\"Cu-Li-S\",\"Cu-Lu-Se-Tl\",\"Cu-Mg-S-Si\",\"Cu-N\",\"Cu-Nb-O\",\"Cu-Nb-Rb-S\",\"Cu-Nb-Rb-Se\",\"Cu-Nb-S\",\"Cu-Nb-Se\",\"Cu-Nb-Se-Tl\",\"Cu-Nd-O-S\",\"Cu-Nd-O-Te\",\"Cu-Nd-S-Yb\",\"Cu-N-P\",\"Cu-O\",\"Cu-O-Pr-S\",\"Cu-O-Sc\",\"Cu-O-Se-Sm\",\"Cu-O-S-Sc-Sr\",\"Cu-O-S-Sm\",\"Cu-O-Ta\",\"Cu-O-Te\",\"Cu-O-Te-Tl\",\"Cu-O-Y\",\"Cu-P\",\"Cu-Pb-S-Sb\",\"Cu-Pr-S-Yb\",\"Cu-P-S\",\"Cu-P-Se\",\"Cu-P-Si\",\"Cu-Rb-Se-Sn\",\"Cu-Rb-S-Sb\",\"Cu-Rb-S-Sn\",\"Cu-Rb-S-Ti\",\"Cu-Rb-S-V\",\"Cu-S\",\"Cu-Sb-Se\",\"Cu-Sc-Se\",\"Cu-Se\",\"Cu-Se-Si-Zm\",\"Cu-Se-Sm\",\"Cu-Se-Sn\",\"Cu-Se-Sn-Zn\",\"Cu-Se-Ta\",\"Cu-Se-Tb\",\"Cu-Se-Tl\",\"Cu-Se-W\",\"Cu-Se-Y\",\"Cu-Se-Yb\",\"Cu-Si-Te-Zn\",\"Cu-Si-Zn\",\"Cu-Sm-Te\",\"Cu-Sn-Te\",\"Cu-Sn-Te-Zn\",\"Cu-S-Sb\",\"Cu-S-Sm\",\"Cu-S-Sm-Yb\",\"Cu-S-Sn\",\"Cu-S-Sn-Tl\",\"Cu-S-Sr-U\",\"Cu-S-Ta\",\"Cu-S-Tl\",\"Cu-S-V\",\"Cu-S-Yb\",\"Cu-S-Zr\",\"Cu-Tb-Te\",\"Cu-Te\",\"Cu-Te-Tm\",\"Cu-Te-Y\",\"Dy-Eu-Se\",\"Dy-Ga-S\",\"Dy-Ga-Sb\",\"Dy-In-S\",\"Dy-K-O-Ti\",\"Dy-Mo-O\",\"Dy-N\",\"Dy-O\",\"Dy-O-P\",\"Dy-S\",\"Dy-S-Te\",\"Dy-Te\",\"Er-Eu-Se\",\"Er-In-S\",\"Er-Mo-O\",\"Er-N\",\"Er-O\",\"Er-Se\",\"Er-Se-Sm\",\"Er-S-Sm\",\"Er-Te\",\"Eu-Ga-Ge-S\",\"Eu-Ga-S\",\"Eu-Ga-Sb\",\"Eu-Ga-Se\",\"Eu-Ga-Te\",\"Eu-Ge-In-Ir\",\"Eu-Ge-Na-S\",\"Eu-Ge-Na-Se\",\"Eu-H\",\"Eu-H-Ir\",\"Eu-H-Li\",\"Eu-Ho-Se\",\"Eu-H-Ru\",\"Eu-In-P\",\"Eu-In-S\",\"Eu-In-Se\",\"Eu-In-Te\",\"Eu-Lu-Se\",\"Eu-Mn-Ni-O\",\"Eu-N\",\"Eu-N-Si\",\"Eu-O\",\"Eu-O-P-Sr\",\"Eu-O-Ta\",\"Eu-O-V\",\"Eu-P\",\"Eu-S\",\"Eu-Sb-Se\",\"Eu-Sb-Te\",\"Eu-Se\",\"Eu-Se-Sn\",\"Eu-Se-Tb\",\"Eu-Se-Tm\",\"Eu-Se-Yb\",\"Eu-Sn-Te\",\"Eu-S-Sb\",\"Eu-S-Yb\",\"Eu-Te\",\"Fe-Ge-K-Se\",\"Fe-Ge-Li-S\",\"Fe-H-I-O\",\"Fe-I\",\"Fe-In-Se\",\"Fe-K-S-Sn\",\"Fe-La-Sb-Se\",\"Fe-La-S-Sb\",\"Fe-Li-O-Te\",\"Fe-Li-S-Sn\",\"Fe-O\",\"Fe-P\",\"Fe-P-S\",\"Fe-P-Sc\",\"Fe-S\",\"Fe-Sb\",\"Fe-Sb-V\",\"Fe-Se\",\"Fe-Si\",\"Fe-Si-Ti\",\"Fe-Te\",\"F-Fe-O-Sr\",\"F-K\",\"F-K-Ti\",\"F-La\",\"F-La-Mo-O\",\"F-Li\",\"F-Mg\",\"F-Mn\",\"F-Mo-Na-O\",\"F-Mo-Nd-O\",\"F-Mo-O-Y\",\"F-Mo-Pr\",\"F-Na\",\"F-Nd\",\"F-O-Sr-V\",\"F-Pr\",\"F-Rb\",\"Ga-Gd-S-Sb\",\"Ga-Ge-K-S\",\"Ga-Ge-K-Se\",\"Ga-Ge-La-S\",\"Ga-Ge-Li-S\",\"Ga-Ge-Li-Se\",\"Ga-Ge-Na-S\",\"Ga-Ge-Na-Se\",\"Ga-Ge-O-Pb\",\"Ga-Ge-Pb-Se\",\"Ga-Ge-Sr\",\"Ga-Ge-S-Sn\",\"Ga-Ge-Te\",\"Ga-Hg-S\",\"Ga-Hg-Sb-Te\",\"Ga-Hg-Se\",\"Ga-H-O-Se\",\"Ga-In-P\",\"Ga-In-Se-Tl\",\"Ga-In-S-Tl\",\"Ga-In-Te-Tl\",\"Ga-K-Se\",\"Ga-K-Se-Sn\",\"Ga-K-Si\",\"Ga-La-O\",\"Ga-La-S\",\"Ga-La-S-Sb\",\"Ga-La-S-Tb\",\"Ga-Li-O\",\"Ga-Li-O-Te\",\"Ga-Li-O-Zn\",\"Ga-Li-S\",\"Ga-Li-Se\",\"Ga-Li-Te\",\"Ga-Mn-Rb-Te\",\"Ga-N\",\"Ga-Na-Se-Sn\",\"Ga-Na-S-Sn\",\"Ga-N-O\",\"Ga-O\",\"Ga-O-Se\",\"Ga-O-Sn-Zn\",\"Ga-O-Te\",\"Ga-O-Te-V\",\"Ga-P\",\"Ga-Pb-S\",\"Ga-Pb-Se\",\"Ga-Pb-Se-Si\",\"Ga-Pb-Te\",\"Ga-Pr-S-Tb\",\"Ga-P-Se-Zn\",\"Ga-P-S-Zn\",\"Ga-Rb-Se-Sn\",\"Ga-Rb-Si\",\"Ga-S\",\"Ga-Sb\",\"Ga-Sb-Se\",\"Ga-Sb-Tb\",\"Ga-Sb-Te\",\"Ga-Sb-Te-Zn\",\"Ga-Se\",\"Ga-Se-Sn\",\"Ga-Se-Tl\",\"Ga-Se-Yb\",\"Ga-Se-Zn\",\"Ga-S-Sb-Sm\",\"Ga-S-Sb-Y\",\"Ga-S-Sn\",\"Ga-S-Tl\",\"Ga-S-Y\",\"Ga-S-Yb\",\"Ga-Te\",\"Ga-Te-Tl\",\"Ga-Te-Zn\",\"Gd-Ge-S\",\"Gd-H-N-O\",\"Gd-In-Mn-S\",\"Gd-In-Se-Tl\",\"Gd-K-O-Ti\",\"Gd-K-Sb-Se\",\"Gd-Li-O-P\",\"Gd-Lu-Se\",\"Gd-Mn-Ni-O\",\"Gd-Mn-S\",\"Gd-Mo-Na-O\",\"Gd-Mo-O\",\"Gd-N\",\"Gd-Na-O-P\",\"Gd-O\",\"Gd-S\",\"Gd-Sc-Se\",\"Gd-Se\",\"Gd-Se-Tl\",\"Gd-S-Sc\",\"Gd-S-Zr\",\"Gd-Te\",\"Ge\",\"Ge-Hg-K-S\",\"Ge-Hg-Li\",\"Ge-Hg-Li-S\",\"Ge-Hg-Na-S\",\"Ge-Hg-Rb-S\",\"Ge-Ho-S\",\"Ge-I\",\"Ge-In-Ir-Sr\",\"Ge-In-K-S\",\"Ge-In-La-S\",\"Ge-In-Li-S\",\"Ge-In-Li-Se\",\"Ge-In-Na-S\",\"Ge-In-Na-Se\",\"Ge-In-Rb-S\",\"Ge-In-S-Tl\",\"Ge-In-Te\",\"Ge-I-Te\",\"Ge-K-Pb-S\",\"Ge-K-P-Se\",\"Ge-K-S\",\"Ge-K-Se\",\"Ge-K-S-Zn\",\"Ge-La-Se\",\"Ge-Li-Mn-S\",\"Ge-Li-N\",\"Ge-Li-Pb-S\",\"Ge-Li-Se-Zn\",\"Ge-Li-Zn\",\"Ge-Mg\",\"Ge-Mg-N\",\"Ge-Mg-Na-Se\",\"Ge-Mg-Se\",\"Ge-Na-O-P\",\"Ge-Na-P\",\"Ge-Na-Pb-S\",\"Ge-Na-Pb-Se\",\"Ge-Na-Rb\",\"Ge-Na-Se\",\"Ge-Na-Se-Zn\",\"Ge-Na-S-Zn\",\"Ge-Nd-S\",\"Ge-N-Zn\",\"Ge-O\",\"Ge-O-Pb-Se\",\"Ge-O-Se\",\"Ge-P\",\"Ge-Pb-S\",\"Ge-Pb-Se\",\"Ge-Pb-Se-Te\",\"Ge-Pb-S-Se\",\"Ge-Pb-S-Te\",\"Ge-Pb-Te\",\"Ge-P-Rb-Se\",\"Ge-Pr-Se\",\"Ge-P-Zn\",\"Ge-Ru\",\"Ge-S\",\"Ge-Sb-Se-Sr\",\"Ge-Sb-Te\",\"Ge-Se\",\"Ge-Se-Th\",\"Ge-Si\",\"Ge-Sn\",\"Ge-Sr\",\"Ge-S-Sn\",\"Ge-S-Tb\",\"Ge-Te\",\"Ge-Te-Tl\",\"H,Bi,Te,N,O\",\"Hf-Ho-S\",\"Hf-K-Se\",\"Hf-La-S\",\"Hf-Nd-S\",\"Hf-O\",\"Hf-S\",\"Hf-Se\",\"Hg-I\",\"Hg-In-S\",\"Hg-In-Se\",\"Hg-In-S-Tl\",\"Hg-In-Te\",\"Hg-I-Te\",\"Hg-K-P-Se\",\"Hg-K-Se\",\"Hg-K-S-Se\",\"Hg-K-S-Sn\",\"Hg-Li-S-Si\",\"Hg-Li-S-Sn\",\"Hg-Na-S-Se\",\"Hg-Na-S-Si\",\"Hg-Na-S-Sn\",\"Hg-O\",\"Hg-O-Sn\",\"Hg-P-Rb-Se\",\"Hg-P-S\",\"Hg-Rb-Sb-Te\",\"Hg-Rb-S-Sn\",\"Hg-S\",\"Hg-Se\",\"Hg-Se-Tl\",\"Hg-Se-Zn\",\"Hg-S-Tl\",\"Hg-Te\",\"Hg-Te-Tl\",\"Hg-Te-U\",\"Hg-Te-Zn\",\"H-I-O-Pt\",\"H-I-O-Rb\",\"H-K-Mg\",\"H-K-O-P\",\"H-K-O-Se\",\"H-K-Re\",\"H-La\",\"H-La-Mg-Pd\",\"H-La-N-O\",\"H-Li-O-Se\",\"H-Li-Sr\",\"H-Na-O-Se\",\"H-N-O-P\",\"H-N-O-Y\",\"Ho-In-S\",\"H-O-K-V-I\",\"Ho-Mo-O\",\"Ho-N\",\"Ho-N-O-P\",\"Ho-O\",\"Ho-O-Sb\",\"H-O-P-Pb\",\"H-O-Rb-Se\",\"Ho-S\",\"H-O-Te-V\",\"H-O-Ti\",\"I\",\"I-In-Li-O\",\"I-In-Na-O\",\"I-In-O-Rb\",\"I-K\",\"I-K-O\",\"I-K-O-Pt\",\"I-K-O-V\",\"I-K-Te\",\"I-La-O-Pb\",\"I-La-O-V\",\"I-Li\",\"I-Li-Mo-O\",\"I-Li-O\",\"I-Mn\",\"I-Na\",\"I-Na-O-Pt\",\"I-Nd-O-Pb\",\"In-K-O-Te\",\"In-K-P-Se\",\"In-K-S\",\"In-K-Se\",\"In-K-Se-Sn\",\"In-K-S-Sn\",\"In-La-O-S\",\"In-La-S\",\"In-La-Sb-Se\",\"In-La-S-Sb\",\"In-Li-S\",\"In-Li-Se\",\"In-Li-Se-Si\",\"In-Li-S-Si\",\"In-Li-S-Sn\",\"In-Li-Te\",\"In-Lu-S\",\"In-Mn-Pb-S\",\"In-Mn-Rb-Se\",\"In-N\",\"In-Na-O-Te\",\"In-Na-S\",\"In-Na-Se\",\"In-Na-S-Se\",\"In-Na-S-Si\",\"In-Na-S-Sn\",\"In-Na-Te\",\"In-Nb-O-Te\",\"In-Nd-S\",\"In-Nd-Sb-Se\",\"In-Ni-O-V\",\"In-O\",\"In-O-Rb-Te\",\"In-O-Se\",\"In-P\",\"In-Pb-Te\",\"In-Pr-S\",\"In-Pr-Sb-Se\",\"In-Pr-Se-Tl\",\"In-P-S\",\"In-P-Se\",\"In-Rb-S\",\"In-Rb-Se\",\"In-Rb-Se-Zn\",\"In-Rb-S-Sn\",\"In-S\",\"In-Sb\",\"In-Sb-Te\",\"In-Se\",\"In-Se-Tl\",\"In-Se-Zn\",\"In-S-Sb\",\"In-S-Sb-Sm\",\"In-S-Sm\",\"In-S-Tb\",\"In-S-Tl\",\"In-S-Yb\",\"In-S-Zn\",\"In-Te\",\"In-Te-Tl\",\"In-Te-Zn\",\"I-O-Pb-Pr\",\"I-O-Pb-Sb\",\"I-O-Pd\",\"I-O-Pt-Rb\",\"I-O-Sb\",\"I-Pb\",\"I-Pb-S-Sb\",\"I-P-Sr\",\"I-Rb\",\"I-Rb-Sb\",\"I-Rb-Te\",\"Ir-Nb-Sn\",\"Ir-P\",\"Ir-Pb-Se\",\"Ir-P-Te\",\"Ir-S\",\"Ir-Se\",\"Ir-Se-Sn\",\"Ir-S-Se\",\"I-Sb\",\"I-Sb-Se\",\"I-Sb-Te\",\"I-Sn\",\"I-S-Sb\",\"I-S-Sb-Sn\",\"I-Te\",\"I-Te-Tl\",\"I-Tl\",\"I-Zn\",\"K,Ba,Sn,S,Br\",\"K,Ba,Sn,S,Cl\",\"K,Rb,Hg,Ge,S\",\"K-Br-Ga-P-S\",\"K-Cl-Ga-P-S\",\"K-La-O-Ti\",\"K-La-S-Sb\",\"K-Mg-O-W\",\"K-Mn-Se-Sn\",\"K-Mn-S-Sn\",\"K-Mo-O-Se\",\"K-Na-Sb\",\"K-Na-Se-Sn\",\"K-Nb-O\",\"K-Nb-O-Se\",\"K-Nb-O-Te\",\"K-Nb-P-Se\",\"K-Nb-S\",\"K-Nb-S-Ta\",\"K-Nd-O-Ti\",\"K-O-P-Pb\",\"K-O-P-Ti\",\"K-O-Sc-Se\",\"K-O-Si-U\",\"K-O-Sm-Ti\",\"K-O-Sn\",\"K-O-S-Sb\",\"K-O-Ta\",\"K-O-Ta-Te\",\"K-O-Te-Y\",\"K-Pb-Sb-Se\",\"K-Pd-Se\",\"K-P-Sc-Se\",\"K-P-Se\",\"K-P-Se-Sn\",\"K-P-Se-Zr\",\"K-P-Si\",\"K-P-S-Sm\",\"K-P-S-Ti\",\"K-P-S-Yb\",\"K-P-Te\",\"K-Rb-Sb\",\"K-S\",\"K-Sb\",\"K-Sb-Se\",\"K-Se\",\"K-Se-Sn-Zn\",\"K-Se-Tb\",\"K-Se-Zr\",\"K-S-Sb\",\"K-S-Sb-Sn\",\"K-S-Sn-Zn\",\"K-S-Ta\",\"K-Te\",\"K-Te-Zn\",\"La-Lu-Se\",\"La-Mg-O-Ta\",\"La-Mg-S-Sn\",\"La-Mn-Ni-O\",\"La-Mn-O-Se\",\"La-Mo-O\",\"La-Na-O-Ta\",\"La-Na-S\",\"La-Ni-O-V\",\"La-N-Nb-O\",\"La-N-O-Ta\",\"La-O\",\"La-O-Pt-Sr\",\"La-O-Se\",\"La-O-Se-Zn\",\"La-O-S-Sb\",\"La-P\",\"La-P-Rb-S\",\"La-S\",\"La-Sb\",\"La-Sb-Se-Si\",\"La-Se\",\"La-Si\",\"La-S-Sb\",\"La-S-Sb-Si\",\"La-S-Se\",\"La-S-Sr\",\"La-S-Zr\",\"La-Te\",\"La-V-I-O-H\",\"Li-Mg-N\",\"Li-Mg-Si\",\"Li-Mn-O-Te\",\"Li-Mo-O-Se\",\"Li-Mo-O-Te\",\"Li-Na-Zn-B-O\",\"Li-Nb-O\",\"Li-N-Sc\",\"Li-N-Zn\",\"Li-O-Pt\",\"Li-O-Ta\",\"Li-O-Te-W\",\"Li-Pb-S-Sb\",\"Li-P-S\",\"Li-P-S-Zn\",\"Li-Sb\",\"Li-Sb-Se\",\"Li-Sb-Te\",\"Li-Se-Sn-Zn\",\"Li-S-Sb\",\"Li-S-Si-Sm\",\"Li-S-Sn-Zn\",\"Lu-Na-P-S\",\"Lu-Nd-S\",\"Lu-Nd-Se\",\"Lu-O\",\"Lu-P\",\"Lu-Pr-S\",\"Lu-Pr-Se\",\"Lu-Se-Sm\",\"Mg-N\",\"Mg-Na-Se-Si\",\"Mg-N-Sb\",\"Mg-N-Si\",\"Mg-O\",\"Mg-O-Rb-W\",\"Mg-O-S\",\"Mg-O-V\",\"Mg-P\",\"Mg-Pb\",\"Mg-P-Si\",\"Mg-Sb\",\"Mg-Se\",\"Mg-Se-Sn-Sr\",\"Mg-Si\",\"Mg-Sn\",\"Mg-Te\",\"Mn-Nd-Ni-O\",\"Mn-Ni-O-Pr\",\"Mn-Ni-O-Sm\",\"Mn-O\",\"Mn-O-Pb\",\"Mn-O-Sb\",\"Mn-O-Ta\",\"Mn-O-Te-V\",\"Mn-P\",\"Mn-Pb-Te\",\"Mn-P-Se\",\"Mn-S\",\"Mn-S-Sb-Sm\",\"Mn-Sb-Se\",\"Mn-Se\",\"Mn-Si\",\"Mn-Te\",\"Mo-Na-O-Rb\",\"Mo-Na-O-Se\",\"Mo-O\",\"Mo-O-P-Rb\",\"Mo-O-Rb-Se\",\"Mo-O-Sb-Zn\",\"Mo-O-Se-Zn\",\"Mo-O-Tb\",\"Mo-O-Te-Zn\",\"Mo-S\",\"Mo-Se\",\"Mo-Te\",\"N,H,Ga,Sb,S\",\"Na,Ag,As,S,H,O\",\"Na,Ba,Sn,S,Cl\",\"Na-Ba-Ge-S-Cl\",\"Na-Cs-Sr-B-O\",\"Na-Nb-O\",\"Na-Nb-O-Se\",\"Na-Nb-P-S\",\"Na-O-Sc-Se\",\"Na-O-Se-Zn\",\"Na-O-Te-Y\",\"Na-P-S-Sb\",\"Na-P-S-Sc\",\"Na-P-S-Sm\",\"Na-P-S-Y\",\"Na-P-S-Yb\",\"Na-Rb-Sb\",\"Na-S\",\"Na-Sb\",\"Na-Sb-Se\",\"Na-Sb-Te\",\"Na-Se\",\"Na-Se-Te\",\"Na-S-Sb\",\"Na-S-Sn-Zn\",\"Na-S-Te\",\"Na-Te\",\"Nb-O\",\"Nb-O-Pb-Se\",\"Nb-O-Rb-Se\",\"Nb-O-Rb-Te\",\"Nb-O-Sb-V\",\"Nb-O-Sc-Ti\",\"Nb-P-Rb-Se\",\"Nb-S\",\"Nb-Sb-Te\",\"Nb-Se\",\"Nb-S-Tl\",\"Nd-O\",\"Nd-O-Se\",\"Nd-S\",\"Nd-Se\",\"Nd-Se-Sn\",\"Nd-S-Sr\",\"Nd-S-Zr\",\"Nd-Te\",\"Ni-O\",\"Ni-O-Sr\",\"Ni-O-Te\",\"Ni-O-V\",\"Ni-P\",\"Ni-S\",\"Ni-Sb-Sc\",\"Ni-Sb-Ti\",\"Ni-Sb-Y\",\"Ni-Se-Ta\",\"Ni-Sn-Zr\",\"Ni-S-Ta\",\"N-O-Pb-Se\",\"N-O-Pr-Ta\",\"N-O-Sc-Ta\",\"N-O-Ta\",\"N-O-Ta-Zr\",\"N-Pb\",\"N-Sc\",\"N-Si\",\"N-Ta-Zr\",\"N-Tl\",\"N-Y\",\"O-Pb\",\"O-Pb-Pd\",\"O-Pb-Rh\",\"O-Pb-Se\",\"O-Pb-Se-V\",\"O-Pb-Sr\",\"O-Pd\",\"O-P-Pb-Rb\",\"O-Pr\",\"O-P-Rb-Sr\",\"O-Pr-Pt-Sr\",\"O-Pr-Se\",\"O-Pr-Te\",\"O-Pt\",\"O-Pu-Te\",\"O-Rb-Sc-Se\",\"O-Rb-Se-Zn\",\"O-Rb-Si-U\",\"O-Rb-Ta-Te\",\"O-Rb-Te-Y\",\"O-Re\",\"O-Rh\",\"O-Rh-Zn\",\"O-Sb\",\"O-Sb-Sc-Sr\",\"O-Sb-Sm\",\"O-Sc\",\"O-Se-Sr\",\"O-Se-Sr-V\",\"O-Se-Th\",\"O-Si\",\"O-Sm\",\"O-Sm-Sr-Ta\",\"O-Sn\",\"O-Sn-Sr\",\"O-Sn-W\",\"O-Sn-Zn\",\"Os-P\",\"Os-P-S\",\"Os-P-Se\",\"O-Sr\",\"O-Sr-Ta\",\"O-Sr-Ti\",\"Os-S\",\"Os-Sb\",\"Os-Sb-Se\",\"Os-Sb-Te\",\"O-S-Sr-Zn\",\"Os-S-Sb\",\"Os-Te\",\"O-S-Th\",\"O-S-U-Y\",\"O-Ta\",\"O-Tb\",\"O-Te\",\"O-Te-Th\",\"O-Te-V-Y\",\"O-Te-V-Zn\",\"O-Th\",\"O-Ti\",\"O-Tl\",\"O-Tm\",\"O-U\",\"O-V\",\"O-V-Zn\",\"O-W\",\"O-Y\",\"O-Yb\",\"O-Zn\",\"O-Zr\",\"P\",\"Pb,Sb,Bi,S,I\",\"Pb-H-N-O-P\",\"Pb-Pd-Se-O-Cl\",\"Pb-Pd-Te-O-Cl\",\"Pb-Rb-Sb-Se\",\"Pb-S\",\"Pb-Sb-Se\",\"Pb-Se\",\"Pb-Se-Sn\",\"Pb-Se-Sn-Te\",\"Pb-Se-Te\",\"Pb-Sn-Te\",\"Pb-S-Se\",\"Pb-S-Sn\",\"Pb-S-Ti-Tl\",\"Pb-Te\",\"Pb-Te-Tl\",\"Pd-S\",\"Pd-Sb-Sc\",\"Pd-Sb-Y\",\"Pd-Se\",\"Pd-Te\",\"P-Pd\",\"P-Pd-S\",\"P-Pd-Se\",\"P-Pt\",\"P-Rb-S\",\"P-Rb-Se\",\"P-Rb-Se-Th\",\"P-Rb-Se-Zr\",\"P-Rh\",\"Pr-S\",\"Pr-Sb\",\"Pr-Se\",\"Pr-Se-Tl\",\"Pr-S-Sr\",\"Pr-Te\",\"P-Ru\",\"P-Ru-S\",\"P-Se\",\"P-Se-Tl\",\"P-Si\",\"P-Si-Te\",\"P-Si-Zn\",\"P-Sm\",\"P-Sn-Zn\",\"P-S-Sr-Th\",\"P-S-Ti\",\"P-S-Ti-Tl\",\"P-S-Tl\",\"P-S-U\",\"P-S-Zn\",\"P-Te-Tl\",\"Pt-S\",\"Pt-Sb\",\"Pt-Sb-Y\",\"Pt-Se\",\"Pt-Se-Sn\",\"Pt-Sn-Te\",\"Pt-S-Sn\",\"Pu-S\",\"P-Zn\",\"Rb-Br-Ga-P-S\",\"Rb-Cl-Ga-P-S\",\"Rb-H-In-I-O\",\"Rb-Sb\",\"Rb-Sb-Se\",\"Rb-Sb-Te\",\"Rb-Se-Tb\",\"Rb-Se-Th\",\"Rb-Se-Yb-Zn\",\"Rb-S-Sb\",\"Rb-S-Sb-Sn\",\"Rb-S-Ta\",\"Rb-S-Ti\",\"Rb-Te\",\"Re-S\",\"Re-Se\",\"Re-Si\",\"Rh-S\",\"Rh-Sb-Te\",\"Rh-Se\",\"Rh-S-Se\",\"Ru-S\",\"Ru-Sb\",\"Ru-Sb-Se\",\"Ru-Sb-Te\",\"Ru-Se\",\"Ru-Si\",\"Ru-Te\",\"S\",\"Sb\",\"Sb,S,Br,Al,Cl\",\"Sb-Se\",\"Sb-Se-Tl\",\"Sb-Se-Tm\",\"Sb-Si\",\"Sb-Sm\",\"Sb-Sn-Zn\",\"Sb-Te\",\"Sb-Te-Tl\",\"Sb-Te-Yb\",\"Sb-Yb\",\"Sb-Zn\",\"Sc-Se-Tl\",\"Sc-Te-Tl\",\"Se\",\"Se-Si\",\"Se-Sm\",\"Se-Sm-Sn\",\"Se-Sm-Zr\",\"Se-Sn\",\"Se-Sn-Sr\",\"Se-Sr\",\"Se-Ta\",\"Se-Tc\",\"Se-Te\",\"Se-Th\",\"Se-Ti\",\"Se-Ti-Tl\",\"Se-Tl\",\"Se-V-Y\",\"Se-W\",\"Se-Yb\",\"Se-Zn\",\"Se-Zr\",\"Si\",\"Si-Sn\",\"Si-Te\",\"Si-Te-Tl\",\"Sm-Sn-Te\",\"Sm-Te\",\"Sn\",\"Sn-Te\",\"Sn-Te-Yb\",\"Sr-Te\",\"Sr-V-Te-O-H\",\"Sr-Y-Ge-Bi-Se\",\"S-Sb\",\"S-Sb-Tl\",\"S-Sb-Yb\",\"S-Sc\",\"S-Sc-Tl\",\"S-Se-Sn\",\"S-Si-Y-Zn\",\"S-Sm\",\"S-Sn\",\"S-Sr\",\"S-Sr-Zr\",\"S-Ta\",\"S-Ta-Tl\",\"S-Tc\",\"S-Te-Tl\",\"S-Ti\",\"S-Ti-Tl\",\"S-Tl\",\"S-Tl-V\",\"S-W\",\"S-Y\",\"S-Yb\",\"S-Zn\",\"S-Zr\",\"Te\",\"Te-Ti\",\"Te-Tl\",\"Te-W\",\"Te-Yb\",\"Te-Zn\"]"
   ]
  },
  {
   "cell_type": "markdown",
   "metadata": {},
   "source": [
    "### Somedata they are connected with ',' instead of '-', below is the code to replace"
   ]
  },
  {
   "cell_type": "code",
   "execution_count": 244,
   "metadata": {
    "collapsed": true
   },
   "outputs": [],
   "source": [
    "for i,elem in enumerate(Temp):\n",
    "    if ',' in elem: \n",
    "#        print elem\n",
    "#        print elem.replace(',','-')\n",
    "        Temp[i]=elem.replace(',','-')\n",
    "# another mistake in the database to fix\n",
    "    if elem=='Bi-e-K-Rb': Temp[i]='Bi-Er-K-Rb' #\n",
    "    if elem=='Cu-Se-Si-Zm': Temp[i]='Cu-Se-Si-Sm' #"
   ]
  },
  {
   "cell_type": "markdown",
   "metadata": {},
   "source": [
    "## Save the index data to pickle file"
   ]
  },
  {
   "cell_type": "code",
   "execution_count": 249,
   "metadata": {
    "collapsed": true
   },
   "outputs": [],
   "source": [
    "from six.moves import cPickle as pickle\n",
    "pickle_file = 'SemicoductorSystems.pickle'\n",
    "\n",
    "try:\n",
    "  f = open(pickle_file, 'wb')\n",
    "  save = {\n",
    "    'Namesys':Temp,\n",
    "    }\n",
    "  pickle.dump(save, f, pickle.HIGHEST_PROTOCOL)\n",
    "  f.close()\n",
    "except Exception as e:\n",
    "  print('Unable to save data to', pickle_file, ':', e)\n",
    "  raise"
   ]
  },
  {
   "cell_type": "markdown",
   "metadata": {},
   "source": [
    "## Load the index data from pickle file"
   ]
  },
  {
   "cell_type": "code",
   "execution_count": 68,
   "metadata": {
    "collapsed": false
   },
   "outputs": [],
   "source": [
    "from six.moves import cPickle as pickle\n",
    "pickle_file = 'SemicoductorSystems.pickle'\n",
    "with open(pickle_file, 'rb') as f:\n",
    "  save = pickle.load(f)\n",
    "  Temp = save['Namesys']\n",
    "  del save  # hint to help gc free up memory"
   ]
  },
  {
   "cell_type": "markdown",
   "metadata": {},
   "source": [
    "## Dowload the data and Save to pickle file \n",
    "Now lets download some data from material project data base at \n",
    "https://materialsproject.org"
   ]
  },
  {
   "cell_type": "code",
   "execution_count": null,
   "metadata": {
    "collapsed": true
   },
   "outputs": [],
   "source": [
    "from pymatgen import MPRester, periodic_table\n",
    "import itertools\n",
    "\n",
    "API_KEY = 'IJeQxmCAHlrKGW4T' # You have to register with Materials Project to receive an API\n",
    "#partial=10\n",
    "partial=len(Temp)\n",
    "breakpoint=1162\n",
    "Temp2=Temp[breakpoint:partial]\n",
    "#database=[]\n",
    "\n",
    "import time\n",
    "start=time.time()\n",
    "\n",
    "with MPRester(API_KEY) as m:\n",
    "#    results = m.get_data(Temp[190], data_type='vasp')\n",
    "    for system in Temp2:\n",
    "        results = m.get_data(system, data_type='vasp') # Download DFT data for each binary system\n",
    "        if results !=[]:\n",
    "          for material in results: # We will receive many compounds within each binary system\n",
    "            if (material['band_gap']>0) and (material['e_above_hull'] < 1e-6): # Check if this compound is thermodynamically stable\n",
    "                #print(material['pretty_formula'] + ',' + str(material['band_gap'])) # Output band gap csv to the screen \n",
    "                database.append(material)\n",
    "timecost=time.time()-start\n",
    "#write to SemiDataBase pickle file\n",
    "from six.moves import cPickle as pickle\n",
    "pickle_file = 'SemiDataBase.pickle'\n",
    "\n",
    "try:\n",
    "  f = open(pickle_file, 'wb')\n",
    "  save = {\n",
    "    'database':database,\n",
    "    }\n",
    "  pickle.dump(save, f, pickle.HIGHEST_PROTOCOL)\n",
    "  f.close()\n",
    "except Exception as e:\n",
    "  print('Unable to save data to', pickle_file, ':', e)\n",
    "  raise"
   ]
  },
  {
   "cell_type": "markdown",
   "metadata": {},
   "source": [
    "# Load the saved Data"
   ]
  },
  {
   "cell_type": "code",
   "execution_count": 207,
   "metadata": {
    "collapsed": true
   },
   "outputs": [],
   "source": [
    "from six.moves import cPickle as pickle\n",
    "pickle_file = 'SemiDataBase.pickle'\n",
    "with open(pickle_file, 'rb') as f:\n",
    "  save = pickle.load(f)\n",
    "  database= save['database']\n",
    "  del save  # hint to help gc free up memory"
   ]
  },
  {
   "cell_type": "code",
   "execution_count": null,
   "metadata": {
    "collapsed": true
   },
   "outputs": [],
   "source": [
    "# a quick look at 11th item of data\n",
    "for key in database[11]:\n",
    "    print key,\">>>>>>>>>>>>>>>>>>>>>\",database[11][key]"
   ]
  },
  {
   "cell_type": "markdown",
   "metadata": {},
   "source": [
    "### The code below gives an intuitive look at the elements distribution in periodic table"
   ]
  },
  {
   "cell_type": "code",
   "execution_count": 223,
   "metadata": {
    "collapsed": false
   },
   "outputs": [
    {
     "name": "stdout",
     "output_type": "stream",
     "text": [
      "elements appear in the dataset\n",
      "##############################################################################################\n",
      "#    H   **   **   **   **   **   **   **   **   **   **   **   **   **   **   **   **   **  #\n",
      "#   Li   Be   **   **   **   **   **   **   **   **   **   **    B    C    N    O    F   **  #\n",
      "#   Na   Mg   **   **   **   **   **   **   **   **   **   **   Al   Si    P    S   Cl   **  #\n",
      "#    K   Ca   Sc   Ti    V   Cr   Mn   Fe   Co   Ni   Cu   Zn   Ga   Ge   As   Se   Br   **  #\n",
      "#   Rb   Sr    Y   Zr   Nb   Mo   Tc   Ru   Rh   Pd   Ag   Cd   In   Sn   Sb   Te    I   **  #\n",
      "#   Cs   Ba   **   Hf   Ta    W   Re   Os   Ir   Pt   Au   Hg   Tl   Pb   Bi   **   **   **  #\n",
      "#   **   **   **   **   **   **   **   **   **   **   **   **   **   **   **   **   **   **  #\n",
      "#   **   **   La   Ce   Pr   Nd   **   Sm   Eu   Gd   Tb   Dy   Ho   Er   Tm   Yb   Lu   **  #\n",
      "#   **   **   **   Th   **    U   **   **   **   **   **   **   **   **   **   **   **   **  #\n",
      "##############################################################################################\n",
      "Count of the elements appearance\n",
      "##############################################################################################\n",
      "#   38    0    0    0    0    0    0    0    0    0    0    0    0    0    0    0    0    0  #\n",
      "#   70    5    0    0    0    0    0    0    0    0    0    0  103   12   39  523   33    0  #\n",
      "#   90   38    0    0    0    0    0    0    0    0    0    0   28   48  168  343   43    0  #\n",
      "#  175   56   14   34   40   14   25   15   22   17   98   48   64   73  101  295   42    0  #\n",
      "#   87   48   12   10   45   32    2   13    4   15   61   68   68   67  105  148   71    0  #\n",
      "#   99  107    0    6   46    5    5    3    7   11    7   37   79   50  126    0    0    0  #\n",
      "#    0    0    0    0    0    0    0    0    0    0    0    0    0    0    0    0    0    0  #\n",
      "#    0    0   39   14   20   16    0   25   11   12   12   13   10    9    3    8    6    0  #\n",
      "#    0    0    0   13    0    6    0    0    0    0    0    0    0    0    0    0    0    0  #\n",
      "##############################################################################################\n"
     ]
    }
   ],
   "source": [
    "\n",
    "from pymatgen import MPRester, periodic_table\n",
    "from pymatgen import Composition, Element\n",
    "import itertools\n",
    "# list1=[1,2,3]\n",
    "# 4 in list1\n",
    "list2=[]\n",
    "# for ele in database[1][\"elements\"]:\n",
    "#     print ele\n",
    "#     print type(ele)\n",
    "#     list2.append(ele)\n",
    "\n",
    "# Creates a list containing 5 lists, each of 8 items, all set to 0\n",
    "\n",
    "# creat an matrix for periorod table\n",
    "\n",
    "w, h = 18, 9;\n",
    "Matrix = [['**' for x in range(w)] for y in range(h)] \n",
    "Matrix2 = [[0 for x in range(w)] for y in range(h)] \n",
    "\n",
    "for data in database:\n",
    "    for elem in data[\"elements\"]:\n",
    "#         elem.row()\n",
    "        if elem not in list2:\n",
    "            list2.append(elem)\n",
    "            Matrix[Element(elem).row-1][Element(elem).group-1]=elem\n",
    "for data in database:\n",
    "    for elem in data[\"elements\"]:          \n",
    "            Matrix2[Element(elem).row-1][Element(elem).group-1]=Matrix2[Element(elem).row-1][Element(elem).group-1]+1\n",
    "\n",
    "print \"elements appear in the dataset\"\n",
    "print \"#\"*94\n",
    "for row in range(h): \n",
    "    print \"#\",\n",
    "    for col in range(w):\n",
    "        print '%4s' % Matrix[row][col],\n",
    "    print \" #\",\n",
    "    print\n",
    "print \"#\"*94\n",
    "print \"Count of the elements appearance\"\n",
    "print \"#\"*94\n",
    "for row in range(h): \n",
    "    print \"#\",\n",
    "    for col in range(w):\n",
    "        print '%4d' % Matrix2[row][col],\n",
    "    print \" #\",\n",
    "    print\n",
    "print \"#\"*94"
   ]
  },
  {
   "cell_type": "markdown",
   "metadata": {},
   "source": [
    "## manipulate the data(make into traning data set format)"
   ]
  },
  {
   "cell_type": "markdown",
   "metadata": {},
   "source": [
    "This step will make three data sets, PTFeatures will be vectors with (9x18) dimensions represents the elements in periodic table. bandgaps will contains all the bandgap info."
   ]
  },
  {
   "cell_type": "code",
   "execution_count": 224,
   "metadata": {
    "collapsed": false
   },
   "outputs": [
    {
     "name": "stdout",
     "output_type": "stream",
     "text": [
      "data dimensions is (1530, 9, 18)\n",
      "label dimensions is (1530,)\n"
     ]
    }
   ],
   "source": [
    "materials = []\n",
    "bandgaps = []\n",
    "PTFeatures = []\n",
    "\n",
    "for item in database:\n",
    "    materials.append(item[\"full_formula\"])\n",
    "    bandgaps.append(item[\"band_gap\"])\n",
    "\n",
    "def PeriodicTableVectorize(composition):\n",
    "       vector = zeros((9,18)) # size of periodic table\n",
    "       for element in composition:\n",
    "               fraction = composition.get_atomic_fraction(element)\n",
    "               vector[element.row-1,element.group-1] = fraction\n",
    "       return(vector)\n",
    "\n",
    "for item in materials:\n",
    "       material = Composition(item)\n",
    "       PTFeatures.append(PeriodicTableVectorize(material)) #create features from chemical formula\n",
    "\n",
    "import numpy as np\n",
    "import random\n",
    "Fulldata=np.asarray(PTFeatures)\n",
    "print \"data dimensions is\", Fulldata.shape\n",
    "labels=np.asarray(bandgaps)\n",
    "print \"label dimensions is\", labels.shape\n",
    "# since the data it self is "
   ]
  },
  {
   "cell_type": "code",
   "execution_count": 225,
   "metadata": {
    "collapsed": true
   },
   "outputs": [],
   "source": [
    "def randomize(dataset, labels):\n",
    "  permutation = np.random.permutation(labels.shape[0])\n",
    "  shuffled_dataset = dataset[permutation,:,:]\n",
    "  shuffled_labels = labels[permutation]\n",
    "  return shuffled_dataset, shuffled_labels\n",
    "# train_dataset, train_labels = randomize(train_dataset, train_labels)\n",
    "# test_dataset, test_labels = randomize(test_dataset, test_labels)\n",
    "# valid_dataset, valid_labels = randomize(valid_dataset, valid_labels)\n",
    "\n",
    "# shuffle  the data\n",
    "Fulldata,labels=randomize(Fulldata,labels)"
   ]
  },
  {
   "cell_type": "code",
   "execution_count": 239,
   "metadata": {
    "collapsed": true
   },
   "outputs": [],
   "source": [
    "train_dataset=Fulldata[0:1300]\n",
    "train_labels=labels[0:1300]\n",
    "test_dataset=Fulldata[1300:1531]\n",
    "test_labels=labels[1300:1531]"
   ]
  },
  {
   "cell_type": "code",
   "execution_count": 244,
   "metadata": {
    "collapsed": false
   },
   "outputs": [
    {
     "data": {
      "text/plain": [
       "1300"
      ]
     },
     "execution_count": 244,
     "metadata": {},
     "output_type": "execute_result"
    }
   ],
   "source": [
    "train_dataset.shape[0]"
   ]
  },
  {
   "cell_type": "markdown",
   "metadata": {
    "collapsed": true
   },
   "source": [
    "## Linear Regression"
   ]
  },
  {
   "cell_type": "code",
   "execution_count": 247,
   "metadata": {
    "collapsed": false
   },
   "outputs": [
    {
     "name": "stdout",
     "output_type": "stream",
     "text": [
      "The MAE of always guessing the average band gap is: 1.081 eV\n"
     ]
    }
   ],
   "source": [
    "baselineError = mean(abs(mean(train_labels) - train_labels))\n",
    "print(\"The MAE of always guessing the average band gap is: \" + str(round(baselineError, 3)) + \" eV\")"
   ]
  },
  {
   "cell_type": "code",
   "execution_count": 274,
   "metadata": {
    "collapsed": false,
    "scrolled": true
   },
   "outputs": [
    {
     "name": "stdout",
     "output_type": "stream",
     "text": [
      "The MAE of the linear ridge regression band gap model using the naive feature set is: 0.686 eV\n"
     ]
    },
    {
     "data": {
      "image/png": "[encoded data removed]",
      "text/plain": [
       "<matplotlib.figure.Figure at 0x7fe10afe5650>"
      ]
     },
     "metadata": {},
     "output_type": "display_data"
    }
   ],
   "source": [
    "# Train linear ridge regression model using naive feature set\n",
    "import warnings\n",
    "warnings.filterwarnings('ignore')\n",
    "from sklearn import linear_model, cross_validation, metrics, ensemble\n",
    "num_samples=train_dataset.shape[0]\n",
    "#this won't work if num_samples are too small, if num_samples is too small, all Y is 0( the first number type), so it has to be large engouh\n",
    "(samples, width, height) = train_dataset.shape\n",
    "X = np.reshape(train_dataset,(samples,width*height))[0:num_samples]\n",
    "Y = train_labels[0:num_samples]\n",
    "\n",
    "#alpha is a tuning parameter affecting how regression deals with collinear inputs\n",
    "linear = linear_model.Ridge(alpha = 0.6)  \n",
    "\n",
    "cv = cross_validation.ShuffleSplit(len(Y),n_iter=10, test_size=0.1, random_state=0)\n",
    "\n",
    "scores = cross_validation.cross_val_score(linear, X,Y, cv=cv, scoring='mean_absolute_error')\n",
    "\n",
    "print(\"The MAE of the linear ridge regression band gap model using the naive feature set is: \"+ str(round(abs(mean(scores)), 3)) + \" eV\")\n",
    "############# plot it##########################################\n",
    "from sklearn.model_selection import cross_val_predict\n",
    "predicted = cross_val_predict(linear, X, Y, cv=10)\n",
    "import matplotlib.pyplot as plt\n",
    "fig, ax = plt.subplots()\n",
    "ax.scatter(Y, predicted)\n",
    "ax.plot([Y.min(), Y.max()], [Y.min(), Y.max()], 'k--', lw=2)\n",
    "ax.set_xlabel('Measured')\n",
    "ax.set_ylabel('Predicted')\n",
    "plt.show()"
   ]
  },
  {
   "cell_type": "code",
   "execution_count": null,
   "metadata": {
    "collapsed": true
   },
   "outputs": [],
   "source": []
  }
 ],
 "metadata": {
  "kernelspec": {
   "display_name": "Python 2",
   "language": "python",
   "name": "python2"
  },
  "language_info": {
   "codemirror_mode": {
    "name": "ipython",
    "version": 2
   },
   "file_extension": ".py",
   "mimetype": "text/x-python",
   "name": "python",
   "nbconvert_exporter": "python",
   "pygments_lexer": "ipython2",
   "version": "2.7.6"
  }
 },
 "nbformat": 4,
 "nbformat_minor": 1
}
