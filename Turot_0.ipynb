{
 "cells": [
  {
   "cell_type": "code",
   "execution_count": null,
   "metadata": {
    "collapsed": true
   },
   "outputs": [],
   "source": [
    "# old code from online instructions at https://contact.citrine.io/blog/2015/3/3/machine-learning-mat-sci-1\n",
    "# doesn't work, seems that developer at material project delete the API for make all combinations from periodic_table\n",
    "# from pymatgen import MPRester, periodic_table\n",
    "# import itertools\n",
    "\n",
    "# API_KEY = 'IJeQxmCAHlrKGW4T' # You have to register with Materials Project to receive an API\n",
    "\n",
    "# # There are 103 elements in pymatgen's list, giving C(103, 2) = 5253 binary systems\n",
    "# allBinaries = itertools.combinations(periodic_table.Specie, 2) # Create list of all binary systems\n",
    "\n",
    "# with MPRester(API_KEY) as m:\n",
    "#     for system in allBinaries:\n",
    "#         results = m.get_data(system[0] + '-' + system[1], data_type='vasp') # Download DFT data for each binary system\n",
    "#         for material in results: # We will receive many compounds within each binary system\n",
    "#             if material['e_above_hull'] < 1e-6: # Check if this compound is thermodynamically stable\n",
    "#                 print(material['pretty_formula'] + ',' + str(material['band_gap'])) # Output band gap csv to the screen      "
   ]
  },
  {
   "cell_type": "markdown",
   "metadata": {},
   "source": [
    "### The data below comes from following database\n",
    "http://bg.imet-db.ru/api/"
   ]
  },
  {
   "cell_type": "code",
   "execution_count": 62,
   "metadata": {
    "collapsed": true
   },
   "outputs": [],
   "source": [
    "import urllib2  # the lib that handles the url stuff\n",
    "data = urllib2.urlopen(\"http://bg.imet-db.ru/api/?mode=system&format=json\") # it's a file like object and works just like a file\n",
    "for line in data: # files are iterable\n",
    "    Temp=eval(line)\n",
    "    #print line\n",
    "# typo \")-Cr-Li-Te\"\n",
    "Temp[0]=\"Cr-Li-Te\"\n",
    "# typo \"0-Ga-Sn-Zn\"\n",
    "Temp[1]=\"Ga-Sn-Zn\"\n",
    "# typo 'Mn-S1-Sb-Sm'\n",
    "Temp[1772]=\"Mn-S-Sb-Sm\"\n",
    "# this one is not in material project\n",
    "Temp.remove(\"As-Pb-S-Sb\")"
   ]
  },
  {
   "cell_type": "markdown",
   "metadata": {},
   "source": [
    "### Somedata they are connected with ',' instead of '-', below is the code to replace"
   ]
  },
  {
   "cell_type": "code",
   "execution_count": 244,
   "metadata": {
    "collapsed": true
   },
   "outputs": [],
   "source": [
    "for i,elem in enumerate(Temp):\n",
    "    if ',' in elem: \n",
    "#        print elem\n",
    "#        print elem.replace(',','-')\n",
    "        Temp[i]=elem.replace(',','-')\n",
    "# another mistake in the database to fix\n",
    "    if elem=='Bi-e-K-Rb': Temp[i]='Bi-Er-K-Rb' #\n",
    "    if elem=='Cu-Se-Si-Zm': Temp[i]='Cu-Se-Si-Sm' #"
   ]
  },
  {
   "cell_type": "markdown",
   "metadata": {},
   "source": [
    "## Save the index data to pickle file"
   ]
  },
  {
   "cell_type": "code",
   "execution_count": 249,
   "metadata": {
    "collapsed": true
   },
   "outputs": [],
   "source": [
    "from six.moves import cPickle as pickle\n",
    "pickle_file = 'SemicoductorSystems.pickle'\n",
    "\n",
    "try:\n",
    "  f = open(pickle_file, 'wb')\n",
    "  save = {\n",
    "    'Namesys':Temp,\n",
    "    }\n",
    "  pickle.dump(save, f, pickle.HIGHEST_PROTOCOL)\n",
    "  f.close()\n",
    "except Exception as e:\n",
    "  print('Unable to save data to', pickle_file, ':', e)\n",
    "  raise"
   ]
  },
  {
   "cell_type": "markdown",
   "metadata": {},
   "source": [
    "## Load the index data from pickle file"
   ]
  },
  {
   "cell_type": "code",
   "execution_count": 68,
   "metadata": {
    "collapsed": false
   },
   "outputs": [],
   "source": [
    "from six.moves import cPickle as pickle\n",
    "pickle_file = 'SemicoductorSystems.pickle'\n",
    "with open(pickle_file, 'rb') as f:\n",
    "  save = pickle.load(f)\n",
    "  Temp = save['Namesys']\n",
    "  del save  # hint to help gc free up memory"
   ]
  },
  {
   "cell_type": "markdown",
   "metadata": {},
   "source": [
    "## Dowload the data and Save to pickle file \n",
    "Now lets download some data from material project data base at \n",
    "https://materialsproject.org"
   ]
  },
  {
   "cell_type": "code",
   "execution_count": null,
   "metadata": {
    "collapsed": true
   },
   "outputs": [],
   "source": [
    "from pymatgen import MPRester, periodic_table\n",
    "import itertools\n",
    "\n",
    "API_KEY = 'IJeQxmCAHlrKGW4T' # You have to register with Materials Project to receive an API\n",
    "#partial=10\n",
    "partial=len(Temp)\n",
    "breakpoint=1162\n",
    "Temp2=Temp[breakpoint:partial]\n",
    "#database=[]\n",
    "\n",
    "import time\n",
    "start=time.time()\n",
    "\n",
    "with MPRester(API_KEY) as m:\n",
    "#    results = m.get_data(Temp[190], data_type='vasp')\n",
    "    for system in Temp2:\n",
    "        results = m.get_data(system, data_type='vasp') # Download DFT data for each binary system\n",
    "        if results !=[]:\n",
    "          for material in results: # We will receive many compounds within each binary system\n",
    "            if (material['band_gap']>0) and (material['e_above_hull'] < 1e-6): # Check if this compound is thermodynamically stable\n",
    "                #print(material['pretty_formula'] + ',' + str(material['band_gap'])) # Output band gap csv to the screen \n",
    "                database.append(material)\n",
    "timecost=time.time()-start\n",
    "#write to SemiDataBase pickle file\n",
    "from six.moves import cPickle as pickle\n",
    "pickle_file = 'SemiDataBase.pickle'\n",
    "\n",
    "try:\n",
    "  f = open(pickle_file, 'wb')\n",
    "  save = {\n",
    "    'database':database,\n",
    "    }\n",
    "  pickle.dump(save, f, pickle.HIGHEST_PROTOCOL)\n",
    "  f.close()\n",
    "except Exception as e:\n",
    "  print('Unable to save data to', pickle_file, ':', e)\n",
    "  raise"
   ]
  },
  {
   "cell_type": "markdown",
   "metadata": {},
   "source": [
    "# Load the saved Data"
   ]
  },
  {
   "cell_type": "code",
   "execution_count": 207,
   "metadata": {
    "collapsed": true
   },
   "outputs": [],
   "source": [
    "from six.moves import cPickle as pickle\n",
    "pickle_file = 'SemiDataBase.pickle'\n",
    "with open(pickle_file, 'rb') as f:\n",
    "  save = pickle.load(f)\n",
    "  database= save['database']\n",
    "  del save  # hint to help gc free up memory"
   ]
  },
  {
   "cell_type": "code",
   "execution_count": null,
   "metadata": {
    "collapsed": true
   },
   "outputs": [],
   "source": [
    "# a quick look at 11th item of data\n",
    "for key in database[11]:\n",
    "    print key,\">>>>>>>>>>>>>>>>>>>>>\",database[11][key]"
   ]
  },
  {
   "cell_type": "markdown",
   "metadata": {},
   "source": [
    "### The code below gives an intuitive look at the elements distribution in periodic table"
   ]
  },
  {
   "cell_type": "code",
   "execution_count": 223,
   "metadata": {
    "collapsed": false
   },
   "outputs": [
    {
     "name": "stdout",
     "output_type": "stream",
     "text": [
      "elements appear in the dataset\n",
      "##############################################################################################\n",
      "#    H   **   **   **   **   **   **   **   **   **   **   **   **   **   **   **   **   **  #\n",
      "#   Li   Be   **   **   **   **   **   **   **   **   **   **    B    C    N    O    F   **  #\n",
      "#   Na   Mg   **   **   **   **   **   **   **   **   **   **   Al   Si    P    S   Cl   **  #\n",
      "#    K   Ca   Sc   Ti    V   Cr   Mn   Fe   Co   Ni   Cu   Zn   Ga   Ge   As   Se   Br   **  #\n",
      "#   Rb   Sr    Y   Zr   Nb   Mo   Tc   Ru   Rh   Pd   Ag   Cd   In   Sn   Sb   Te    I   **  #\n",
      "#   Cs   Ba   **   Hf   Ta    W   Re   Os   Ir   Pt   Au   Hg   Tl   Pb   Bi   **   **   **  #\n",
      "#   **   **   **   **   **   **   **   **   **   **   **   **   **   **   **   **   **   **  #\n",
      "#   **   **   La   Ce   Pr   Nd   **   Sm   Eu   Gd   Tb   Dy   Ho   Er   Tm   Yb   Lu   **  #\n",
      "#   **   **   **   Th   **    U   **   **   **   **   **   **   **   **   **   **   **   **  #\n",
      "##############################################################################################\n",
      "Count of the elements appearance\n",
      "##############################################################################################\n",
      "#   38    0    0    0    0    0    0    0    0    0    0    0    0    0    0    0    0    0  #\n",
      "#   70    5    0    0    0    0    0    0    0    0    0    0  103   12   39  523   33    0  #\n",
      "#   90   38    0    0    0    0    0    0    0    0    0    0   28   48  168  343   43    0  #\n",
      "#  175   56   14   34   40   14   25   15   22   17   98   48   64   73  101  295   42    0  #\n",
      "#   87   48   12   10   45   32    2   13    4   15   61   68   68   67  105  148   71    0  #\n",
      "#   99  107    0    6   46    5    5    3    7   11    7   37   79   50  126    0    0    0  #\n",
      "#    0    0    0    0    0    0    0    0    0    0    0    0    0    0    0    0    0    0  #\n",
      "#    0    0   39   14   20   16    0   25   11   12   12   13   10    9    3    8    6    0  #\n",
      "#    0    0    0   13    0    6    0    0    0    0    0    0    0    0    0    0    0    0  #\n",
      "##############################################################################################\n"
     ]
    }
   ],
   "source": [
    "\n",
    "from pymatgen import MPRester, periodic_table\n",
    "from pymatgen import Composition, Element\n",
    "import itertools\n",
    "# list1=[1,2,3]\n",
    "# 4 in list1\n",
    "list2=[]\n",
    "# for ele in database[1][\"elements\"]:\n",
    "#     print ele\n",
    "#     print type(ele)\n",
    "#     list2.append(ele)\n",
    "\n",
    "# Creates a list containing 5 lists, each of 8 items, all set to 0\n",
    "\n",
    "# creat an matrix for periorod table\n",
    "\n",
    "w, h = 18, 9;\n",
    "Matrix = [['**' for x in range(w)] for y in range(h)] \n",
    "Matrix2 = [[0 for x in range(w)] for y in range(h)] \n",
    "\n",
    "for data in database:\n",
    "    for elem in data[\"elements\"]:\n",
    "#         elem.row()\n",
    "        if elem not in list2:\n",
    "            list2.append(elem)\n",
    "            Matrix[Element(elem).row-1][Element(elem).group-1]=elem\n",
    "for data in database:\n",
    "    for elem in data[\"elements\"]:          \n",
    "            Matrix2[Element(elem).row-1][Element(elem).group-1]=Matrix2[Element(elem).row-1][Element(elem).group-1]+1\n",
    "\n",
    "print \"elements appear in the dataset\"\n",
    "print \"#\"*94\n",
    "for row in range(h): \n",
    "    print \"#\",\n",
    "    for col in range(w):\n",
    "        print '%4s' % Matrix[row][col],\n",
    "    print \" #\",\n",
    "    print\n",
    "print \"#\"*94\n",
    "print \"Count of the elements appearance\"\n",
    "print \"#\"*94\n",
    "for row in range(h): \n",
    "    print \"#\",\n",
    "    for col in range(w):\n",
    "        print '%4d' % Matrix2[row][col],\n",
    "    print \" #\",\n",
    "    print\n",
    "print \"#\"*94"
   ]
  },
  {
   "cell_type": "markdown",
   "metadata": {},
   "source": [
    "## manipulate the data(make into traning data set format)"
   ]
  },
  {
   "cell_type": "markdown",
   "metadata": {},
   "source": [
    "This step will make three data sets, PTFeatures will be vectors with (9x18) dimensions represents the elements in periodic table. bandgaps will contains all the bandgap info."
   ]
  },
  {
   "cell_type": "code",
   "execution_count": 224,
   "metadata": {
    "collapsed": false
   },
   "outputs": [
    {
     "name": "stdout",
     "output_type": "stream",
     "text": [
      "data dimensions is (1530, 9, 18)\n",
      "label dimensions is (1530,)\n"
     ]
    }
   ],
   "source": [
    "materials = []\n",
    "bandgaps = []\n",
    "PTFeatures = []\n",
    "\n",
    "for item in database:\n",
    "    materials.append(item[\"full_formula\"])\n",
    "    bandgaps.append(item[\"band_gap\"])\n",
    "\n",
    "def PeriodicTableVectorize(composition):\n",
    "       vector = zeros((9,18)) # size of periodic table\n",
    "       for element in composition:\n",
    "               fraction = composition.get_atomic_fraction(element)\n",
    "               vector[element.row-1,element.group-1] = fraction\n",
    "       return(vector)\n",
    "\n",
    "for item in materials:\n",
    "       material = Composition(item)\n",
    "       PTFeatures.append(PeriodicTableVectorize(material)) #create features from chemical formula\n",
    "\n",
    "import numpy as np\n",
    "import random\n",
    "Fulldata=np.asarray(PTFeatures)\n",
    "print \"data dimensions is\", Fulldata.shape\n",
    "labels=np.asarray(bandgaps)\n",
    "print \"label dimensions is\", labels.shape\n",
    "# since the data it self is "
   ]
  },
  {
   "cell_type": "code",
   "execution_count": 225,
   "metadata": {
    "collapsed": true
   },
   "outputs": [],
   "source": [
    "def randomize(dataset, labels):\n",
    "  permutation = np.random.permutation(labels.shape[0])\n",
    "  shuffled_dataset = dataset[permutation,:,:]\n",
    "  shuffled_labels = labels[permutation]\n",
    "  return shuffled_dataset, shuffled_labels\n",
    "# train_dataset, train_labels = randomize(train_dataset, train_labels)\n",
    "# test_dataset, test_labels = randomize(test_dataset, test_labels)\n",
    "# valid_dataset, valid_labels = randomize(valid_dataset, valid_labels)\n",
    "\n",
    "# shuffle  the data\n",
    "Fulldata,labels=randomize(Fulldata,labels)"
   ]
  },
  {
   "cell_type": "code",
   "execution_count": 239,
   "metadata": {
    "collapsed": true
   },
   "outputs": [],
   "source": [
    "train_dataset=Fulldata[0:1300]\n",
    "train_labels=labels[0:1300]\n",
    "test_dataset=Fulldata[1300:1531]\n",
    "test_labels=labels[1300:1531]"
   ]
  },
  {
   "cell_type": "code",
   "execution_count": 244,
   "metadata": {
    "collapsed": false
   },
   "outputs": [
    {
     "data": {
      "text/plain": [
       "1300"
      ]
     },
     "execution_count": 244,
     "metadata": {},
     "output_type": "execute_result"
    }
   ],
   "source": [
    "train_dataset.shape[0]"
   ]
  },
  {
   "cell_type": "markdown",
   "metadata": {
    "collapsed": true
   },
   "source": [
    "## Linear Regression"
   ]
  },
  {
   "cell_type": "code",
   "execution_count": 247,
   "metadata": {
    "collapsed": false
   },
   "outputs": [
    {
     "name": "stdout",
     "output_type": "stream",
     "text": [
      "The MAE of always guessing the average band gap is: 1.081 eV\n"
     ]
    }
   ],
   "source": [
    "baselineError = mean(abs(mean(train_labels) - train_labels))\n",
    "print(\"The MAE of always guessing the average band gap is: \" + str(round(baselineError, 3)) + \" eV\")"
   ]
  },
  {
   "cell_type": "code",
   "execution_count": 274,
   "metadata": {
    "collapsed": false,
    "scrolled": true
   },
   "outputs": [
    {
     "name": "stdout",
     "output_type": "stream",
     "text": [
      "The MAE of the linear ridge regression band gap model using the naive feature set is: 0.686 eV\n"
     ]
    },
    {
     "data": {
      "image/png": "[encoded data removed]",
      "text/plain": [
       "<matplotlib.figure.Figure at 0x7fe10afe5650>"
      ]
     },
     "metadata": {},
     "output_type": "display_data"
    }
   ],
   "source": [
    "# Train linear ridge regression model using naive feature set\n",
    "import warnings\n",
    "warnings.filterwarnings('ignore')\n",
    "from sklearn import linear_model, cross_validation, metrics, ensemble\n",
    "num_samples=train_dataset.shape[0]\n",
    "#this won't work if num_samples are too small, if num_samples is too small, all Y is 0( the first number type), so it has to be large engouh\n",
    "(samples, width, height) = train_dataset.shape\n",
    "X = np.reshape(train_dataset,(samples,width*height))[0:num_samples]\n",
    "Y = train_labels[0:num_samples]\n",
    "\n",
    "#alpha is a tuning parameter affecting how regression deals with collinear inputs\n",
    "linear = linear_model.Ridge(alpha = 0.6)  \n",
    "\n",
    "cv = cross_validation.ShuffleSplit(len(Y),n_iter=10, test_size=0.1, random_state=0)\n",
    "\n",
    "scores = cross_validation.cross_val_score(linear, X,Y, cv=cv, scoring='mean_absolute_error')\n",
    "\n",
    "print(\"The MAE of the linear ridge regression band gap model using the naive feature set is: \"+ str(round(abs(mean(scores)), 3)) + \" eV\")\n",
    "############# plot it##########################################\n",
    "from sklearn.model_selection import cross_val_predict\n",
    "predicted = cross_val_predict(linear, X, Y, cv=10)\n",
    "import matplotlib.pyplot as plt\n",
    "fig, ax = plt.subplots()\n",
    "ax.scatter(Y, predicted)\n",
    "ax.plot([Y.min(), Y.max()], [Y.min(), Y.max()], 'k--', lw=2)\n",
    "ax.set_xlabel('Measured')\n",
    "ax.set_ylabel('Predicted')\n",
    "plt.show()"
   ]
  },
  {
   "cell_type": "code",
   "execution_count": null,
   "metadata": {
    "collapsed": true
   },
   "outputs": [],
   "source": []
  }
 ],
 "metadata": {
  "kernelspec": {
   "display_name": "Python 2",
   "language": "python",
   "name": "python2"
  },
  "language_info": {
   "codemirror_mode": {
    "name": "ipython",
    "version": 2
   },
   "file_extension": ".py",
   "mimetype": "text/x-python",
   "name": "python",
   "nbconvert_exporter": "python",
   "pygments_lexer": "ipython2",
   "version": "2.7.6"
  }
 },
 "nbformat": 4,
 "nbformat_minor": 1
}
