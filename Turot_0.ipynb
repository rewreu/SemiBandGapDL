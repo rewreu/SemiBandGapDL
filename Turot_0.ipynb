{
 "cells": [
  {
   "cell_type": "code",
   "execution_count": null,
   "metadata": {
    "collapsed": true
   },
   "outputs": [],
   "source": [
    "# old code from online instructions at https://contact.citrine.io/blog/2015/3/3/machine-learning-mat-sci-1\n",
    "# doesn't work, seems that developer at material project delete the API for make all combinations from periodic_table\n",
    "# from pymatgen import MPRester, periodic_table\n",
    "# import itertools\n",
    "\n",
    "# API_KEY = 'IJeQxmCAHlrKGW4T' # You have to register with Materials Project to receive an API\n",
    "\n",
    "# # There are 103 elements in pymatgen's list, giving C(103, 2) = 5253 binary systems\n",
    "# allBinaries = itertools.combinations(periodic_table.Specie, 2) # Create list of all binary systems\n",
    "\n",
    "# with MPRester(API_KEY) as m:\n",
    "#     for system in allBinaries:\n",
    "#         results = m.get_data(system[0] + '-' + system[1], data_type='vasp') # Download DFT data for each binary system\n",
    "#         for material in results: # We will receive many compounds within each binary system\n",
    "#             if material['e_above_hull'] < 1e-6: # Check if this compound is thermodynamically stable\n",
    "#                 print(material['pretty_formula'] + ',' + str(material['band_gap'])) # Output band gap csv to the screen      "
   ]
  },
  {
   "cell_type": "markdown",
   "metadata": {},
   "source": [
    "### The data below comes from following database\n",
    "http://bg.imet-db.ru/api/"
   ]
  },
  {
   "cell_type": "code",
   "execution_count": 62,
   "metadata": {
    "collapsed": true
   },
   "outputs": [],
   "source": [
    "import urllib2  # the lib that handles the url stuff\n",
    "data = urllib2.urlopen(\"http://bg.imet-db.ru/api/?mode=system&format=json\") # it's a file like object and works just like a file\n",
    "for line in data: # files are iterable\n",
    "    Temp=eval(line)\n",
    "    #print line\n",
    "# typo \")-Cr-Li-Te\"\n",
    "Temp[0]=\"Cr-Li-Te\"\n",
    "# typo \"0-Ga-Sn-Zn\"\n",
    "Temp[1]=\"Ga-Sn-Zn\"\n",
    "# typo 'Mn-S1-Sb-Sm'\n",
    "Temp[1772]=\"Mn-S-Sb-Sm\"\n",
    "# this one is not in material project\n",
    "Temp.remove(\"As-Pb-S-Sb\")"
   ]
  },
  {
   "cell_type": "markdown",
   "metadata": {},
   "source": [
    "### Somedata they are connected with ',' instead of '-', below is the code to replace"
   ]
  },
  {
   "cell_type": "code",
   "execution_count": 244,
   "metadata": {
    "collapsed": true
   },
   "outputs": [],
   "source": [
    "for i,elem in enumerate(Temp):\n",
    "    if ',' in elem: \n",
    "#        print elem\n",
    "#        print elem.replace(',','-')\n",
    "        Temp[i]=elem.replace(',','-')\n",
    "# another mistake in the database to fix\n",
    "    if elem=='Bi-e-K-Rb': Temp[i]='Bi-Er-K-Rb' #\n",
    "    if elem=='Cu-Se-Si-Zm': Temp[i]='Cu-Se-Si-Sm' #"
   ]
  },
  {
   "cell_type": "markdown",
   "metadata": {},
   "source": [
    "## Save the index data to pickle file"
   ]
  },
  {
   "cell_type": "code",
   "execution_count": 249,
   "metadata": {
    "collapsed": true
   },
   "outputs": [],
   "source": [
    "from six.moves import cPickle as pickle\n",
    "pickle_file = 'SemicoductorSystems.pickle'\n",
    "\n",
    "try:\n",
    "  f = open(pickle_file, 'wb')\n",
    "  save = {\n",
    "    'Namesys':Temp,\n",
    "    }\n",
    "  pickle.dump(save, f, pickle.HIGHEST_PROTOCOL)\n",
    "  f.close()\n",
    "except Exception as e:\n",
    "  print('Unable to save data to', pickle_file, ':', e)\n",
    "  raise"
   ]
  },
  {
   "cell_type": "markdown",
   "metadata": {},
   "source": [
    "## Load the index data from pickle file"
   ]
  },
  {
   "cell_type": "code",
   "execution_count": 68,
   "metadata": {
    "collapsed": false
   },
   "outputs": [],
   "source": [
    "from six.moves import cPickle as pickle\n",
    "pickle_file = 'SemicoductorSystems.pickle'\n",
    "with open(pickle_file, 'rb') as f:\n",
    "  save = pickle.load(f)\n",
    "  Temp = save['Namesys']\n",
    "  del save  # hint to help gc free up memory"
   ]
  },
  {
   "cell_type": "markdown",
   "metadata": {},
   "source": [
    "## Dowload the data and Save to pickle file \n",
    "Now lets download some data from material project data base at \n",
    "https://materialsproject.org"
   ]
  },
  {
   "cell_type": "code",
   "execution_count": null,
   "metadata": {
    "collapsed": true
   },
   "outputs": [],
   "source": [
    "import warnings\n",
    "warnings.filterwarnings('ignore')\n",
    "\n",
    "from pymatgen import MPRester, periodic_table\n",
    "import itertools\n",
    "\n",
    "API_KEY = 'IJeQxmCAHlrKGW4T' # You have to register with Materials Project to receive an API\n",
    "#partial=10\n",
    "partial=len(Temp)\n",
    "breakpoint=1162\n",
    "Temp2=Temp[breakpoint:partial]\n",
    "#database=[]\n",
    "\n",
    "import time\n",
    "start=time.time()\n",
    "\n",
    "with MPRester(API_KEY) as m:\n",
    "#    results = m.get_data(Temp[190], data_type='vasp')\n",
    "    for system in Temp2:\n",
    "        results = m.get_data(system, data_type='vasp') # Download DFT data for each binary system\n",
    "        if results !=[]:\n",
    "          for material in results: # We will receive many compounds within each binary system\n",
    "            if (material['band_gap']>0) and (material['e_above_hull'] < 1e-6): # Check if this compound is thermodynamically stable\n",
    "                #print(material['pretty_formula'] + ',' + str(material['band_gap'])) # Output band gap csv to the screen \n",
    "                database.append(material)\n",
    "timecost=time.time()-start\n",
    "#write to SemiDataBase pickle file\n",
    "from six.moves import cPickle as pickle\n",
    "pickle_file = 'SemiDataBase.pickle'\n",
    "\n",
    "try:\n",
    "  f = open(pickle_file, 'wb')\n",
    "  save = {\n",
    "    'database':database,\n",
    "    }\n",
    "  pickle.dump(save, f, pickle.HIGHEST_PROTOCOL)\n",
    "  f.close()\n",
    "except Exception as e:\n",
    "  print('Unable to save data to', pickle_file, ':', e)\n",
    "  raise"
   ]
  },
  {
   "cell_type": "markdown",
   "metadata": {},
   "source": [
    "# Load the saved Data"
   ]
  },
  {
   "cell_type": "code",
   "execution_count": 207,
   "metadata": {
    "collapsed": true
   },
   "outputs": [],
   "source": [
    "from six.moves import cPickle as pickle\n",
    "pickle_file = 'SemiDataBase.pickle'\n",
    "with open(pickle_file, 'rb') as f:\n",
    "  save = pickle.load(f)\n",
    "  database= save['database']\n",
    "  del save  # hint to help gc free up memory"
   ]
  },
  {
   "cell_type": "code",
   "execution_count": null,
   "metadata": {
    "collapsed": true
   },
   "outputs": [],
   "source": [
    "# a quick look at 11th item of data\n",
    "for key in database[11]:\n",
    "    print key,\">>>>>>>>>>>>>>>>>>>>>\",database[11][key]"
   ]
  },
  {
   "cell_type": "markdown",
   "metadata": {},
   "source": [
    "### The code below gives an intuitive look at the elements distribution in periodic table"
   ]
  },
  {
   "cell_type": "code",
   "execution_count": 223,
   "metadata": {
    "collapsed": false
   },
   "outputs": [
    {
     "name": "stdout",
     "output_type": "stream",
     "text": [
      "elements appear in the dataset\n",
      "##############################################################################################\n",
      "#    H   **   **   **   **   **   **   **   **   **   **   **   **   **   **   **   **   **  #\n",
      "#   Li   Be   **   **   **   **   **   **   **   **   **   **    B    C    N    O    F   **  #\n",
      "#   Na   Mg   **   **   **   **   **   **   **   **   **   **   Al   Si    P    S   Cl   **  #\n",
      "#    K   Ca   Sc   Ti    V   Cr   Mn   Fe   Co   Ni   Cu   Zn   Ga   Ge   As   Se   Br   **  #\n",
      "#   Rb   Sr    Y   Zr   Nb   Mo   Tc   Ru   Rh   Pd   Ag   Cd   In   Sn   Sb   Te    I   **  #\n",
      "#   Cs   Ba   **   Hf   Ta    W   Re   Os   Ir   Pt   Au   Hg   Tl   Pb   Bi   **   **   **  #\n",
      "#   **   **   **   **   **   **   **   **   **   **   **   **   **   **   **   **   **   **  #\n",
      "#   **   **   La   Ce   Pr   Nd   **   Sm   Eu   Gd   Tb   Dy   Ho   Er   Tm   Yb   Lu   **  #\n",
      "#   **   **   **   Th   **    U   **   **   **   **   **   **   **   **   **   **   **   **  #\n",
      "##############################################################################################\n",
      "Count of the elements appearance\n",
      "##############################################################################################\n",
      "#   38    0    0    0    0    0    0    0    0    0    0    0    0    0    0    0    0    0  #\n",
      "#   70    5    0    0    0    0    0    0    0    0    0    0  103   12   39  523   33    0  #\n",
      "#   90   38    0    0    0    0    0    0    0    0    0    0   28   48  168  343   43    0  #\n",
      "#  175   56   14   34   40   14   25   15   22   17   98   48   64   73  101  295   42    0  #\n",
      "#   87   48   12   10   45   32    2   13    4   15   61   68   68   67  105  148   71    0  #\n",
      "#   99  107    0    6   46    5    5    3    7   11    7   37   79   50  126    0    0    0  #\n",
      "#    0    0    0    0    0    0    0    0    0    0    0    0    0    0    0    0    0    0  #\n",
      "#    0    0   39   14   20   16    0   25   11   12   12   13   10    9    3    8    6    0  #\n",
      "#    0    0    0   13    0    6    0    0    0    0    0    0    0    0    0    0    0    0  #\n",
      "##############################################################################################\n"
     ]
    }
   ],
   "source": [
    "\n",
    "from pymatgen import MPRester, periodic_table\n",
    "from pymatgen import Composition, Element\n",
    "import itertools\n",
    "# list1=[1,2,3]\n",
    "# 4 in list1\n",
    "list2=[]\n",
    "# for ele in database[1][\"elements\"]:\n",
    "#     print ele\n",
    "#     print type(ele)\n",
    "#     list2.append(ele)\n",
    "\n",
    "# Creates a list containing 5 lists, each of 8 items, all set to 0\n",
    "\n",
    "# creat an matrix for periorod table\n",
    "\n",
    "w, h = 18, 9;\n",
    "Matrix = [['**' for x in range(w)] for y in range(h)] \n",
    "Matrix2 = [[0 for x in range(w)] for y in range(h)] \n",
    "\n",
    "for data in database:\n",
    "    for elem in data[\"elements\"]:\n",
    "#         elem.row()\n",
    "        if elem not in list2:\n",
    "            list2.append(elem)\n",
    "            Matrix[Element(elem).row-1][Element(elem).group-1]=elem\n",
    "for data in database:\n",
    "    for elem in data[\"elements\"]:          \n",
    "            Matrix2[Element(elem).row-1][Element(elem).group-1]=Matrix2[Element(elem).row-1][Element(elem).group-1]+1\n",
    "\n",
    "print \"elements appear in the dataset\"\n",
    "print \"#\"*94\n",
    "for row in range(h): \n",
    "    print \"#\",\n",
    "    for col in range(w):\n",
    "        print '%4s' % Matrix[row][col],\n",
    "    print \" #\",\n",
    "    print\n",
    "print \"#\"*94\n",
    "print \"Count of the elements appearance\"\n",
    "print \"#\"*94\n",
    "for row in range(h): \n",
    "    print \"#\",\n",
    "    for col in range(w):\n",
    "        print '%4d' % Matrix2[row][col],\n",
    "    print \" #\",\n",
    "    print\n",
    "print \"#\"*94"
   ]
  },
  {
   "cell_type": "markdown",
   "metadata": {},
   "source": [
    "## manipulate the data(make into traning data set format)"
   ]
  },
  {
   "cell_type": "markdown",
   "metadata": {},
   "source": [
    "This step will make three data sets, PTFeatures will be vectors with (9x18) dimensions represents the elements in periodic table. bandgaps will contains all the bandgap info."
   ]
  },
  {
   "cell_type": "code",
   "execution_count": 224,
   "metadata": {
    "collapsed": false
   },
   "outputs": [
    {
     "name": "stdout",
     "output_type": "stream",
     "text": [
      "data dimensions is (1530, 9, 18)\n",
      "label dimensions is (1530,)\n"
     ]
    }
   ],
   "source": [
    "materials = []\n",
    "bandgaps = []\n",
    "PTFeatures = []\n",
    "\n",
    "for item in database:\n",
    "    materials.append(item[\"full_formula\"])\n",
    "    bandgaps.append(item[\"band_gap\"])\n",
    "\n",
    "def PeriodicTableVectorize(composition):\n",
    "       vector = zeros((9,18)) # size of periodic table\n",
    "       for element in composition:\n",
    "               fraction = composition.get_atomic_fraction(element)\n",
    "               vector[element.row-1,element.group-1] = fraction\n",
    "       return(vector)\n",
    "\n",
    "for item in materials:\n",
    "       material = Composition(item)\n",
    "       PTFeatures.append(PeriodicTableVectorize(material)) #create features from chemical formula\n",
    "\n",
    "import numpy as np\n",
    "import random\n",
    "Fulldata=np.asarray(PTFeatures)\n",
    "print \"data dimensions is\", Fulldata.shape\n",
    "labels=np.asarray(bandgaps)\n",
    "print \"label dimensions is\", labels.shape\n",
    "# since the data it self is "
   ]
  },
  {
   "cell_type": "code",
   "execution_count": 532,
   "metadata": {
    "collapsed": false
   },
   "outputs": [
    {
     "data": {
      "image/png": "[encoded data removed]",
      "text/plain": [
       "<matplotlib.figure.Figure at 0x7fe0ed0a9310>"
      ]
     },
     "metadata": {},
     "output_type": "display_data"
    }
   ],
   "source": [
    "import matplotlib.pyplot as plt\n",
    "#import plotly.plotly as py\n",
    "bins = np.linspace(0, 9, 200)\n",
    "plt.hist(labels,bins,alpha=0.5)\n",
    "plt.title(\"Bandgap Histogram\")\n",
    "plt.xlabel(\"BandGap(eV)\")\n",
    "plt.ylabel(\"Frequency\")\n",
    "plt.text(3, 45, \"mean of data is \"+str(np.around(np.mean(labels),decimals=2))+\" eV\")\n",
    "plt.text(3, 40, \"median of data is \"+str(np.around(np.median(labels),decimals=2))+\" eV\")\n",
    "plt.show()"
   ]
  },
  {
   "cell_type": "markdown",
   "metadata": {},
   "source": [
    "## Randamize the data"
   ]
  },
  {
   "cell_type": "code",
   "execution_count": 399,
   "metadata": {
    "collapsed": true
   },
   "outputs": [],
   "source": [
    "def randomize(dataset, labels):\n",
    "  permutation = np.random.permutation(labels.shape[0])\n",
    "  shuffled_dataset = dataset[permutation,:,:]\n",
    "  shuffled_labels = labels[permutation]\n",
    "  return shuffled_dataset, shuffled_labels\n",
    "# train_dataset, train_labels = randomize(train_dataset, train_labels)\n",
    "# test_dataset, test_labels = randomize(test_dataset, test_labels)\n",
    "# valid_dataset, valid_labels = randomize(valid_dataset, valid_labels)\n",
    "\n",
    "# shuffle  the data\n",
    "Fulldata,labels=randomize(Fulldata,labels)"
   ]
  },
  {
   "cell_type": "markdown",
   "metadata": {},
   "source": [
    "## Save machine learning data to pickle"
   ]
  },
  {
   "cell_type": "code",
   "execution_count": 438,
   "metadata": {
    "collapsed": true
   },
   "outputs": [],
   "source": [
    "from six.moves import cPickle as pickle\n",
    "pickle_file = 'MachineLearningData.pickle'\n",
    "\n",
    "try:\n",
    "  f = open(pickle_file, 'wb')\n",
    "  save = {\n",
    "    'Fulldata':Fulldata,\n",
    "    'labels':labels,\n",
    "    }\n",
    "  pickle.dump(save, f, pickle.HIGHEST_PROTOCOL)\n",
    "  f.close()\n",
    "except Exception as e:\n",
    "  print('Unable to save data to', pickle_file, ':', e)\n",
    "  raise"
   ]
  },
  {
   "cell_type": "markdown",
   "metadata": {},
   "source": [
    "## Load machine learning data to pickle "
   ]
  },
  {
   "cell_type": "code",
   "execution_count": 439,
   "metadata": {
    "collapsed": true
   },
   "outputs": [],
   "source": [
    "from six.moves import cPickle as pickle\n",
    "pickle_file = 'MachineLearningData.pickle'\n",
    "with open(pickle_file, 'rb') as f:\n",
    "  save = pickle.load(f)\n",
    "  Fulldata = save['Fulldata']\n",
    "  labels = save['labels']\n",
    "  del save  # hint to help gc free up memory"
   ]
  },
  {
   "cell_type": "markdown",
   "metadata": {
    "collapsed": true
   },
   "source": [
    "# Machine learning\n",
    "## Linear Regression"
   ]
  },
  {
   "cell_type": "code",
   "execution_count": 247,
   "metadata": {
    "collapsed": false
   },
   "outputs": [
    {
     "name": "stdout",
     "output_type": "stream",
     "text": [
      "The MAE of always guessing the average band gap is: 1.081 eV\n"
     ]
    }
   ],
   "source": [
    "baselineError = mean(abs(mean(train_labels) - train_labels))\n",
    "print(\"The MAE of always guessing the average band gap is: \" + str(round(baselineError, 3)) + \" eV\")"
   ]
  },
  {
   "cell_type": "code",
   "execution_count": 407,
   "metadata": {
    "collapsed": false,
    "scrolled": true
   },
   "outputs": [
    {
     "name": "stdout",
     "output_type": "stream",
     "text": [
      "The MAE of the linear ridge regression band gap model using the naive feature set is: 0.683 eV\n"
     ]
    },
    {
     "data": {
      "image/png": "[encoded data removed]",
      "text/plain": [
       "<matplotlib.figure.Figure at 0x7fe0ee965610>"
      ]
     },
     "metadata": {},
     "output_type": "display_data"
    }
   ],
   "source": [
    "# Train linear ridge regression model using naive feature set\n",
    "import warnings\n",
    "warnings.filterwarnings('ignore')\n",
    "from sklearn import linear_model, cross_validation, metrics, ensemble\n",
    "\n",
    "train_dataset=Fulldata[0:1300]\n",
    "train_labels=labels[0:1300]\n",
    "test_dataset=Fulldata[1300:1531]\n",
    "test_labels=labels[1300:1531]\n",
    "\n",
    "num_samples=train_dataset.shape[0]\n",
    "#this won't work if num_samples are too small, if num_samples is too small, all Y is 0( the first number type), so it has to be large engouh\n",
    "(samples, width, height) = train_dataset.shape\n",
    "X = np.reshape(train_dataset,(samples,width*height))[0:num_samples]\n",
    "Y = train_labels[0:num_samples]\n",
    "\n",
    "#alpha is a tuning parameter affecting how regression deals with collinear inputs\n",
    "linear = linear_model.Ridge(alpha = 0.6)  \n",
    "\n",
    "cv = cross_validation.ShuffleSplit(len(Y),n_iter=10, test_size=0.1, random_state=0)\n",
    "\n",
    "scores = cross_validation.cross_val_score(linear, X,Y, cv=cv, scoring='mean_absolute_error')\n",
    "\n",
    "print(\"The MAE of the linear ridge regression band gap model using the naive feature set is: \"+ str(round(abs(mean(scores)), 3)) + \" eV\")\n",
    "############# plot it##########################################\n",
    "from sklearn.model_selection import cross_val_predict\n",
    "predicted = cross_val_predict(linear, X, Y, cv=10)\n",
    "import matplotlib.pyplot as plt\n",
    "fig, ax = plt.subplots()\n",
    "ax.scatter(Y, predicted)\n",
    "ax.plot([Y.min(), Y.max()], [Y.min(), Y.max()], 'k--', lw=2)\n",
    "ax.set_xlabel('Measured')\n",
    "ax.set_ylabel('Predicted')\n",
    "plt.show()"
   ]
  },
  {
   "cell_type": "markdown",
   "metadata": {},
   "source": [
    "## Neural networks\n",
    "### without hidden layer"
   ]
  },
  {
   "cell_type": "code",
   "execution_count": 415,
   "metadata": {
    "collapsed": false
   },
   "outputs": [
    {
     "name": "stdout",
     "output_type": "stream",
     "text": [
      "('Training set', (1100, 162), (1100, 1))\n",
      "('Validation set', (200, 162), (200, 1))\n",
      "('Test set', (230, 162), (230, 1))\n"
     ]
    }
   ],
   "source": [
    "# image_size = 28\n",
    "num_labels = 1\n",
    "train_end=1100\n",
    "valid_end=1300\n",
    "train_dataset=Fulldata[0:train_end]\n",
    "train_labels=labels[0:train_end]\n",
    "valid_dataset=Fulldata[train_end:valid_end]\n",
    "valid_labels=labels[train_end:valid_end]\n",
    "test_dataset=Fulldata[valid_end:1531]\n",
    "test_labels=labels[valid_end:1531]\n",
    "\n",
    "def reformat(dataset, labels):\n",
    "  dataset = dataset.reshape((-1, Fulldata.shape[1] * Fulldata.shape[2])).astype(np.float32)\n",
    "  labels = (labels[:,None]).astype(np.float32)\n",
    "  return dataset, labels\n",
    "train_dataset, train_labels = reformat(train_dataset, train_labels)\n",
    "valid_dataset, valid_labels = reformat(valid_dataset, valid_labels)\n",
    "test_dataset, test_labels = reformat(test_dataset, test_labels)\n",
    "print('Training set', train_dataset.shape, train_labels.shape)\n",
    "print('Validation set', valid_dataset.shape, valid_labels.shape)\n",
    "print('Test set', test_dataset.shape, test_labels.shape)"
   ]
  },
  {
   "cell_type": "code",
   "execution_count": 444,
   "metadata": {
    "collapsed": false
   },
   "outputs": [
    {
     "name": "stdout",
     "output_type": "stream",
     "text": [
      "Initialized\n",
      "Loss at step 0: 1.883463\n",
      "Validation Loss: 1.584549\n",
      "Loss at step 10000: 0.636692\n",
      "Validation Loss: 0.687881\n",
      "Loss at step 20000: 0.631331\n",
      "Validation Loss: 0.686636\n",
      "Loss at step 30000: 0.629745\n",
      "Validation Loss: 0.683074\n",
      "Loss at step 40000: 0.629499\n",
      "Validation Loss: 0.682205\n",
      "Test Loss: 0.664910\n"
     ]
    }
   ],
   "source": [
    "# With gradient descent training, even this much data is prohibitive.\n",
    "# Subset the training data for faster turnaround.\n",
    "\n",
    "train_subset = train_end\n",
    "# label dimention is 1\n",
    "num_labels=1\n",
    "import tensorflow as tf\n",
    "from tensorflow import contrib\n",
    "graph = tf.Graph()\n",
    "with graph.as_default():\n",
    "  tf_train_dataset = tf.constant(train_dataset[:train_subset, :])\n",
    "  tf_train_labels = tf.constant(train_labels[:train_subset])\n",
    "  tf_valid_dataset = tf.constant(valid_dataset)\n",
    "  tf_valid_labels = tf.constant(valid_labels)\n",
    "  tf_test_dataset = tf.constant(test_dataset)\n",
    "  tf_test_labels = tf.constant(test_labels)\n",
    "\n",
    "  weights = tf.Variable(tf.truncated_normal([Fulldata.shape[1] * Fulldata.shape[2], num_labels]))\n",
    "  biases = tf.Variable(tf.zeros([num_labels]))\n",
    "\n",
    "  logits = tf.matmul(tf_train_dataset, weights) + biases\n",
    "  loss = tf.reduce_mean(tf.abs(logits-tf_train_labels))\n",
    "\n",
    "  optimizer = tf.train.GradientDescentOptimizer(0.5).minimize(loss)\n",
    "  train_prediction = logits  \n",
    "\n",
    "  valid_prediction = tf.matmul(tf_valid_dataset, weights) + biases\n",
    "  valid_loss = tf.reduce_mean(tf.abs(valid_prediction-tf_valid_labels))\n",
    "    \n",
    "  test_prediction = tf.matmul(tf_test_dataset, weights) + biases\n",
    "  test_loss = tf.reduce_mean(tf.abs(test_prediction-tf_test_labels))\n",
    "#########################################################################################3\n",
    "num_steps = 50000\n",
    "with tf.Session(graph=graph) as session:\n",
    "  tf.initialize_all_variables().run()\n",
    "  print('Initialized')\n",
    "  for step in range(num_steps):\n",
    "    _, l, predictions = session.run([optimizer, loss, train_prediction])\n",
    "    if (step % 10000 == 0):\n",
    "      print('Loss at step %d: %f' % (step, l))\n",
    "      print('Validation Loss: %f' % valid_loss.eval())\n",
    "  print('Test Loss: %f' %  test_loss.eval())"
   ]
  },
  {
   "cell_type": "markdown",
   "metadata": {},
   "source": [
    "## with one hidden layer, train with batch"
   ]
  },
  {
   "cell_type": "code",
   "execution_count": 443,
   "metadata": {
    "collapsed": false,
    "scrolled": true
   },
   "outputs": [
    {
     "name": "stdout",
     "output_type": "stream",
     "text": [
      "Initialized\n",
      "Loss at step 0: 9.913927\n",
      "Validation Loss: 28.716265\n",
      "Loss at step 1000: 0.553740\n",
      "Validation Loss: 0.936711\n",
      "Loss at step 2000: 0.622823\n",
      "Validation Loss: 0.750750\n",
      "Loss at step 3000: 0.440426\n",
      "Validation Loss: 0.861358\n",
      "Loss at step 4000: 0.458674\n",
      "Validation Loss: 0.795093\n",
      "Loss at step 5000: 0.436431\n",
      "Validation Loss: 0.765197\n",
      "Loss at step 6000: 0.478887\n",
      "Validation Loss: 0.790238\n",
      "Loss at step 7000: 0.420878\n",
      "Validation Loss: 0.786454\n",
      "Loss at step 8000: 0.320174\n",
      "Validation Loss: 0.656050\n",
      "Loss at step 9000: 0.290202\n",
      "Validation Loss: 0.717809\n",
      "Test Loss: 0.690147\n"
     ]
    }
   ],
   "source": [
    "batch_size = 128\n",
    "num_hidden_nodes = 1024\n",
    "\n",
    "train_subset = train_end\n",
    "batch_size = train_subset/10\n",
    "num_hidden_nodes = 1024\n",
    "# label dimention is 1\n",
    "num_labels=1\n",
    "import tensorflow as tf\n",
    "from tensorflow import contrib\n",
    "graph = tf.Graph()\n",
    "with graph.as_default():\n",
    "  tf_train_dataset = tf.placeholder(tf.float32,shape=(batch_size, 162))  \n",
    "  #tf_train_dataset = tf.constant(train_dataset[:batch_size, :])\n",
    "  tf_train_labels = tf.placeholder(tf.float32, shape=(batch_size,1))\n",
    "  #tf_train_labels = tf.constant(train_labels[:batch_size])\n",
    "\n",
    "  weights_1 = tf.Variable(tf.truncated_normal([Fulldata.shape[1] * Fulldata.shape[2], num_hidden_nodes]))\n",
    "  weights_2 =  tf.Variable(tf.truncated_normal([num_hidden_nodes, num_labels]))\n",
    "  biases_1 = tf.Variable(tf.zeros([num_hidden_nodes]))\n",
    "  biases_2 = tf.Variable(tf.zeros([num_labels]))\n",
    "  \n",
    "  layer_1 = tf.nn.relu(tf.matmul(tf_train_dataset, weights_1) + biases_1)\n",
    "  logits = tf.matmul(layer_1, weights_2) + biases_2\n",
    "  loss = tf.reduce_mean(tf.abs(logits-tf_train_labels))\n",
    "\n",
    "  optimizer = tf.train.GradientDescentOptimizer(0.5).minimize(loss)\n",
    "  train_prediction = logits  \n",
    "\n",
    "#########################################################################################    \n",
    "  tf_valid_dataset = tf.constant(valid_dataset)\n",
    "  tf_valid_labels = tf.constant(valid_labels)\n",
    "  tf_test_dataset = tf.constant(test_dataset)\n",
    "  tf_test_labels = tf.constant(test_labels)\n",
    "\n",
    "  layer_1_valid = tf.nn.relu(tf.matmul(tf_valid_dataset, weights_1) + biases_1)\n",
    "  valid_prediction = tf.matmul(layer_1_valid, weights_2) + biases_2\n",
    "  valid_loss = tf.reduce_mean(tf.abs(valid_prediction-tf_valid_labels))\n",
    "    \n",
    "  layer_1_test = tf.nn.relu(tf.matmul(tf_test_dataset, weights_1) + biases_1)\n",
    "  test_prediction = tf.matmul(layer_1_test, weights_2) + biases_2\n",
    "  test_loss = tf.reduce_mean(tf.abs(test_prediction-tf_test_labels))\n",
    "  #########################################################################################3\n",
    "num_steps = 10000\n",
    "with tf.Session(graph=graph) as session:\n",
    "  tf.initialize_all_variables().run()\n",
    "  print('Initialized')\n",
    "  for step in range(num_steps):\n",
    "    offset = (step * batch_size) % (train_labels.shape[0] - batch_size)\n",
    "    batch_data = train_dataset[offset:(offset + batch_size), :]\n",
    "    batch_labels = train_labels[offset:(offset + batch_size), :]\n",
    "    feed_dict = {tf_train_dataset : batch_data, tf_train_labels : batch_labels}\n",
    "    #_, l, predictions = session.run([optimizer, loss, train_prediction])\n",
    "    _, l, predictions = session.run([optimizer, loss, train_prediction], feed_dict=feed_dict)\n",
    "    if (step % 1000 == 0):\n",
    "      print('Loss at step %d: %f' % (step, l))\n",
    "      print('Validation Loss: %f' % valid_loss.eval())\n",
    "  print('Test Loss: %f' %  test_loss.eval())"
   ]
  },
  {
   "cell_type": "markdown",
   "metadata": {},
   "source": [
    "## Add regulation to previous one"
   ]
  },
  {
   "cell_type": "code",
   "execution_count": 456,
   "metadata": {
    "collapsed": false
   },
   "outputs": [
    {
     "name": "stdout",
     "output_type": "stream",
     "text": [
      "Initialized\n",
      "Loss at step 0: 75.267990\n",
      "Validation Loss: 17.111399\n",
      "Loss at step 10000: 0.614537\n",
      "Validation Loss: 0.646773\n",
      "Loss at step 20000: 0.731811\n",
      "Validation Loss: 0.788381\n",
      "Loss at step 30000: 0.672801\n",
      "Validation Loss: 0.639590\n",
      "Loss at step 40000: 0.649371\n",
      "Validation Loss: 0.679590\n",
      "Loss at step 50000: 0.613999\n",
      "Validation Loss: 0.703059\n",
      "Loss at step 60000: 0.612504\n",
      "Validation Loss: 0.822633\n",
      "Loss at step 70000: 0.581319\n",
      "Validation Loss: 0.941529\n",
      "Loss at step 80000: 0.696750\n",
      "Validation Loss: 0.687981\n",
      "Loss at step 90000: 0.505735\n",
      "Validation Loss: 0.599858\n",
      "Test Loss: 0.608422\n"
     ]
    }
   ],
   "source": [
    "batch_size = 128\n",
    "num_hidden_nodes = 1024\n",
    "# so far 1e-3 yields best result 0.599\n",
    "beta=1e-3\n",
    "\n",
    "train_subset = train_end\n",
    "batch_size = train_subset/10\n",
    "num_hidden_nodes = 1024\n",
    "# label dimention is 1\n",
    "num_labels=1\n",
    "import tensorflow as tf\n",
    "from tensorflow import contrib\n",
    "graph = tf.Graph()\n",
    "with graph.as_default():\n",
    "  tf_train_dataset = tf.placeholder(tf.float32,shape=(batch_size, 162))  \n",
    "  #tf_train_dataset = tf.constant(train_dataset[:batch_size, :])\n",
    "  tf_train_labels = tf.placeholder(tf.float32, shape=(batch_size,1))\n",
    "  #tf_train_labels = tf.constant(train_labels[:batch_size])\n",
    "\n",
    "  weights_1 = tf.Variable(tf.truncated_normal([Fulldata.shape[1] * Fulldata.shape[2], num_hidden_nodes]))\n",
    "  weights_2 =  tf.Variable(tf.truncated_normal([num_hidden_nodes, num_labels]))\n",
    "  biases_1 = tf.Variable(tf.zeros([num_hidden_nodes]))\n",
    "  biases_2 = tf.Variable(tf.zeros([num_labels]))\n",
    "  \n",
    "  layer_1 = tf.nn.relu(tf.matmul(tf_train_dataset, weights_1) + biases_1)\n",
    "  logits = tf.matmul(layer_1, weights_2) + biases_2\n",
    "  loss = tf.reduce_mean(tf.abs(logits-tf_train_labels))+beta*(tf.nn.l2_loss(weights_1)+tf.nn.l2_loss(weights_2))\n",
    "\n",
    "  optimizer = tf.train.GradientDescentOptimizer(0.5).minimize(loss)\n",
    "  \n",
    "  train_prediction = logits  \n",
    "\n",
    "#########################################################################################    \n",
    "  tf_valid_dataset = tf.constant(valid_dataset)\n",
    "  tf_valid_labels = tf.constant(valid_labels)\n",
    "  tf_test_dataset = tf.constant(test_dataset)\n",
    "  tf_test_labels = tf.constant(test_labels)\n",
    "\n",
    "  layer_1_valid = tf.nn.relu(tf.matmul(tf_valid_dataset, weights_1) + biases_1)\n",
    "  valid_prediction = tf.matmul(layer_1_valid, weights_2) + biases_2\n",
    "  valid_loss = tf.reduce_mean(tf.abs(valid_prediction-tf_valid_labels))\n",
    "    \n",
    "  layer_1_test = tf.nn.relu(tf.matmul(tf_test_dataset, weights_1) + biases_1)\n",
    "  test_prediction = tf.matmul(layer_1_test, weights_2) + biases_2\n",
    "  test_loss = tf.reduce_mean(tf.abs(test_prediction-tf_test_labels))\n",
    "  #########################################################################################3\n",
    "num_steps = 100000\n",
    "with tf.Session(graph=graph) as session:\n",
    "  tf.initialize_all_variables().run()\n",
    "  print('Initialized')\n",
    "  for step in range(num_steps):\n",
    "    offset = (step * batch_size) % (train_labels.shape[0] - batch_size)\n",
    "    batch_data = train_dataset[offset:(offset + batch_size), :]\n",
    "    batch_labels = train_labels[offset:(offset + batch_size), :]\n",
    "    feed_dict = {tf_train_dataset : batch_data, tf_train_labels : batch_labels}\n",
    "    #_, l, predictions = session.run([optimizer, loss, train_prediction])\n",
    "    _, l, predictions = session.run([optimizer, loss, train_prediction], feed_dict=feed_dict)\n",
    "    if (step % 10000 == 0):\n",
    "      print('Loss at step %d: %f' % (step, l))\n",
    "      print('Validation Loss: %f' % valid_loss.eval())\n",
    "  print('Test Loss: %f' %  test_loss.eval())"
   ]
  },
  {
   "cell_type": "markdown",
   "metadata": {},
   "source": [
    "## Dropout added to previous test"
   ]
  },
  {
   "cell_type": "code",
   "execution_count": 476,
   "metadata": {
    "collapsed": false
   },
   "outputs": [
    {
     "name": "stdout",
     "output_type": "stream",
     "text": [
      "Initialized\n",
      "Loss at step 0: 73.645538\n",
      "Validation Loss: 16.276495\n",
      "Loss at step 1000: 24.098148\n",
      "Validation Loss: 0.686216\n",
      "Loss at step 2000: 9.174386\n",
      "Validation Loss: 0.799104\n",
      "Loss at step 3000: 3.764966\n",
      "Validation Loss: 0.740538\n",
      "Loss at step 4000: 1.878308\n",
      "Validation Loss: 0.751335\n",
      "Loss at step 5000: 1.016863\n",
      "Validation Loss: 0.606579\n",
      "Loss at step 6000: 0.864439\n",
      "Validation Loss: 0.675523\n",
      "Loss at step 7000: 0.684641\n",
      "Validation Loss: 0.720152\n",
      "Loss at step 8000: 0.670896\n",
      "Validation Loss: 0.604405\n",
      "Loss at step 9000: 0.830222\n",
      "Validation Loss: 0.630259\n",
      "Test Loss: 0.617904\n"
     ]
    }
   ],
   "source": [
    "batch_size = 128\n",
    "num_hidden_nodes = 1024\n",
    "# so far 1e-3 yields best result 0.599\n",
    "beta=1e-3\n",
    "\n",
    "train_subset = train_end\n",
    "#batch_size = train_subset/10\n",
    "num_hidden_nodes = 1024\n",
    "# label dimention is 1\n",
    "num_labels=1\n",
    "import tensorflow as tf\n",
    "from tensorflow import contrib\n",
    "graph = tf.Graph()\n",
    "with graph.as_default():\n",
    "  tf_train_dataset = tf.placeholder(tf.float32,shape=(batch_size, 162))  \n",
    "  #tf_train_dataset = tf.constant(train_dataset[:batch_size, :])\n",
    "  tf_train_labels = tf.placeholder(tf.float32, shape=(batch_size,1))\n",
    "  #tf_train_labels = tf.constant(train_labels[:batch_size])\n",
    "\n",
    "  weights_1 = tf.Variable(tf.truncated_normal([Fulldata.shape[1] * Fulldata.shape[2], num_hidden_nodes]))\n",
    "  weights_2 =  tf.Variable(tf.truncated_normal([num_hidden_nodes, num_labels]))\n",
    "  biases_1 = tf.Variable(tf.zeros([num_hidden_nodes]))\n",
    "  biases_2 = tf.Variable(tf.zeros([num_labels]))\n",
    "  \n",
    "  layer_1 = tf.nn.dropout(tf.nn.relu(tf.matmul(tf_train_dataset, weights_1) + biases_1),keep_prob=0.8)\n",
    "  logits = tf.matmul(layer_1, weights_2) + biases_2\n",
    "  loss = tf.reduce_mean(tf.abs(logits-tf_train_labels))+beta*(tf.nn.l2_loss(weights_1)+tf.nn.l2_loss(weights_2))\n",
    "\n",
    "  optimizer = tf.train.GradientDescentOptimizer(0.5).minimize(loss)\n",
    "#########################################################################################\n",
    "  layer_1_train= tf.nn.relu(tf.matmul(tf_train_dataset, weights_1) + biases_1)\n",
    "  train_prediction = tf.matmul(layer_1_train, weights_2) + biases_2  \n",
    "\n",
    "#########################################################################################    \n",
    "  tf_valid_dataset = tf.constant(valid_dataset)\n",
    "  tf_valid_labels = tf.constant(valid_labels)\n",
    "  tf_test_dataset = tf.constant(test_dataset)\n",
    "  tf_test_labels = tf.constant(test_labels)\n",
    "\n",
    "  layer_1_valid = tf.nn.relu(tf.matmul(tf_valid_dataset, weights_1) + biases_1)\n",
    "  valid_prediction = tf.matmul(layer_1_valid, weights_2) + biases_2\n",
    "  valid_loss = tf.reduce_mean(tf.abs(valid_prediction-tf_valid_labels))\n",
    "    \n",
    "  layer_1_test = tf.nn.relu(tf.matmul(tf_test_dataset, weights_1) + biases_1)\n",
    "  test_prediction = tf.matmul(layer_1_test, weights_2) + biases_2\n",
    "  test_loss = tf.reduce_mean(tf.abs(test_prediction-tf_test_labels))\n",
    "  #########################################################################################3\n",
    "num_steps = 10000\n",
    "with tf.Session(graph=graph) as session:\n",
    "  tf.initialize_all_variables().run()\n",
    "  print('Initialized')\n",
    "  for step in range(num_steps):\n",
    "    offset = (step * batch_size) % (train_labels.shape[0] - batch_size)\n",
    "    batch_data = train_dataset[offset:(offset + batch_size), :]\n",
    "    batch_labels = train_labels[offset:(offset + batch_size), :]\n",
    "    feed_dict = {tf_train_dataset : batch_data, tf_train_labels : batch_labels}\n",
    "    #_, l, predictions = session.run([optimizer, loss, train_prediction])\n",
    "    _, l, predictions = session.run([optimizer, loss, train_prediction], feed_dict=feed_dict)\n",
    "    if (step % 1000 == 0):\n",
    "      print('Loss at step %d: %f' % (step, l))\n",
    "      print('Validation Loss: %f' % valid_loss.eval())\n",
    "  print('Test Loss: %f' %  test_loss.eval())"
   ]
  },
  {
   "cell_type": "markdown",
   "metadata": {},
   "source": [
    "## Below try to use different initial value(stddev) for weight to see if accuracy can be improved,"
   ]
  },
  {
   "cell_type": "code",
   "execution_count": 475,
   "metadata": {
    "collapsed": false
   },
   "outputs": [
    {
     "name": "stdout",
     "output_type": "stream",
     "text": [
      "Initialized\n",
      "Loss at step 0: 2.629410\n",
      "Validation Loss: 1.136134\n",
      "Loss at step 1000: 0.861606\n",
      "Validation Loss: 0.610521\n",
      "Loss at step 2000: 0.632770\n",
      "Validation Loss: 0.590188\n",
      "Loss at step 3000: 0.758573\n",
      "Validation Loss: 0.798777\n",
      "Loss at step 4000: 0.566694\n",
      "Validation Loss: 0.672346\n",
      "Loss at step 5000: 0.764544\n",
      "Validation Loss: 0.646416\n",
      "Loss at step 6000: 0.625068\n",
      "Validation Loss: 0.651513\n",
      "Loss at step 7000: 0.557081\n",
      "Validation Loss: 0.697748\n",
      "Loss at step 8000: 0.716716\n",
      "Validation Loss: 0.643046\n",
      "Loss at step 9000: 0.632172\n",
      "Validation Loss: 0.770132\n",
      "Test Loss: 0.592279\n"
     ]
    }
   ],
   "source": [
    "import math as math\n",
    "batch_size = 128\n",
    "num_hidden_nodes = 1024\n",
    "# so far 1e-3 yields best result 0.599\n",
    "beta=1e-3\n",
    "\n",
    "train_subset = train_end\n",
    "# batch_size = train_subset/10\n",
    "num_hidden_nodes = 1024\n",
    "# label dimention is 1\n",
    "num_labels=1\n",
    "import tensorflow as tf\n",
    "from tensorflow import contrib\n",
    "graph = tf.Graph()\n",
    "dimentions=Fulldata.shape[1] * Fulldata.shape[2]\n",
    "with graph.as_default():\n",
    "  tf_train_dataset = tf.placeholder(tf.float32,shape=(batch_size, 162))  \n",
    "  #tf_train_dataset = tf.constant(train_dataset[:batch_size, :])\n",
    "  tf_train_labels = tf.placeholder(tf.float32, shape=(batch_size,1))\n",
    "  #tf_train_labels = tf.constant(train_labels[:batch_size])\n",
    "\n",
    "  weights_1 = tf.Variable(tf.truncated_normal([dimentions, num_hidden_nodes],\n",
    "                                              stddev=math.sqrt(2.0/dimentions)))\n",
    "  weights_2 =  tf.Variable(tf.truncated_normal([num_hidden_nodes, num_labels],\n",
    "                                               stddev=math.sqrt(2.0/(num_hidden_nodes))))\n",
    "  biases_1 = tf.Variable(tf.zeros([num_hidden_nodes]))\n",
    "  biases_2 = tf.Variable(tf.zeros([num_labels]))\n",
    "  \n",
    "  layer_1 = tf.nn.dropout(tf.nn.relu(tf.matmul(tf_train_dataset, weights_1) + biases_1),keep_prob=0.8)\n",
    "  logits = tf.matmul(layer_1, weights_2) + biases_2\n",
    "  loss = tf.reduce_mean(tf.abs(logits-tf_train_labels))+beta*(tf.nn.l2_loss(weights_1)+tf.nn.l2_loss(weights_2))\n",
    "\n",
    "  optimizer = tf.train.GradientDescentOptimizer(0.5).minimize(loss)\n",
    "#########################################################################################  \n",
    "  layer_1_train= tf.nn.relu(tf.matmul(tf_train_dataset, weights_1) + biases_1)\n",
    "  train_prediction = tf.matmul(layer_1_train, weights_2) + biases_2  \n",
    "\n",
    "\n",
    "#########################################################################################    \n",
    "  tf_valid_dataset = tf.constant(valid_dataset)\n",
    "  tf_valid_labels = tf.constant(valid_labels)\n",
    "  tf_test_dataset = tf.constant(test_dataset)\n",
    "  tf_test_labels = tf.constant(test_labels)\n",
    "\n",
    "  layer_1_valid = tf.nn.relu(tf.matmul(tf_valid_dataset, weights_1) + biases_1)\n",
    "  valid_prediction = tf.matmul(layer_1_valid, weights_2) + biases_2\n",
    "  valid_loss = tf.reduce_mean(tf.abs(valid_prediction-tf_valid_labels))\n",
    "    \n",
    "  layer_1_test = tf.nn.relu(tf.matmul(tf_test_dataset, weights_1) + biases_1)\n",
    "  test_prediction = tf.matmul(layer_1_test, weights_2) + biases_2\n",
    "  test_loss = tf.reduce_mean(tf.abs(test_prediction-tf_test_labels))\n",
    "  #########################################################################################3\n",
    "num_steps = 10000\n",
    "with tf.Session(graph=graph) as session:\n",
    "  tf.initialize_all_variables().run()\n",
    "  print('Initialized')\n",
    "  for step in range(num_steps):\n",
    "    offset = (step * batch_size) % (train_labels.shape[0] - batch_size)\n",
    "    batch_data = train_dataset[offset:(offset + batch_size), :]\n",
    "    batch_labels = train_labels[offset:(offset + batch_size), :]\n",
    "    feed_dict = {tf_train_dataset : batch_data, tf_train_labels : batch_labels}\n",
    "    #_, l, predictions = session.run([optimizer, loss, train_prediction])\n",
    "    _, l, predictions = session.run([optimizer, loss, train_prediction], feed_dict=feed_dict)\n",
    "    if (step % 1000 == 0):\n",
    "      print('Loss at step %d: %f' % (step, l))\n",
    "      print('Validation Loss: %f' % valid_loss.eval())\n",
    "  print('Test Loss: %f' %  test_loss.eval())"
   ]
  },
  {
   "cell_type": "markdown",
   "metadata": {},
   "source": [
    "## Two hidden layer"
   ]
  },
  {
   "cell_type": "code",
   "execution_count": 477,
   "metadata": {
    "collapsed": false
   },
   "outputs": [
    {
     "name": "stdout",
     "output_type": "stream",
     "text": [
      "Initialized\n",
      "Loss at step 0: 3.012572\n",
      "Validation Loss: 1.219993\n",
      "Loss at step 1000: 1.336445\n",
      "Validation Loss: 0.676098\n",
      "Loss at step 2000: 0.722857\n",
      "Validation Loss: 0.620634\n",
      "Loss at step 3000: 0.687559\n",
      "Validation Loss: 0.838706\n",
      "Loss at step 4000: 0.692196\n",
      "Validation Loss: 0.794821\n",
      "Loss at step 5000: 0.641662\n",
      "Validation Loss: 0.638895\n",
      "Loss at step 6000: 0.577204\n",
      "Validation Loss: 0.600673\n",
      "Loss at step 7000: 0.513539\n",
      "Validation Loss: 0.635314\n",
      "Loss at step 8000: 0.535798\n",
      "Validation Loss: 0.608696\n",
      "Loss at step 9000: 0.689680\n",
      "Validation Loss: 0.715434\n",
      "Test Loss: 0.863027\n"
     ]
    }
   ],
   "source": [
    "import math as math\n",
    "batch_size = 128\n",
    "num_hidden_nodes = 1024\n",
    "num_hidden_nodes2=512\n",
    "# so far 1e-3 yields best result 0.599\n",
    "beta=1e-3\n",
    "\n",
    "train_subset = train_end\n",
    "# batch_size = train_subset/10\n",
    "num_hidden_nodes = 1024\n",
    "# label dimention is 1\n",
    "num_labels=1\n",
    "import tensorflow as tf\n",
    "from tensorflow import contrib\n",
    "graph = tf.Graph()\n",
    "dimentions=Fulldata.shape[1] * Fulldata.shape[2]\n",
    "with graph.as_default():\n",
    "  tf_train_dataset = tf.placeholder(tf.float32,shape=(batch_size, 162))  \n",
    "  #tf_train_dataset = tf.constant(train_dataset[:batch_size, :])\n",
    "  tf_train_labels = tf.placeholder(tf.float32, shape=(batch_size,1))\n",
    "  #tf_train_labels = tf.constant(train_labels[:batch_size])\n",
    "\n",
    "  weights_1 = tf.Variable(tf.truncated_normal([dimentions, num_hidden_nodes],\n",
    "                                              stddev=math.sqrt(2.0/dimentions)))\n",
    "  biases_1 = tf.Variable(tf.zeros([num_hidden_nodes]))\n",
    "  weights_2=tf.Variable(tf.truncated_normal([num_hidden_nodes, num_hidden_nodes2],\n",
    "                                             stddev=math.sqrt(2.0/(num_hidden_nodes))))\n",
    "  biases_2=tf.Variable(tf.zeros([num_hidden_nodes2]))\n",
    "  \n",
    "  weights_o =  tf.Variable(tf.truncated_normal([num_hidden_nodes2, num_labels],\n",
    "                                               stddev=math.sqrt(2.0/(num_hidden_nodes))))  \n",
    "  biases_o = tf.Variable(tf.zeros([num_labels]))\n",
    "  \n",
    "  layer_1 = tf.nn.dropout(tf.nn.relu(tf.matmul(tf_train_dataset, weights_1) + biases_1),keep_prob=0.8)\n",
    "  layer_2=tf.nn.dropout(tf.nn.relu(tf.matmul(layer_1,weights_2)+biases_2),0.75)\n",
    "  \n",
    "  logits = tf.matmul(layer_2, weights_o) + biases_o\n",
    "  \n",
    "  loss = tf.reduce_mean(tf.abs(logits-tf_train_labels))+beta*(tf.nn.l2_loss(weights_1)+tf.nn.l2_loss(weights_o)+tf.nn.l2_loss(weights_2))\n",
    "\n",
    "  optimizer = tf.train.GradientDescentOptimizer(0.5).minimize(loss)\n",
    "#########################################################################################  \n",
    "  layer_1_train=tf.nn.relu(tf.matmul(tf_train_dataset,weights_1)+biases_1)\n",
    "  layer_2_train=tf.nn.relu(tf.matmul(layer_1_train,weights_2)+biases_2)\n",
    "  train_prediction = tf.matmul(layer_2_train, weights_o) + biases_o  \n",
    "\n",
    "#########################################################################################    \n",
    "  tf_valid_dataset = tf.constant(valid_dataset)\n",
    "  tf_valid_labels = tf.constant(valid_labels)\n",
    "  tf_test_dataset = tf.constant(test_dataset)\n",
    "  tf_test_labels = tf.constant(test_labels)\n",
    "\n",
    "  layer_1_valid = tf.nn.relu(tf.matmul(tf_valid_dataset, weights_1) + biases_1)\n",
    "  layer_2_valid = tf.nn.relu(tf.matmul(layer_1_valid, weights_2) + biases_2)  \n",
    "  valid_prediction = tf.matmul(layer_2_valid, weights_o) + biases_o\n",
    "  valid_loss = tf.reduce_mean(tf.abs(valid_prediction-tf_valid_labels))\n",
    "    \n",
    "  layer_1_test = tf.nn.relu(tf.matmul(tf_test_dataset, weights_1) + biases_1)\n",
    "  layer_2_test = tf.nn.relu(tf.matmul(layer_1_test, weights_2) + biases_2)\n",
    "  test_prediction = tf.matmul(layer_2_test, weights_o) + biases_o\n",
    "  test_loss = tf.reduce_mean(tf.abs(test_prediction-tf_test_labels))\n",
    "#########################################################################################3\n",
    "num_steps = 10000\n",
    "with tf.Session(graph=graph) as session:\n",
    "  tf.initialize_all_variables().run()\n",
    "  print('Initialized')\n",
    "  for step in range(num_steps):\n",
    "    offset = (step * batch_size) % (train_labels.shape[0] - batch_size)\n",
    "    batch_data = train_dataset[offset:(offset + batch_size), :]\n",
    "    batch_labels = train_labels[offset:(offset + batch_size), :]\n",
    "    feed_dict = {tf_train_dataset : batch_data, tf_train_labels : batch_labels}\n",
    "    #_, l, predictions = session.run([optimizer, loss, train_prediction])\n",
    "    _, l, predictions = session.run([optimizer, loss, train_prediction], feed_dict=feed_dict)\n",
    "    if (step % 1000 == 0):\n",
    "      print('Loss at step %d: %f' % (step, l))\n",
    "      print('Validation Loss: %f' % valid_loss.eval())\n",
    "  print('Test Loss: %f' %  test_loss.eval())"
   ]
  },
  {
   "cell_type": "markdown",
   "metadata": {},
   "source": [
    "The result here is not good due to small number of steps, a larger training step test is done at WSU grid which yields a big score at test loss of 0.56"
   ]
  },
  {
   "cell_type": "markdown",
   "metadata": {},
   "source": [
    "## Three hidden layer"
   ]
  },
  {
   "cell_type": "code",
   "execution_count": 1,
   "metadata": {
    "collapsed": false
   },
   "outputs": [
    {
     "ename": "NameError",
     "evalue": "name 'train_end' is not defined",
     "output_type": "error",
     "traceback": [
      "\u001b[0;31m\u001b[0m",
      "\u001b[0;31mNameError\u001b[0mTraceback (most recent call last)",
      "\u001b[0;32m<ipython-input-1-eb8ac7c27f8b>\u001b[0m in \u001b[0;36m<module>\u001b[0;34m()\u001b[0m\n\u001b[1;32m      8\u001b[0m \u001b[0mbeta\u001b[0m\u001b[0;34m=\u001b[0m\u001b[0;36m1e-3\u001b[0m\u001b[0;34m\u001b[0m\u001b[0m\n\u001b[1;32m      9\u001b[0m \u001b[0;34m\u001b[0m\u001b[0m\n\u001b[0;32m---> 10\u001b[0;31m \u001b[0mtrain_subset\u001b[0m \u001b[0;34m=\u001b[0m \u001b[0mtrain_end\u001b[0m\u001b[0;34m\u001b[0m\u001b[0m\n\u001b[0m\u001b[1;32m     11\u001b[0m \u001b[0;31m# batch_size = train_subset/10\u001b[0m\u001b[0;34m\u001b[0m\u001b[0;34m\u001b[0m\u001b[0m\n\u001b[1;32m     12\u001b[0m \u001b[0mnum_hidden_nodes\u001b[0m \u001b[0;34m=\u001b[0m \u001b[0;36m1024\u001b[0m\u001b[0;34m\u001b[0m\u001b[0m\n",
      "\u001b[0;31mNameError\u001b[0m: name 'train_end' is not defined"
     ]
    }
   ],
   "source": [
    "import math as math\n",
    "batch_size = 128\n",
    "num_hidden_nodes = 1024\n",
    "num_hidden_nodes2=512\n",
    "num_hidden_nodes3=128\n",
    "\n",
    "# so far 1e-3 yields best result 0.599\n",
    "beta=1e-3\n",
    "\n",
    "train_subset = train_end\n",
    "# batch_size = train_subset/10\n",
    "num_hidden_nodes = 1024\n",
    "# label dimention is 1\n",
    "num_labels=1\n",
    "import tensorflow as tf\n",
    "from tensorflow import contrib\n",
    "graph = tf.Graph()\n",
    "dimentions=Fulldata.shape[1] * Fulldata.shape[2]\n",
    "with graph.as_default():\n",
    "  tf_train_dataset = tf.placeholder(tf.float32,shape=(batch_size, 162))  \n",
    "  #tf_train_dataset = tf.constant(train_dataset[:batch_size, :])\n",
    "  tf_train_labels = tf.placeholder(tf.float32, shape=(batch_size,1))\n",
    "  #tf_train_labels = tf.constant(train_labels[:batch_size])\n",
    "\n",
    "  weights_1 = tf.Variable(tf.truncated_normal([dimentions, num_hidden_nodes],\n",
    "                                              stddev=math.sqrt(2.0/dimentions)))\n",
    "  biases_1 = tf.Variable(tf.zeros([num_hidden_nodes]))\n",
    "  weights_2=tf.Variable(tf.truncated_normal([num_hidden_nodes, num_hidden_nodes2],\n",
    "                                             stddev=math.sqrt(2.0/(num_hidden_nodes))))\n",
    "  biases_2=tf.Variable(tf.zeros([num_hidden_nodes2]))\n",
    "    \n",
    "  weights_3=tf.Variable(tf.truncated_normal([num_hidden_nodes2, num_hidden_nodes3],\n",
    "                                             stddev=math.sqrt(2.0/(num_hidden_nodes2))))\n",
    "  biases_3=tf.Variable(tf.zeros([num_hidden_nodes3]))\n",
    "    \n",
    "  \n",
    "  weights_o =  tf.Variable(tf.truncated_normal([num_hidden_nodes3, num_labels],\n",
    "                                               stddev=math.sqrt(2.0/(num_hidden_nodes3))))  \n",
    "  biases_o = tf.Variable(tf.zeros([num_labels]))\n",
    "  \n",
    "  layer_1 = tf.nn.dropout(tf.nn.relu(tf.matmul(tf_train_dataset, weights_1) + biases_1),keep_prob=0.8)\n",
    "  layer_2=tf.nn.dropout(tf.nn.relu(tf.matmul(layer_1,weights_2)+biases_2),keep_prob=0.8)\n",
    "  layer_3=tf.nn.dropout(tf.nn.relu(tf.matmul(layer_2,weights_3)+biases_3),keep_prob=0.8)\n",
    "  \n",
    "  logits = tf.matmul(layer_3, weights_o) + biases_o\n",
    "  \n",
    "  loss = tf.reduce_mean(tf.abs(logits-tf_train_labels))\n",
    "  +beta*(tf.nn.l2_loss(weights_1)+tf.nn.l2_loss(weights_o)\n",
    "  +tf.nn.l2_loss(weights_2)+tf.nn.l2_loss(weights_3))\n",
    "\n",
    "  optimizer = tf.train.GradientDescentOptimizer(0.5).minimize(loss)\n",
    "#########################################################################################  \n",
    "  layer_1_train=tf.nn.relu(tf.matmul(tf_train_dataset,weights_1)+biases_1)\n",
    "  layer_2_train=tf.nn.relu(tf.matmul(layer_1_train,weights_2)+biases_2)\n",
    "  layer_3_train=tf.nn.relu(tf.matmul(layer_2_train,weights_3)+biases_3)\n",
    "  train_prediction = tf.matmul(layer_3_train, weights_o) + biases_o\n",
    "\n",
    "#########################################################################################    \n",
    "  tf_valid_dataset = tf.constant(valid_dataset)\n",
    "  tf_valid_labels = tf.constant(valid_labels)\n",
    "  tf_test_dataset = tf.constant(test_dataset)\n",
    "  tf_test_labels = tf.constant(test_labels)\n",
    "\n",
    "  layer_1_valid = tf.nn.relu(tf.matmul(tf_valid_dataset, weights_1) + biases_1)\n",
    "  layer_2_valid = tf.nn.relu(tf.matmul(layer_1_valid, weights_2) + biases_2)\n",
    "  layer_3_valid = tf.nn.relu(tf.matmul(layer_2_valid, weights_3) + biases_3)\n",
    "  valid_prediction = tf.matmul(layer_3_valid, weights_o) + biases_o\n",
    "  valid_loss = tf.reduce_mean(tf.abs(valid_prediction-tf_valid_labels))\n",
    "    \n",
    "  layer_1_test = tf.nn.relu(tf.matmul(tf_test_dataset, weights_1) + biases_1)\n",
    "  layer_2_test = tf.nn.relu(tf.matmul(layer_1_test, weights_2) + biases_2)\n",
    "  layer_3_test = tf.nn.relu(tf.matmul(layer_2_test, weights_3) + biases_3)\n",
    "  test_prediction = tf.matmul(layer_2_test, weights_o) + biases_o\n",
    "  test_loss = tf.reduce_mean(tf.abs(test_prediction-tf_test_labels))\n",
    "#########################################################################################3\n",
    "num_steps = 1000\n",
    "with tf.Session(graph=graph) as session:\n",
    "  tf.initialize_all_variables().run()\n",
    "  print('Initialized')\n",
    "  for step in range(num_steps):\n",
    "    offset = (step * batch_size) % (train_labels.shape[0] - batch_size)\n",
    "    batch_data = train_dataset[offset:(offset + batch_size), :]\n",
    "    batch_labels = train_labels[offset:(offset + batch_size), :]\n",
    "    feed_dict = {tf_train_dataset : batch_data, tf_train_labels : batch_labels}\n",
    "    #_, l, predictions = session.run([optimizer, loss, train_prediction])\n",
    "    _, l, predictions = session.run([optimizer, loss, train_prediction], feed_dict=feed_dict)\n",
    "    if (step % 100 == 0):\n",
    "      print('Loss at step %d: %f' % (step, l))\n",
    "      print('Validation Loss: %f' % valid_loss.eval())\n",
    "  print('Test Loss: %f' %  test_loss.eval())"
   ]
  },
  {
   "cell_type": "code",
   "execution_count": null,
   "metadata": {
    "collapsed": true
   },
   "outputs": [],
   "source": []
  }
 ],
 "metadata": {
  "kernelspec": {
   "display_name": "Python 2",
   "language": "python",
   "name": "python2"
  },
  "language_info": {
   "codemirror_mode": {
    "name": "ipython",
    "version": 2
   },
   "file_extension": ".py",
   "mimetype": "text/x-python",
   "name": "python",
   "nbconvert_exporter": "python",
   "pygments_lexer": "ipython2",
   "version": "2.7.6"
  }
 },
 "nbformat": 4,
 "nbformat_minor": 1
}
