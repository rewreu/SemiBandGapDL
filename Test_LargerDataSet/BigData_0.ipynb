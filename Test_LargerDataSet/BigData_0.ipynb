{
 "cells": [
  {
   "cell_type": "markdown",
   "metadata": {
    "collapsed": true
   },
   "source": [
    "## Note\n",
    "This one is based on file Turot_0.ipynb, it enlarges the total data from 1000+ to 8000+. The sacrifice is training data is not semiconductor anymore. The data used in Turot_0 will be used as test data set. \n",
    "\n",
    "length of 3 elem data is  7293\n",
    "\n",
    "length of 2 elem data is  1230\n",
    "\n",
    "This is just for setup, the real test has been done at HPC."
   ]
  },
  {
   "cell_type": "markdown",
   "metadata": {},
   "source": [
    "### define Save and load function"
   ]
  },
  {
   "cell_type": "code",
   "execution_count": 3,
   "metadata": {
    "collapsed": true
   },
   "outputs": [],
   "source": [
    "from six.moves import cPickle as pickle\n",
    "def loadFromPickle(pickle_file):\n",
    "    #pickle_file = 'SemiDataBase.pickle'\n",
    "    with open(pickle_file, 'rb') as f:\n",
    "      save = pickle.load(f)\n",
    "      database= save['database']\n",
    "      del save  # hint to help gc free up memory\n",
    "    return database\n",
    "\n",
    "def saveTopickle(pickle_file_name,database):\n",
    " try:\n",
    "  f = open(pickle_file_name, 'wb')\n",
    "  save = {\n",
    "    'database':database,\n",
    "    }\n",
    "  pickle.dump(save, f, pickle.HIGHEST_PROTOCOL)\n",
    "  f.close()\n",
    " except Exception as e:\n",
    "  print('Unable to save data to', pickle_file_name, ':', e)\n",
    "  raise"
   ]
  },
  {
   "cell_type": "markdown",
   "metadata": {},
   "source": [
    "### Load the saved Data and peak at it"
   ]
  },
  {
   "cell_type": "code",
   "execution_count": 19,
   "metadata": {
    "collapsed": true
   },
   "outputs": [
    {
     "name": "stdout",
     "output_type": "stream",
     "text": [
      "length of data is: 1530\n",
      "icsd_ids >>>>>>>>>>>>>>>>>>>>> [41898]\n",
      "energy >>>>>>>>>>>>>>>>>>>>> -34.22314566\n",
      "elasticity >>>>>>>>>>>>>>>>>>>>> None\n",
      "unit_cell_formula >>>>>>>>>>>>>>>>>>>>> {u'S': 4.0, u'Ba': 1.0, u'Ag': 2.0, u'Sn': 1.0}\n",
      "oxide_type >>>>>>>>>>>>>>>>>>>>> None\n",
      "hubbards >>>>>>>>>>>>>>>>>>>>> {}\n",
      "task_ids >>>>>>>>>>>>>>>>>>>>> [u'mp-702596', u'mp-682621', u'mp-667121', u'mp-555166']\n",
      "band_gap >>>>>>>>>>>>>>>>>>>>> 0.3603\n",
      "e_above_hull >>>>>>>>>>>>>>>>>>>>> 0\n",
      "nsites >>>>>>>>>>>>>>>>>>>>> 8\n",
      "icsd_id >>>>>>>>>>>>>>>>>>>>> 41898\n",
      "elements >>>>>>>>>>>>>>>>>>>>> [u'Ag', u'Ba', u'S', u'Sn']\n",
      "tags >>>>>>>>>>>>>>>>>>>>> [u'Disilver barium tetrathiostannate(IV)']\n",
      "pretty_formula >>>>>>>>>>>>>>>>>>>>> BaAg2SnS4\n",
      "volume >>>>>>>>>>>>>>>>>>>>> 208.04569394\n",
      "total_magnetization >>>>>>>>>>>>>>>>>>>>> 0.0\n",
      "is_hubbard >>>>>>>>>>>>>>>>>>>>> False\n",
      "formation_energy_per_atom >>>>>>>>>>>>>>>>>>>>> -1.09570473828\n",
      "nelements >>>>>>>>>>>>>>>>>>>>> 4\n",
      "density >>>>>>>>>>>>>>>>>>>>> 4.7892306528\n",
      "is_compatible >>>>>>>>>>>>>>>>>>>>> True\n",
      "material_id >>>>>>>>>>>>>>>>>>>>> mp-555166\n",
      "energy_per_atom >>>>>>>>>>>>>>>>>>>>> -4.2778932075\n",
      "full_formula >>>>>>>>>>>>>>>>>>>>> Ba1Ag2Sn1S4\n"
     ]
    }
   ],
   "source": [
    "test=[]\n",
    "test=loadFromPickle('SemiDataBase.pickle')\n",
    "print \"length of data is: \"+str(len(test))\n",
    "for key in test[11]:\n",
    "    if key not in ['cif','spacegroup']:\n",
    "        print key,\">>>>>>>>>>>>>>>>>>>>>\",test[11][key]"
   ]
  },
  {
   "cell_type": "markdown",
   "metadata": {},
   "source": [
    "### Define a function to take a look at the data"
   ]
  },
  {
   "cell_type": "code",
   "execution_count": 25,
   "metadata": {
    "collapsed": false
   },
   "outputs": [],
   "source": [
    "from pymatgen import MPRester, periodic_table\n",
    "from pymatgen import Composition, Element\n",
    "import itertools\n",
    "#########################fucntion to display data set in a periodic table format\n",
    "def displayInPeriodicTable(database,showElementsTable=True):\n",
    "    list2=[]\n",
    "    w, h = 18, 9;\n",
    "    Matrix = [['**' for x in range(w)] for y in range(h)] \n",
    "    Matrix2 = [[0 for x in range(w)] for y in range(h)] \n",
    "\n",
    "    for data in database:\n",
    "        for elem in data[\"elements\"]:\n",
    "    #         elem.row()\n",
    "            if elem not in list2:\n",
    "                list2.append(elem)\n",
    "                Matrix[Element(elem).row-1][Element(elem).group-1]=elem\n",
    "    for data in database:\n",
    "        for elem in data[\"elements\"]:          \n",
    "                Matrix2[Element(elem).row-1][Element(elem).group-1]=Matrix2[Element(elem).row-1][Element(elem).group-1]+1\n",
    "    if showElementsTable:\n",
    "        print \"elements appear in the dataset\"\n",
    "        print \"#\"*94\n",
    "        for row in range(h): \n",
    "            print \"#\",\n",
    "            for col in range(w):\n",
    "                print '%4s' % Matrix[row][col],\n",
    "            print \" #\",\n",
    "            print\n",
    "        print \"#\"*94\n",
    "    print \"Count of the elements appearance\"\n",
    "    print \"#\"*94\n",
    "    for row in range(h): \n",
    "        print \"#\",\n",
    "        for col in range(w):\n",
    "            print '%4d' % Matrix2[row][col],\n",
    "        print \" #\",\n",
    "        print\n",
    "    print \"#\"*94\n",
    "#########################fucntion to display data set in a periodic table format"
   ]
  },
  {
   "cell_type": "code",
   "execution_count": 146,
   "metadata": {
    "collapsed": false
   },
   "outputs": [
    {
     "name": "stdout",
     "output_type": "stream",
     "text": [
      "elements appear in the dataset\n",
      "##############################################################################################\n",
      "#    H   **   **   **   **   **   **   **   **   **   **   **   **   **   **   **   **   **  #\n",
      "#   Li   Be   **   **   **   **   **   **   **   **   **   **    B    C    N    O    F   **  #\n",
      "#   Na   Mg   **   **   **   **   **   **   **   **   **   **   Al   Si    P    S   Cl   **  #\n",
      "#    K   Ca   Sc   Ti    V   Cr   Mn   Fe   Co   Ni   Cu   Zn   Ga   Ge   As   Se   Br   **  #\n",
      "#   Rb   Sr    Y   Zr   Nb   Mo   Tc   Ru   Rh   Pd   Ag   Cd   In   Sn   Sb   Te    I   **  #\n",
      "#   Cs   Ba   **   Hf   Ta    W   Re   Os   Ir   Pt   Au   Hg   Tl   Pb   Bi   **   **   **  #\n",
      "#   **   **   **   **   **   **   **   **   **   **   **   **   **   **   **   **   **   **  #\n",
      "#   **   **   La   Ce   Pr   Nd   **   Sm   Eu   Gd   Tb   Dy   Ho   Er   Tm   Yb   Lu   **  #\n",
      "#   **   **   **   Th   **    U   **   **   **   **   **   **   **   **   **   **   **   **  #\n",
      "##############################################################################################\n",
      "Count of the elements appearance\n",
      "##############################################################################################\n",
      "#  284    0    0    0    0    0    0    0    0    0    0    0    0    0    0    0    0    0  #\n",
      "#  409   82    0    0    0    0    0    0    0    0    0    0  266  118  384 2669  846    0  #\n",
      "#  487  252    0    0    0    0    0    0    0    0    0    0  298  258  552  658  607    0  #\n",
      "#  577  280  126  172  199  173  250  212  186  210  224  201  249  301  304  462  351    0  #\n",
      "#  458  306  174  148  192  136   50  133  147  200  193  188  227  292  334  380  321    0  #\n",
      "#  464  369    0   90  156  116  117   69   99  180  230  152  250  163  154    0    0    0  #\n",
      "#    0    0    0    0    0    0    0    0    0    0    0    0    0    0    0    0    0    0  #\n",
      "#    0    0  189   91  131  131    0  141  121  195   93  110  137  129  124  101  146    0  #\n",
      "#    0    0    0   67    0  118    0    0    0    0    0    0    0    0    0    0    0    0  #\n",
      "##############################################################################################\n",
      "in test data set\n",
      "Count of the elements appearance\n",
      "##############################################################################################\n",
      "#   38    0    0    0    0    0    0    0    0    0    0    0    0    0    0    0    0    0  #\n",
      "#   70    5    0    0    0    0    0    0    0    0    0    0  103   12   39  523   33    0  #\n",
      "#   90   38    0    0    0    0    0    0    0    0    0    0   28   48  168  343   43    0  #\n",
      "#  175   56   14   34   40   14   25   15   22   17   98   48   64   73  101  295   42    0  #\n",
      "#   87   48   12   10   45   32    2   13    4   15   61   68   68   67  105  148   71    0  #\n",
      "#   99  107    0    6   46    5    5    3    7   11    7   37   79   50  126    0    0    0  #\n",
      "#    0    0    0    0    0    0    0    0    0    0    0    0    0    0    0    0    0    0  #\n",
      "#    0    0   39   14   20   16    0   25   11   12   12   13   10    9    3    8    6    0  #\n",
      "#    0    0    0   13    0    6    0    0    0    0    0    0    0    0    0    0    0    0  #\n",
      "##############################################################################################\n"
     ]
    }
   ],
   "source": [
    "train=loadFromPickle('FullRawData3Elem2Elem_dropRepeat')\n",
    "displayInPeriodicTable(train)\n",
    "print \"in test data set\"\n",
    "test=loadFromPickle('SemiDataBase.pickle')\n",
    "displayInPeriodicTable(test,False)"
   ]
  },
  {
   "cell_type": "markdown",
   "metadata": {},
   "source": [
    "## manipulate the data(make into traning data set format)"
   ]
  },
  {
   "cell_type": "markdown",
   "metadata": {},
   "source": [
    "This step will make three data sets, PTFeatures will be vectors with (9x18) dimensions represents the elements in periodic table. bandgaps will contains all the bandgap info."
   ]
  },
  {
   "cell_type": "code",
   "execution_count": 147,
   "metadata": {
    "collapsed": false
   },
   "outputs": [
    {
     "name": "stdout",
     "output_type": "stream",
     "text": [
      "train data dimensions is (7299, 162)\n",
      "train label dimensions is (7299, 1)\n",
      "test data dimensions is (1530, 162)\n",
      "test label dimensions is (1530, 1)\n"
     ]
    }
   ],
   "source": [
    "import numpy as np\n",
    "def PeriodicTableVectorize(composition):\n",
    "    vector = np.zeros((9,18)) # size of periodic table\n",
    "    for element in composition:\n",
    "        fraction = composition.get_atomic_fraction(element)\n",
    "        vector[element.row-1,element.group-1] = fraction\n",
    "    return vector\n",
    "\n",
    "def formatData(database):\n",
    "    materials=[]\n",
    "    bandgaps=[]\n",
    "    PTFeatures = []\n",
    "    for item in database:\n",
    "        materials.append(item[\"full_formula\"])\n",
    "        bandgaps.append(item[\"band_gap\"])\n",
    "    for item in materials:\n",
    "       material = Composition(item)\n",
    "       PTFeatures.append(PeriodicTableVectorize(material)) #create features from chemical formula\n",
    "    return materials,PTFeatures,bandgaps\n",
    "\n",
    "def reformat1D(dataset, labels):\n",
    "    dataset=np.asarray(dataset)\n",
    "    labels=np.asarray(labels)\n",
    "    dataset = dataset.reshape((-1, dataset.shape[1] * dataset.shape[2])).astype(np.float32)\n",
    "    labels = (labels[:,None]).astype(np.float32)\n",
    "    return dataset, labels\n",
    "\n",
    "train_material,train_vec,train_bandgaps=formatData(train)\n",
    "test_material,test_vec,test_bandgaps=formatData(test)\n",
    "train_1d,train_label=reformat1D(train_vec,train_bandgaps)\n",
    "test_1d,test_label=reformat1D(test_vec,test_bandgaps)\n",
    "print \"train data dimensions is\", train_1d.shape\n",
    "print \"train label dimensions is\", train_label.shape\n",
    "print \"test data dimensions is\", test_1d.shape\n",
    "print \"test label dimensions is\", test_label.shape"
   ]
  },
  {
   "cell_type": "markdown",
   "metadata": {},
   "source": [
    "### Now let's concatenate train with csv file data\n",
    "the real data is not using from csv file"
   ]
  },
  {
   "cell_type": "code",
   "execution_count": 102,
   "metadata": {
    "collapsed": false
   },
   "outputs": [],
   "source": [
    "# trainFile = open(\"bandgapDFT.csv\",\"r\").readlines()\n",
    "def ReadDataFromCSV(Filename=\"bandgapDFT.csv\"):\n",
    "    bandgaps = []\n",
    "    naiveFeatures = []\n",
    "    trainFile = open(Filename,\"r\").readlines()\n",
    "    for line in trainFile:\n",
    "           split = str.split(line, ',')\n",
    "           material = Composition(split[0])\n",
    "           naiveFeatures.append(PeriodicTableVectorize(material)) #create features from chemical formula\n",
    "           bandgaps.append(float(split[1])) #store numerical values of band gaps\n",
    "    return naiveFeatures,bandgaps\n",
    "\n",
    "### a function to limit the bandgat between 0 and 10\n",
    "def ReadDataFromCSV_Trim(Filename=\"bandgapDFT.csv\"):\n",
    "    bandgaps = []\n",
    "    naiveFeatures = []\n",
    "    materials=[]\n",
    "    trainFile = open(Filename,\"r\").readlines()\n",
    "    for line in trainFile:\n",
    "           split = str.split(line, ',')\n",
    "           if float(split[1])>0.1 and float(split[1])<10:\n",
    "               material = Composition(split[0])\n",
    "               materials.append(split[0])\n",
    "               naiveFeatures.append(PeriodicTableVectorize(material)) #create features from chemical formula\n",
    "               bandgaps.append(float(split[1])) #store numerical values of band gaps\n",
    "    return naiveFeatures,bandgaps,materials\n",
    "    \n",
    "\n",
    "# train_csv,label_csv,materials_csv=ReadDataFromCSV_Trim()\n",
    "# train_1d_csv,lebel_1d_csv=reformat1D(train_csv,label_csv)\n",
    "# print \"train csv data dimensions is\", train_1d_csv.shape\n",
    "# print \"label csv data dimensions is\", lebel_1d_csv.shape\n",
    "            \n",
    "#tmp1=np.concatenate((train_1d,train_1d_csv ), axis=0)"
   ]
  },
  {
   "cell_type": "markdown",
   "metadata": {},
   "source": [
    "## plot everyting in histgram"
   ]
  },
  {
   "cell_type": "code",
   "execution_count": 149,
   "metadata": {
    "collapsed": false
   },
   "outputs": [
    {
     "data": {
      "image/png": "[encoded data removed]",
      "text/plain": [
       "<matplotlib.figure.Figure at 0x7f471dd14dd0>"
      ]
     },
     "metadata": {},
     "output_type": "display_data"
    },
    {
     "name": "stdout",
     "output_type": "stream",
     "text": [
      "mean of Train datadata is 1.97 eV\n",
      "median of Train data data is 1.69 eV\n"
     ]
    },
    {
     "data": {
      "image/png": "[encoded data removed]",
      "text/plain": [
       "<matplotlib.figure.Figure at 0x7f471cec2290>"
      ]
     },
     "metadata": {},
     "output_type": "display_data"
    },
    {
     "name": "stdout",
     "output_type": "stream",
     "text": [
      "mean of Test datadata is 1.85 eV\n",
      "median of Test data data is 1.59 eV\n"
     ]
    }
   ],
   "source": [
    "import matplotlib.pyplot as plt\n",
    "#import plotly.plotly as py\n",
    "def HistBandgap(bandgap,label=\"labels\"):\n",
    "    bins = np.linspace(0, 9, 200)\n",
    "    plt.hist(bandgap,bins,alpha=0.5)\n",
    "    plt.title(\"Bandgap Histogram of \"+label)\n",
    "    plt.xlabel(\"BandGap(eV)\")\n",
    "    plt.ylabel(\"Frequency\")\n",
    "    #plt.text(3, bandgap.max(), \"mean of data is \"+str(np.around(np.mean(bandgap),decimals=2))+\" eV\")\n",
    "    #plt.text(3, 80, \"median of data is \"+str(np.around(np.median(bandgap),decimals=2))+\" eV\")\n",
    "    plt.show()\n",
    "    print \"mean of \" +label+\"data is \"+str(np.around(np.mean(bandgap),decimals=2))+\" eV\"\n",
    "    print \"median of \" +label+\" data is \"+str(np.around(np.median(bandgap),decimals=2))+\" eV\"\n",
    "HistBandgap(train_label,\"Train data\")\n",
    "HistBandgap(test_label,\"Test data\")\n"
   ]
  },
  {
   "cell_type": "markdown",
   "metadata": {},
   "source": [
    "## Randamize the data"
   ]
  },
  {
   "cell_type": "code",
   "execution_count": 150,
   "metadata": {
    "collapsed": false
   },
   "outputs": [],
   "source": [
    "def randomize(dataset, labels):\n",
    "  permutation = np.random.permutation(labels.shape[0])\n",
    "  shuffled_dataset = dataset[permutation,:]\n",
    "  shuffled_labels = labels[permutation]\n",
    "  return shuffled_dataset, shuffled_labels\n",
    "# train_dataset, train_labels = randomize(train_dataset, train_labels)\n",
    "# test_dataset, test_labels = randomize(test_dataset, test_labels)\n",
    "# valid_dataset, valid_labels = randomize(valid_dataset, valid_labels)\n",
    "\n",
    "# shuffle  the data\n",
    "train_1d,train_label=randomize(train_1d,train_label)\n",
    "test_1d,test_label=randomize(test_1d,test_label)"
   ]
  },
  {
   "cell_type": "markdown",
   "metadata": {},
   "source": [
    "## Save machine learning data to pickle"
   ]
  },
  {
   "cell_type": "code",
   "execution_count": 153,
   "metadata": {
    "collapsed": true
   },
   "outputs": [],
   "source": [
    "from six.moves import cPickle as pickle\n",
    "pickle_file = 'VectorRep_Bandgap.pickle'\n",
    "\n",
    "try:\n",
    "  f = open(pickle_file, 'wb')\n",
    "  save = {\n",
    "    'train_1d':train_1d,\n",
    "    'train_label':train_label,\n",
    "    'test_1d':test_1d,\n",
    "    'test_label':test_label,\n",
    "    }\n",
    "  pickle.dump(save, f, pickle.HIGHEST_PROTOCOL)\n",
    "  f.close()\n",
    "except Exception as e:\n",
    "  print('Unable to save data to', pickle_file, ':', e)\n",
    "  raise"
   ]
  },
  {
   "cell_type": "markdown",
   "metadata": {},
   "source": [
    "## Load machine learning data to pickle "
   ]
  },
  {
   "cell_type": "code",
   "execution_count": 154,
   "metadata": {
    "collapsed": false
   },
   "outputs": [],
   "source": [
    "from six.moves import cPickle as pickle\n",
    "pickle_file = 'VectorRep_Bandgap.pickle'\n",
    "with open(pickle_file, 'rb') as f:\n",
    "  save = pickle.load(f)\n",
    "  train_1d = save['train_1d']\n",
    "  train_label = save['train_label']\n",
    "  test_1d = save['test_1d']\n",
    "  test_label = save['test_label']  \n",
    "  del save  # hint to help gc free up memory\n",
    "\n",
    "train_dataset=train_1d\n",
    "train_labels=train_label\n",
    "test_dataset=test_1d\n",
    "test_labels=test_label"
   ]
  },
  {
   "cell_type": "markdown",
   "metadata": {
    "collapsed": true
   },
   "source": [
    "# Machine learning\n",
    "## Linear Regression"
   ]
  },
  {
   "cell_type": "code",
   "execution_count": 155,
   "metadata": {
    "collapsed": false
   },
   "outputs": [
    {
     "name": "stdout",
     "output_type": "stream",
     "text": [
      "The MAE of always guessing the average band gap of train data is: 1.38 eV\n",
      "The MAE of always guessing the average band gap of test data is: 1.086 eV\n"
     ]
    }
   ],
   "source": [
    "train_labels=train_label\n",
    "baselineError = np.mean(abs(np.mean(train_labels) - train_labels))\n",
    "print(\"The MAE of always guessing the average band gap of train data is: \" + str(round(baselineError, 3)) + \" eV\")\n",
    "test_label\n",
    "baselineError = np.mean(abs(np.mean(test_label) - test_label))\n",
    "print(\"The MAE of always guessing the average band gap of test data is: \" + str(round(baselineError, 3)) + \" eV\")"
   ]
  },
  {
   "cell_type": "code",
   "execution_count": 156,
   "metadata": {
    "collapsed": false,
    "scrolled": true
   },
   "outputs": [
    {
     "name": "stdout",
     "output_type": "stream",
     "text": [
      "The MAE of the linear ridge regression band gap model using the train set is: 0.893 eV\n"
     ]
    },
    {
     "data": {
      "image/png": "[encoded data removed]",
      "text/plain": [
       "<matplotlib.figure.Figure at 0x7f4717267d50>"
      ]
     },
     "metadata": {},
     "output_type": "display_data"
    },
    {
     "name": "stdout",
     "output_type": "stream",
     "text": [
      "The MAE of the linear ridge regression band gap model using the test set is: 0.7 eV\n"
     ]
    }
   ],
   "source": [
    "# Train linear ridge regression model using naive feature set\n",
    "import warnings\n",
    "warnings.filterwarnings('ignore')\n",
    "import numpy as np\n",
    "from sklearn import linear_model, cross_validation, metrics, ensemble\n",
    "\n",
    "# train_dataset=Fulldata[0:1300]\n",
    "# train_labels=labels[0:1300]\n",
    "# test_dataset=Fulldata[1300:1531]\n",
    "# test_labels=labels[1300:1531]\n",
    "train_dataset=train_1d\n",
    "train_labels=train_label\n",
    "test_dataset=test_1d\n",
    "test_labels=test_label\n",
    "\n",
    "num_samples=train_dataset.shape[0]\n",
    "#this won't work if num_samples are too small, if num_samples is too small, all Y is 0( the first number type), so it has to be large engouh\n",
    "\n",
    "# (samples, width, height) = train_dataset.shape\n",
    "# X = np.reshape(train_dataset,(samples,width*height))[0:num_samples]\n",
    "# Y = train_labels[0:num_samples]\n",
    "\n",
    "\n",
    "# X = np.concatenate((train_dataset,test_dataset),axis=0)\n",
    "# Y = np.concatenate((train_labels,test_labels),axis=0)\n",
    "\n",
    "X=train_dataset\n",
    "Y=train_labels\n",
    "\n",
    "Xt=test_dataset\n",
    "Yt=test_labels\n",
    "\n",
    "#alpha is a tuning parameter affecting how regression deals with collinear inputs\n",
    "linear = linear_model.Ridge(alpha = 0.6)  \n",
    "\n",
    "cv = cross_validation.ShuffleSplit(len(Y),n_iter=10, test_size=0.1, random_state=0)\n",
    "\n",
    "scores = cross_validation.cross_val_score(linear, X,Y, cv=cv, scoring='mean_absolute_error')\n",
    "\n",
    "print(\"The MAE of the linear ridge regression band gap model using the train set is: \"+ str(round(abs(np.mean(scores)), 3)) + \" eV\")\n",
    "############# plot it##########################################\n",
    "# from sklearn.model_selection import cross_val_predict\n",
    "# predicted = cross_val_predict(linear, X, Y, cv=10)\n",
    "# import matplotlib.pyplot as plt\n",
    "# fig, ax = plt.subplots()\n",
    "# ax.scatter(Y, predicted)\n",
    "# ax.plot([Y.min(), Y.max()], [Y.min(), Y.max()], 'k--', lw=2)\n",
    "# ax.set_xlabel('Measured')\n",
    "# ax.set_ylabel('Predicted')\n",
    "# plt.show()\n",
    "############# plot it##########################################\n",
    "from sklearn.model_selection import cross_val_predict\n",
    "predicted = cross_val_predict(linear, Xt, Yt, cv=10)\n",
    "import matplotlib.pyplot as plt\n",
    "fig, ax = plt.subplots()\n",
    "ax.scatter(Yt, predicted)\n",
    "ax.plot([Yt.min(), Yt.max()], [Yt.min(), Yt.max()], 'k--', lw=2)\n",
    "ax.set_xlabel('Measured')\n",
    "ax.set_ylabel('Predicted')\n",
    "plt.show()\n",
    "\n",
    "cv = cross_validation.ShuffleSplit(len(Yt),n_iter=10, test_size=0.1, random_state=0)\n",
    "scores = cross_validation.cross_val_score(linear, Xt,Yt, cv=cv, scoring='mean_absolute_error')\n",
    "print(\"The MAE of the linear ridge regression band gap model using the test set is: \"+ str(round(abs(np.mean(scores)), 3)) + \" eV\")"
   ]
  },
  {
   "cell_type": "markdown",
   "metadata": {},
   "source": [
    "## Neural networks\n",
    "### without hidden layer"
   ]
  },
  {
   "cell_type": "code",
   "execution_count": 157,
   "metadata": {
    "collapsed": false
   },
   "outputs": [
    {
     "name": "stdout",
     "output_type": "stream",
     "text": [
      "1530\n",
      "7299\n"
     ]
    }
   ],
   "source": [
    "print len(test_dataset)\n",
    "print len(train_dataset)\n",
    "Fulldata=train_dataset\n",
    "labels=train_labels"
   ]
  },
  {
   "cell_type": "code",
   "execution_count": 168,
   "metadata": {
    "collapsed": false
   },
   "outputs": [
    {
     "data": {
      "text/plain": [
       "(7299, 162)"
      ]
     },
     "execution_count": 168,
     "metadata": {},
     "output_type": "execute_result"
    }
   ],
   "source": [
    "Fulldata.shape"
   ]
  },
  {
   "cell_type": "code",
   "execution_count": 165,
   "metadata": {
    "collapsed": false
   },
   "outputs": [
    {
     "name": "stdout",
     "output_type": "stream",
     "text": [
      "('Training set', (6500, 162), (6500, 1))\n",
      "('Validation set', (799, 162), (799, 1))\n",
      "('Test set', (1530, 162), (1530, 1))\n"
     ]
    }
   ],
   "source": [
    "# image_size = 28\n",
    "num_labels = 1\n",
    "train_end=6500\n",
    "\n",
    "train_dataset=Fulldata[:train_end]\n",
    "train_labels=labels[:train_end]\n",
    "valid_dataset=Fulldata[train_end:]\n",
    "valid_labels=labels[train_end:]\n",
    "# test_dataset\n",
    "# test_labels\n",
    "\n",
    "def reformat(dataset, labels):\n",
    "  dataset = dataset.reshape((-1, Fulldata.shape[1])).astype(np.float32)\n",
    "  labels = labels\n",
    "  return dataset, labels\n",
    "train_dataset, train_labels = reformat(train_dataset, train_labels)\n",
    "valid_dataset, valid_labels = reformat(valid_dataset, valid_labels)\n",
    "test_dataset, test_labels = reformat(test_dataset, test_labels)\n",
    "print('Training set', train_dataset.shape, train_labels.shape)\n",
    "print('Validation set', valid_dataset.shape, valid_labels.shape)\n",
    "print('Test set', test_dataset.shape, test_labels.shape)"
   ]
  },
  {
   "cell_type": "code",
   "execution_count": 163,
   "metadata": {
    "collapsed": false
   },
   "outputs": [
    {
     "name": "stdout",
     "output_type": "stream",
     "text": [
      "Initialized\n",
      "Loss at step 0: 2.201866\n",
      "Validation Loss: 1.892077\n",
      "Loss at step 2000: 0.872147\n",
      "Validation Loss: 0.833968\n",
      "Loss at step 4000: 0.862680\n",
      "Validation Loss: 0.827784\n",
      "Loss at step 6000: 0.859784\n",
      "Validation Loss: 0.827682\n",
      "Loss at step 8000: 0.858745\n",
      "Validation Loss: 0.827643\n",
      "Loss at step 10000: 0.858270\n",
      "Validation Loss: 0.827583\n",
      "Loss at step 12000: 0.858045\n",
      "Validation Loss: 0.827396\n",
      "Loss at step 14000: 0.857936\n",
      "Validation Loss: 0.827231\n",
      "Loss at step 16000: 0.857900\n",
      "Validation Loss: 0.827303\n",
      "Loss at step 18000: 0.857889\n",
      "Validation Loss: 0.827460\n",
      "Test Loss: 0.730812\n"
     ]
    }
   ],
   "source": [
    "# With gradient descent training, even this much data is prohibitive.\n",
    "# Subset the training data for faster turnaround.\n",
    "\n",
    "train_subset = train_end\n",
    "# label dimention is 1\n",
    "num_labels=1\n",
    "import tensorflow as tf\n",
    "from tensorflow import contrib\n",
    "graph = tf.Graph()\n",
    "with graph.as_default():\n",
    "  tf_train_dataset = tf.constant(train_dataset[:train_subset, :])\n",
    "  tf_train_labels = tf.constant(train_labels[:train_subset])\n",
    "  tf_valid_dataset = tf.constant(valid_dataset)\n",
    "  tf_valid_labels = tf.constant(valid_labels)\n",
    "  tf_test_dataset = tf.constant(test_dataset)\n",
    "  tf_test_labels = tf.constant(test_labels)\n",
    "\n",
    "  weights = tf.Variable(tf.truncated_normal([Fulldata.shape[1] , num_labels]))\n",
    "  biases = tf.Variable(tf.zeros([num_labels]))\n",
    "\n",
    "  logits = tf.matmul(tf_train_dataset, weights) + biases\n",
    "  loss = tf.reduce_mean(tf.abs(logits-tf_train_labels))\n",
    "\n",
    "  optimizer = tf.train.GradientDescentOptimizer(0.5).minimize(loss)\n",
    "  train_prediction = logits  \n",
    "\n",
    "  valid_prediction = tf.matmul(tf_valid_dataset, weights) + biases\n",
    "  valid_loss = tf.reduce_mean(tf.abs(valid_prediction-tf_valid_labels))\n",
    "    \n",
    "  test_prediction = tf.matmul(tf_test_dataset, weights) + biases\n",
    "  test_loss = tf.reduce_mean(tf.abs(test_prediction-tf_test_labels))\n",
    "#########################################################################################3\n",
    "num_steps = 20000\n",
    "with tf.Session(graph=graph) as session:\n",
    "  tf.initialize_all_variables().run()\n",
    "  print('Initialized')\n",
    "  for step in range(num_steps):\n",
    "    _, l, predictions = session.run([optimizer, loss, train_prediction])\n",
    "    if (step % 2000 == 0):\n",
    "      print('Loss at step %d: %f' % (step, l))\n",
    "      print('Validation Loss: %f' % valid_loss.eval())\n",
    "  print('Test Loss: %f' %  test_loss.eval())"
   ]
  },
  {
   "cell_type": "markdown",
   "metadata": {},
   "source": [
    "## with one hidden layer, train with batch"
   ]
  },
  {
   "cell_type": "code",
   "execution_count": 164,
   "metadata": {
    "collapsed": false,
    "scrolled": true
   },
   "outputs": [
    {
     "name": "stdout",
     "output_type": "stream",
     "text": [
      "Initialized\n",
      "Loss at step 0: 8.342926\n",
      "Validation Loss: 100.371498\n",
      "Loss at step 1000: 0.814454\n",
      "Validation Loss: 0.945581\n",
      "Loss at step 2000: 0.772067\n",
      "Validation Loss: 0.845478\n",
      "Loss at step 3000: 0.772132\n",
      "Validation Loss: 0.763398\n",
      "Loss at step 4000: 0.716359\n",
      "Validation Loss: 0.763175\n",
      "Loss at step 5000: 0.748424\n",
      "Validation Loss: 0.810828\n",
      "Loss at step 6000: 0.609731\n",
      "Validation Loss: 0.723730\n",
      "Loss at step 7000: 0.507604\n",
      "Validation Loss: 0.623963\n",
      "Loss at step 8000: 0.671138\n",
      "Validation Loss: 0.690130\n",
      "Loss at step 9000: 0.500061\n",
      "Validation Loss: 0.739839\n",
      "Test Loss: 0.652243\n"
     ]
    }
   ],
   "source": [
    "batch_size = 128\n",
    "num_hidden_nodes = 1024\n",
    "\n",
    "train_subset = train_end\n",
    "#batch_size = train_subset/10\n",
    "num_hidden_nodes = 1024\n",
    "# label dimention is 1\n",
    "num_labels=1\n",
    "import tensorflow as tf\n",
    "from tensorflow import contrib\n",
    "graph = tf.Graph()\n",
    "with graph.as_default():\n",
    "  tf_train_dataset = tf.placeholder(tf.float32,shape=(batch_size, 162))  \n",
    "  #tf_train_dataset = tf.constant(train_dataset[:batch_size, :])\n",
    "  tf_train_labels = tf.placeholder(tf.float32, shape=(batch_size,1))\n",
    "  #tf_train_labels = tf.constant(train_labels[:batch_size])\n",
    "\n",
    "  weights_1 = tf.Variable(tf.truncated_normal([Fulldata.shape[1] , num_hidden_nodes]))\n",
    "  weights_2 =  tf.Variable(tf.truncated_normal([num_hidden_nodes, num_labels]))\n",
    "  biases_1 = tf.Variable(tf.zeros([num_hidden_nodes]))\n",
    "  biases_2 = tf.Variable(tf.zeros([num_labels]))\n",
    "  \n",
    "  layer_1 = tf.nn.relu(tf.matmul(tf_train_dataset, weights_1) + biases_1)\n",
    "  logits = tf.matmul(layer_1, weights_2) + biases_2\n",
    "  loss = tf.reduce_mean(tf.abs(logits-tf_train_labels))\n",
    "\n",
    "  optimizer = tf.train.GradientDescentOptimizer(0.5).minimize(loss)\n",
    "  train_prediction = logits  \n",
    "\n",
    "#########################################################################################    \n",
    "  tf_valid_dataset = tf.constant(valid_dataset)\n",
    "  tf_valid_labels = tf.constant(valid_labels)\n",
    "  tf_test_dataset = tf.constant(test_dataset)\n",
    "  tf_test_labels = tf.constant(test_labels)\n",
    "\n",
    "  layer_1_valid = tf.nn.relu(tf.matmul(tf_valid_dataset, weights_1) + biases_1)\n",
    "  valid_prediction = tf.matmul(layer_1_valid, weights_2) + biases_2\n",
    "  valid_loss = tf.reduce_mean(tf.abs(valid_prediction-tf_valid_labels))\n",
    "    \n",
    "  layer_1_test = tf.nn.relu(tf.matmul(tf_test_dataset, weights_1) + biases_1)\n",
    "  test_prediction = tf.matmul(layer_1_test, weights_2) + biases_2\n",
    "  test_loss = tf.reduce_mean(tf.abs(test_prediction-tf_test_labels))\n",
    "  #########################################################################################3\n",
    "num_steps = 10000\n",
    "with tf.Session(graph=graph) as session:\n",
    "  tf.initialize_all_variables().run()\n",
    "  print('Initialized')\n",
    "  for step in range(num_steps):\n",
    "    offset = (step * batch_size) % (train_labels.shape[0] - batch_size)\n",
    "    batch_data = train_dataset[offset:(offset + batch_size), :]\n",
    "    batch_labels = train_labels[offset:(offset + batch_size), :]\n",
    "    feed_dict = {tf_train_dataset : batch_data, tf_train_labels : batch_labels}\n",
    "    #_, l, predictions = session.run([optimizer, loss, train_prediction])\n",
    "    _, l, predictions = session.run([optimizer, loss, train_prediction], feed_dict=feed_dict)\n",
    "    if (step % 1000 == 0):\n",
    "      print('Loss at step %d: %f' % (step, l))\n",
    "      print('Validation Loss: %f' % valid_loss.eval())\n",
    "  print('Test Loss: %f' %  test_loss.eval())"
   ]
  },
  {
   "cell_type": "markdown",
   "metadata": {},
   "source": [
    "## Add regulation to previous one"
   ]
  },
  {
   "cell_type": "code",
   "execution_count": 166,
   "metadata": {
    "collapsed": false
   },
   "outputs": [
    {
     "name": "stdout",
     "output_type": "stream",
     "text": [
      "Initialized\n",
      "Loss at step 0: 71.452751\n",
      "Validation Loss: 63.694595\n",
      "Loss at step 1000: 24.364183\n",
      "Validation Loss: 0.789157\n",
      "Loss at step 2000: 9.542454\n",
      "Validation Loss: 0.922216\n",
      "Loss at step 3000: 4.118528\n",
      "Validation Loss: 0.830241\n",
      "Loss at step 4000: 2.039590\n",
      "Validation Loss: 0.918599\n",
      "Loss at step 5000: 1.309195\n",
      "Validation Loss: 1.030370\n",
      "Loss at step 6000: 0.846725\n",
      "Validation Loss: 0.717876\n",
      "Loss at step 7000: 0.848893\n",
      "Validation Loss: 0.666907\n",
      "Loss at step 8000: 0.914854\n",
      "Validation Loss: 0.810108\n",
      "Loss at step 9000: 0.774651\n",
      "Validation Loss: 0.806920\n",
      "Test Loss: 0.646437\n"
     ]
    }
   ],
   "source": [
    "batch_size = 128\n",
    "num_hidden_nodes = 1024\n",
    "# so far 1e-3 yields best result 0.599\n",
    "beta=1e-3\n",
    "\n",
    "#train_subset = train_end\n",
    "# batch_size = train_subset/10\n",
    "num_hidden_nodes = 1024\n",
    "# label dimention is 1\n",
    "num_labels=1\n",
    "import tensorflow as tf\n",
    "from tensorflow import contrib\n",
    "graph = tf.Graph()\n",
    "with graph.as_default():\n",
    "  tf_train_dataset = tf.placeholder(tf.float32,shape=(batch_size, 162))  \n",
    "  #tf_train_dataset = tf.constant(train_dataset[:batch_size, :])\n",
    "  tf_train_labels = tf.placeholder(tf.float32, shape=(batch_size,1))\n",
    "  #tf_train_labels = tf.constant(train_labels[:batch_size])\n",
    "\n",
    "  weights_1 = tf.Variable(tf.truncated_normal([Fulldata.shape[1] , num_hidden_nodes]))\n",
    "  weights_2 =  tf.Variable(tf.truncated_normal([num_hidden_nodes, num_labels]))\n",
    "  biases_1 = tf.Variable(tf.zeros([num_hidden_nodes]))\n",
    "  biases_2 = tf.Variable(tf.zeros([num_labels]))\n",
    "  \n",
    "  layer_1 = tf.nn.relu(tf.matmul(tf_train_dataset, weights_1) + biases_1)\n",
    "  logits = tf.matmul(layer_1, weights_2) + biases_2\n",
    "  loss = tf.reduce_mean(tf.abs(logits-tf_train_labels))+beta*(tf.nn.l2_loss(weights_1)+tf.nn.l2_loss(weights_2))\n",
    "\n",
    "  optimizer = tf.train.GradientDescentOptimizer(0.5).minimize(loss)\n",
    "  \n",
    "  train_prediction = logits  \n",
    "\n",
    "#########################################################################################    \n",
    "  tf_valid_dataset = tf.constant(valid_dataset)\n",
    "  tf_valid_labels = tf.constant(valid_labels)\n",
    "  tf_test_dataset = tf.constant(test_dataset)\n",
    "  tf_test_labels = tf.constant(test_labels)\n",
    "\n",
    "  layer_1_valid = tf.nn.relu(tf.matmul(tf_valid_dataset, weights_1) + biases_1)\n",
    "  valid_prediction = tf.matmul(layer_1_valid, weights_2) + biases_2\n",
    "  valid_loss = tf.reduce_mean(tf.abs(valid_prediction-tf_valid_labels))\n",
    "    \n",
    "  layer_1_test = tf.nn.relu(tf.matmul(tf_test_dataset, weights_1) + biases_1)\n",
    "  test_prediction = tf.matmul(layer_1_test, weights_2) + biases_2\n",
    "  test_loss = tf.reduce_mean(tf.abs(test_prediction-tf_test_labels))\n",
    "  #########################################################################################3\n",
    "num_steps = 10000\n",
    "with tf.Session(graph=graph) as session:\n",
    "  tf.initialize_all_variables().run()\n",
    "  print('Initialized')\n",
    "  for step in range(num_steps):\n",
    "    offset = (step * batch_size) % (train_labels.shape[0] - batch_size)\n",
    "    batch_data = train_dataset[offset:(offset + batch_size), :]\n",
    "    batch_labels = train_labels[offset:(offset + batch_size), :]\n",
    "    feed_dict = {tf_train_dataset : batch_data, tf_train_labels : batch_labels}\n",
    "    #_, l, predictions = session.run([optimizer, loss, train_prediction])\n",
    "    _, l, predictions = session.run([optimizer, loss, train_prediction], feed_dict=feed_dict)\n",
    "    if (step % 1000 == 0):\n",
    "      print('Loss at step %d: %f' % (step, l))\n",
    "      print('Validation Loss: %f' % valid_loss.eval())\n",
    "  print('Test Loss: %f' %  test_loss.eval())"
   ]
  },
  {
   "cell_type": "markdown",
   "metadata": {},
   "source": [
    "## Dropout added to previous test"
   ]
  },
  {
   "cell_type": "code",
   "execution_count": 476,
   "metadata": {
    "collapsed": false
   },
   "outputs": [
    {
     "name": "stdout",
     "output_type": "stream",
     "text": [
      "Initialized\n",
      "Loss at step 0: 73.645538\n",
      "Validation Loss: 16.276495\n",
      "Loss at step 1000: 24.098148\n",
      "Validation Loss: 0.686216\n",
      "Loss at step 2000: 9.174386\n",
      "Validation Loss: 0.799104\n",
      "Loss at step 3000: 3.764966\n",
      "Validation Loss: 0.740538\n",
      "Loss at step 4000: 1.878308\n",
      "Validation Loss: 0.751335\n",
      "Loss at step 5000: 1.016863\n",
      "Validation Loss: 0.606579\n",
      "Loss at step 6000: 0.864439\n",
      "Validation Loss: 0.675523\n",
      "Loss at step 7000: 0.684641\n",
      "Validation Loss: 0.720152\n",
      "Loss at step 8000: 0.670896\n",
      "Validation Loss: 0.604405\n",
      "Loss at step 9000: 0.830222\n",
      "Validation Loss: 0.630259\n",
      "Test Loss: 0.617904\n"
     ]
    }
   ],
   "source": [
    "batch_size = 128\n",
    "num_hidden_nodes = 1024\n",
    "# so far 1e-3 yields best result 0.599\n",
    "beta=1e-3\n",
    "\n",
    "train_subset = train_end\n",
    "#batch_size = train_subset/10\n",
    "num_hidden_nodes = 1024\n",
    "# label dimention is 1\n",
    "num_labels=1\n",
    "import tensorflow as tf\n",
    "from tensorflow import contrib\n",
    "graph = tf.Graph()\n",
    "with graph.as_default():\n",
    "  tf_train_dataset = tf.placeholder(tf.float32,shape=(batch_size, 162))  \n",
    "  #tf_train_dataset = tf.constant(train_dataset[:batch_size, :])\n",
    "  tf_train_labels = tf.placeholder(tf.float32, shape=(batch_size,1))\n",
    "  #tf_train_labels = tf.constant(train_labels[:batch_size])\n",
    "\n",
    "  weights_1 = tf.Variable(tf.truncated_normal([Fulldata.shape[1] , num_hidden_nodes]))\n",
    "  weights_2 =  tf.Variable(tf.truncated_normal([num_hidden_nodes, num_labels]))\n",
    "  biases_1 = tf.Variable(tf.zeros([num_hidden_nodes]))\n",
    "  biases_2 = tf.Variable(tf.zeros([num_labels]))\n",
    "  \n",
    "  layer_1 = tf.nn.dropout(tf.nn.relu(tf.matmul(tf_train_dataset, weights_1) + biases_1),keep_prob=0.8)\n",
    "  logits = tf.matmul(layer_1, weights_2) + biases_2\n",
    "  loss = tf.reduce_mean(tf.abs(logits-tf_train_labels))+beta*(tf.nn.l2_loss(weights_1)+tf.nn.l2_loss(weights_2))\n",
    "\n",
    "  optimizer = tf.train.GradientDescentOptimizer(0.5).minimize(loss)\n",
    "#########################################################################################\n",
    "  layer_1_train= tf.nn.relu(tf.matmul(tf_train_dataset, weights_1) + biases_1)\n",
    "  train_prediction = tf.matmul(layer_1_train, weights_2) + biases_2  \n",
    "\n",
    "#########################################################################################    \n",
    "  tf_valid_dataset = tf.constant(valid_dataset)\n",
    "  tf_valid_labels = tf.constant(valid_labels)\n",
    "  tf_test_dataset = tf.constant(test_dataset)\n",
    "  tf_test_labels = tf.constant(test_labels)\n",
    "\n",
    "  layer_1_valid = tf.nn.relu(tf.matmul(tf_valid_dataset, weights_1) + biases_1)\n",
    "  valid_prediction = tf.matmul(layer_1_valid, weights_2) + biases_2\n",
    "  valid_loss = tf.reduce_mean(tf.abs(valid_prediction-tf_valid_labels))\n",
    "    \n",
    "  layer_1_test = tf.nn.relu(tf.matmul(tf_test_dataset, weights_1) + biases_1)\n",
    "  test_prediction = tf.matmul(layer_1_test, weights_2) + biases_2\n",
    "  test_loss = tf.reduce_mean(tf.abs(test_prediction-tf_test_labels))\n",
    "  #########################################################################################3\n",
    "num_steps = 10000\n",
    "with tf.Session(graph=graph) as session:\n",
    "  tf.initialize_all_variables().run()\n",
    "  print('Initialized')\n",
    "  for step in range(num_steps):\n",
    "    offset = (step * batch_size) % (train_labels.shape[0] - batch_size)\n",
    "    batch_data = train_dataset[offset:(offset + batch_size), :]\n",
    "    batch_labels = train_labels[offset:(offset + batch_size), :]\n",
    "    feed_dict = {tf_train_dataset : batch_data, tf_train_labels : batch_labels}\n",
    "    #_, l, predictions = session.run([optimizer, loss, train_prediction])\n",
    "    _, l, predictions = session.run([optimizer, loss, train_prediction], feed_dict=feed_dict)\n",
    "    if (step % 1000 == 0):\n",
    "      print('Loss at step %d: %f' % (step, l))\n",
    "      print('Validation Loss: %f' % valid_loss.eval())\n",
    "  print('Test Loss: %f' %  test_loss.eval())"
   ]
  },
  {
   "cell_type": "markdown",
   "metadata": {},
   "source": [
    "## Below try to use different initial value(stddev) for weight to see if accuracy can be improved,"
   ]
  },
  {
   "cell_type": "code",
   "execution_count": 475,
   "metadata": {
    "collapsed": false
   },
   "outputs": [
    {
     "name": "stdout",
     "output_type": "stream",
     "text": [
      "Initialized\n",
      "Loss at step 0: 2.629410\n",
      "Validation Loss: 1.136134\n",
      "Loss at step 1000: 0.861606\n",
      "Validation Loss: 0.610521\n",
      "Loss at step 2000: 0.632770\n",
      "Validation Loss: 0.590188\n",
      "Loss at step 3000: 0.758573\n",
      "Validation Loss: 0.798777\n",
      "Loss at step 4000: 0.566694\n",
      "Validation Loss: 0.672346\n",
      "Loss at step 5000: 0.764544\n",
      "Validation Loss: 0.646416\n",
      "Loss at step 6000: 0.625068\n",
      "Validation Loss: 0.651513\n",
      "Loss at step 7000: 0.557081\n",
      "Validation Loss: 0.697748\n",
      "Loss at step 8000: 0.716716\n",
      "Validation Loss: 0.643046\n",
      "Loss at step 9000: 0.632172\n",
      "Validation Loss: 0.770132\n",
      "Test Loss: 0.592279\n"
     ]
    }
   ],
   "source": [
    "import math as math\n",
    "batch_size = 128\n",
    "num_hidden_nodes = 1024\n",
    "# so far 1e-3 yields best result 0.599\n",
    "beta=1e-3\n",
    "\n",
    "train_subset = train_end\n",
    "# batch_size = train_subset/10\n",
    "num_hidden_nodes = 1024\n",
    "# label dimention is 1\n",
    "num_labels=1\n",
    "import tensorflow as tf\n",
    "from tensorflow import contrib\n",
    "graph = tf.Graph()\n",
    "dimentions=Fulldata.shape[1] \n",
    "with graph.as_default():\n",
    "  tf_train_dataset = tf.placeholder(tf.float32,shape=(batch_size, 162))  \n",
    "  #tf_train_dataset = tf.constant(train_dataset[:batch_size, :])\n",
    "  tf_train_labels = tf.placeholder(tf.float32, shape=(batch_size,1))\n",
    "  #tf_train_labels = tf.constant(train_labels[:batch_size])\n",
    "\n",
    "  weights_1 = tf.Variable(tf.truncated_normal([dimentions, num_hidden_nodes],\n",
    "                                              stddev=math.sqrt(2.0/dimentions)))\n",
    "  weights_2 =  tf.Variable(tf.truncated_normal([num_hidden_nodes, num_labels],\n",
    "                                               stddev=math.sqrt(2.0/(num_hidden_nodes))))\n",
    "  biases_1 = tf.Variable(tf.zeros([num_hidden_nodes]))\n",
    "  biases_2 = tf.Variable(tf.zeros([num_labels]))\n",
    "  \n",
    "  layer_1 = tf.nn.dropout(tf.nn.relu(tf.matmul(tf_train_dataset, weights_1) + biases_1),keep_prob=0.8)\n",
    "  logits = tf.matmul(layer_1, weights_2) + biases_2\n",
    "  loss = tf.reduce_mean(tf.abs(logits-tf_train_labels))+beta*(tf.nn.l2_loss(weights_1)+tf.nn.l2_loss(weights_2))\n",
    "\n",
    "  optimizer = tf.train.GradientDescentOptimizer(0.5).minimize(loss)\n",
    "#########################################################################################  \n",
    "  layer_1_train= tf.nn.relu(tf.matmul(tf_train_dataset, weights_1) + biases_1)\n",
    "  train_prediction = tf.matmul(layer_1_train, weights_2) + biases_2  \n",
    "\n",
    "\n",
    "#########################################################################################    \n",
    "  tf_valid_dataset = tf.constant(valid_dataset)\n",
    "  tf_valid_labels = tf.constant(valid_labels)\n",
    "  tf_test_dataset = tf.constant(test_dataset)\n",
    "  tf_test_labels = tf.constant(test_labels)\n",
    "\n",
    "  layer_1_valid = tf.nn.relu(tf.matmul(tf_valid_dataset, weights_1) + biases_1)\n",
    "  valid_prediction = tf.matmul(layer_1_valid, weights_2) + biases_2\n",
    "  valid_loss = tf.reduce_mean(tf.abs(valid_prediction-tf_valid_labels))\n",
    "    \n",
    "  layer_1_test = tf.nn.relu(tf.matmul(tf_test_dataset, weights_1) + biases_1)\n",
    "  test_prediction = tf.matmul(layer_1_test, weights_2) + biases_2\n",
    "  test_loss = tf.reduce_mean(tf.abs(test_prediction-tf_test_labels))\n",
    "  #########################################################################################3\n",
    "num_steps = 10000\n",
    "with tf.Session(graph=graph) as session:\n",
    "  tf.initialize_all_variables().run()\n",
    "  print('Initialized')\n",
    "  for step in range(num_steps):\n",
    "    offset = (step * batch_size) % (train_labels.shape[0] - batch_size)\n",
    "    batch_data = train_dataset[offset:(offset + batch_size), :]\n",
    "    batch_labels = train_labels[offset:(offset + batch_size), :]\n",
    "    feed_dict = {tf_train_dataset : batch_data, tf_train_labels : batch_labels}\n",
    "    #_, l, predictions = session.run([optimizer, loss, train_prediction])\n",
    "    _, l, predictions = session.run([optimizer, loss, train_prediction], feed_dict=feed_dict)\n",
    "    if (step % 1000 == 0):\n",
    "      print('Loss at step %d: %f' % (step, l))\n",
    "      print('Validation Loss: %f' % valid_loss.eval())\n",
    "  print('Test Loss: %f' %  test_loss.eval())"
   ]
  },
  {
   "cell_type": "markdown",
   "metadata": {},
   "source": [
    "## Two hidden layer"
   ]
  },
  {
   "cell_type": "code",
   "execution_count": 167,
   "metadata": {
    "collapsed": false
   },
   "outputs": [
    {
     "name": "stdout",
     "output_type": "stream",
     "text": [
      "Initialized\n",
      "Loss at step 0: 3.125145\n",
      "Validation Loss: 1.431295\n",
      "Loss at step 1000: 1.388849\n",
      "Validation Loss: 0.774048\n",
      "Loss at step 2000: 0.939148\n",
      "Validation Loss: 0.716816\n",
      "Loss at step 3000: 1.014927\n",
      "Validation Loss: 0.848569\n",
      "Loss at step 4000: 0.776024\n",
      "Validation Loss: 0.737681\n",
      "Loss at step 5000: 1.207989\n",
      "Validation Loss: 1.322314\n",
      "Loss at step 6000: 0.715510\n",
      "Validation Loss: 0.683966\n",
      "Loss at step 7000: 0.934632\n",
      "Validation Loss: 0.835293\n",
      "Loss at step 8000: 0.830456\n",
      "Validation Loss: 0.799800\n",
      "Loss at step 9000: 0.828547\n",
      "Validation Loss: 0.733529\n",
      "Test Loss: 0.643807\n"
     ]
    }
   ],
   "source": [
    "import math as math\n",
    "batch_size = 128\n",
    "num_hidden_nodes = 1024\n",
    "num_hidden_nodes2=512\n",
    "# so far 1e-3 yields best result 0.599\n",
    "beta=1e-3\n",
    "\n",
    "train_subset = train_end\n",
    "# batch_size = train_subset/10\n",
    "num_hidden_nodes = 1024\n",
    "# label dimention is 1\n",
    "num_labels=1\n",
    "import tensorflow as tf\n",
    "from tensorflow import contrib\n",
    "graph = tf.Graph()\n",
    "dimentions=Fulldata.shape[1] \n",
    "with graph.as_default():\n",
    "  tf_train_dataset = tf.placeholder(tf.float32,shape=(batch_size, 162))  \n",
    "  #tf_train_dataset = tf.constant(train_dataset[:batch_size, :])\n",
    "  tf_train_labels = tf.placeholder(tf.float32, shape=(batch_size,1))\n",
    "  #tf_train_labels = tf.constant(train_labels[:batch_size])\n",
    "\n",
    "  weights_1 = tf.Variable(tf.truncated_normal([dimentions, num_hidden_nodes],\n",
    "                                              stddev=math.sqrt(2.0/dimentions)))\n",
    "  biases_1 = tf.Variable(tf.zeros([num_hidden_nodes]))\n",
    "  weights_2=tf.Variable(tf.truncated_normal([num_hidden_nodes, num_hidden_nodes2],\n",
    "                                             stddev=math.sqrt(2.0/(num_hidden_nodes))))\n",
    "  biases_2=tf.Variable(tf.zeros([num_hidden_nodes2]))\n",
    "  \n",
    "  weights_o =  tf.Variable(tf.truncated_normal([num_hidden_nodes2, num_labels],\n",
    "                                               stddev=math.sqrt(2.0/(num_hidden_nodes))))  \n",
    "  biases_o = tf.Variable(tf.zeros([num_labels]))\n",
    "  \n",
    "  layer_1 = tf.nn.dropout(tf.nn.relu(tf.matmul(tf_train_dataset, weights_1) + biases_1),keep_prob=0.8)\n",
    "  layer_2=tf.nn.dropout(tf.nn.relu(tf.matmul(layer_1,weights_2)+biases_2),0.75)\n",
    "  \n",
    "  logits = tf.matmul(layer_2, weights_o) + biases_o\n",
    "  \n",
    "  loss = tf.reduce_mean(tf.abs(logits-tf_train_labels))+beta*(tf.nn.l2_loss(weights_1)+tf.nn.l2_loss(weights_o)+tf.nn.l2_loss(weights_2))\n",
    "\n",
    "  optimizer = tf.train.GradientDescentOptimizer(0.5).minimize(loss)\n",
    "#########################################################################################  \n",
    "  layer_1_train=tf.nn.relu(tf.matmul(tf_train_dataset,weights_1)+biases_1)\n",
    "  layer_2_train=tf.nn.relu(tf.matmul(layer_1_train,weights_2)+biases_2)\n",
    "  train_prediction = tf.matmul(layer_2_train, weights_o) + biases_o  \n",
    "\n",
    "#########################################################################################    \n",
    "  tf_valid_dataset = tf.constant(valid_dataset)\n",
    "  tf_valid_labels = tf.constant(valid_labels)\n",
    "  tf_test_dataset = tf.constant(test_dataset)\n",
    "  tf_test_labels = tf.constant(test_labels)\n",
    "\n",
    "  layer_1_valid = tf.nn.relu(tf.matmul(tf_valid_dataset, weights_1) + biases_1)\n",
    "  layer_2_valid = tf.nn.relu(tf.matmul(layer_1_valid, weights_2) + biases_2)  \n",
    "  valid_prediction = tf.matmul(layer_2_valid, weights_o) + biases_o\n",
    "  valid_loss = tf.reduce_mean(tf.abs(valid_prediction-tf_valid_labels))\n",
    "    \n",
    "  layer_1_test = tf.nn.relu(tf.matmul(tf_test_dataset, weights_1) + biases_1)\n",
    "  layer_2_test = tf.nn.relu(tf.matmul(layer_1_test, weights_2) + biases_2)\n",
    "  test_prediction = tf.matmul(layer_2_test, weights_o) + biases_o\n",
    "  test_loss = tf.reduce_mean(tf.abs(test_prediction-tf_test_labels))\n",
    "#########################################################################################3\n",
    "num_steps = 10000\n",
    "with tf.Session(graph=graph) as session:\n",
    "  tf.initialize_all_variables().run()\n",
    "  print('Initialized')\n",
    "  for step in range(num_steps):\n",
    "    offset = (step * batch_size) % (train_labels.shape[0] - batch_size)\n",
    "    batch_data = train_dataset[offset:(offset + batch_size), :]\n",
    "    batch_labels = train_labels[offset:(offset + batch_size), :]\n",
    "    feed_dict = {tf_train_dataset : batch_data, tf_train_labels : batch_labels}\n",
    "    #_, l, predictions = session.run([optimizer, loss, train_prediction])\n",
    "    _, l, predictions = session.run([optimizer, loss, train_prediction], feed_dict=feed_dict)\n",
    "    if (step % 1000 == 0):\n",
    "      print('Loss at step %d: %f' % (step, l))\n",
    "      print('Validation Loss: %f' % valid_loss.eval())\n",
    "  print('Test Loss: %f' %  test_loss.eval())"
   ]
  },
  {
   "cell_type": "markdown",
   "metadata": {},
   "source": [
    "The result here is not good due to small number of steps, a larger training step test is done at WSU grid which yields a big score at test loss of 0.56"
   ]
  },
  {
   "cell_type": "markdown",
   "metadata": {},
   "source": [
    "## Three hidden layer"
   ]
  },
  {
   "cell_type": "code",
   "execution_count": 36,
   "metadata": {
    "collapsed": false
   },
   "outputs": [
    {
     "name": "stdout",
     "output_type": "stream",
     "text": [
      "Initialized\n",
      "Loss at step 0: 1.812679\n",
      "Validation Loss: 1.182081\n",
      "Loss at step 100: 1.104610\n",
      "Validation Loss: 0.849097\n",
      "Loss at step 200: 0.899612\n",
      "Validation Loss: 0.827634\n",
      "Loss at step 300: 0.723385\n",
      "Validation Loss: 0.710807\n",
      "Loss at step 400: 0.641590\n",
      "Validation Loss: 0.855809\n",
      "Loss at step 500: 0.610064\n",
      "Validation Loss: 0.730401\n",
      "Loss at step 600: 0.538624\n",
      "Validation Loss: 0.654029\n",
      "Loss at step 700: 0.593479\n",
      "Validation Loss: 0.690829\n",
      "Loss at step 800: 0.520996\n",
      "Validation Loss: 0.654888\n",
      "Loss at step 900: 0.595485\n",
      "Validation Loss: 0.622961\n",
      "Test Loss: 0.853504\n"
     ]
    }
   ],
   "source": [
    "import math as math\n",
    "import tensorflow as tf\n",
    "from tensorflow import contrib\n",
    "\n",
    "batch_size = 128\n",
    "num_hidden_nodes = 1024\n",
    "num_hidden_nodes2=512\n",
    "num_hidden_nodes3=128\n",
    "num_labels = 1\n",
    "beta=1e-3\n",
    "\n",
    "graph = tf.Graph()\n",
    "dimentions=Fulldata.shape[1] \n",
    "with graph.as_default():\n",
    "  tf_train_dataset = tf.placeholder(tf.float32,shape=(batch_size, 162))  \n",
    "  #tf_train_dataset = tf.constant(train_dataset[:batch_size, :])\n",
    "  tf_train_labels = tf.placeholder(tf.float32, shape=(batch_size,1))\n",
    "  #tf_train_labels = tf.constant(train_labels[:batch_size])\n",
    "\n",
    "  weights_1 = tf.Variable(tf.truncated_normal([dimentions, num_hidden_nodes],\n",
    "                                              stddev=math.sqrt(2.0/dimentions)))\n",
    "  biases_1 = tf.Variable(tf.zeros([num_hidden_nodes]))\n",
    "  weights_2=tf.Variable(tf.truncated_normal([num_hidden_nodes, num_hidden_nodes2],\n",
    "                                             stddev=math.sqrt(2.0/(num_hidden_nodes))))\n",
    "  biases_2=tf.Variable(tf.zeros([num_hidden_nodes2]))\n",
    "    \n",
    "  weights_3=tf.Variable(tf.truncated_normal([num_hidden_nodes2, num_hidden_nodes3],\n",
    "                                             stddev=math.sqrt(2.0/(num_hidden_nodes2))))\n",
    "  biases_3=tf.Variable(tf.zeros([num_hidden_nodes3]))\n",
    "    \n",
    "  \n",
    "  weights_o =  tf.Variable(tf.truncated_normal([num_hidden_nodes3, num_labels],\n",
    "                                               stddev=math.sqrt(2.0/(num_hidden_nodes3))))  \n",
    "  biases_o = tf.Variable(tf.zeros([num_labels]))\n",
    "  \n",
    "  layer_1 = tf.nn.dropout(tf.nn.relu(tf.matmul(tf_train_dataset, weights_1) + biases_1),keep_prob=0.8)\n",
    "  layer_2=tf.nn.dropout(tf.nn.relu(tf.matmul(layer_1,weights_2)+biases_2),keep_prob=0.8)\n",
    "  layer_3=tf.nn.dropout(tf.nn.relu(tf.matmul(layer_2,weights_3)+biases_3),keep_prob=0.8)\n",
    "  \n",
    "  logits = tf.matmul(layer_3, weights_o) + biases_o\n",
    "  \n",
    "  loss = tf.reduce_mean(tf.abs(logits-tf_train_labels))\n",
    "  +beta*(tf.nn.l2_loss(weights_1)+tf.nn.l2_loss(weights_o)\n",
    "  +tf.nn.l2_loss(weights_2)+tf.nn.l2_loss(weights_3))\n",
    "\n",
    "  optimizer = tf.train.GradientDescentOptimizer(0.5).minimize(loss)\n",
    "#########################################################################################  \n",
    "  layer_1_train=tf.nn.relu(tf.matmul(tf_train_dataset,weights_1)+biases_1)\n",
    "  layer_2_train=tf.nn.relu(tf.matmul(layer_1_train,weights_2)+biases_2)\n",
    "  layer_3_train=tf.nn.relu(tf.matmul(layer_2_train,weights_3)+biases_3)\n",
    "  train_prediction = tf.matmul(layer_3_train, weights_o) + biases_o\n",
    "\n",
    "#########################################################################################    \n",
    "  tf_valid_dataset = tf.constant(valid_dataset)\n",
    "  tf_valid_labels = tf.constant(valid_labels)\n",
    "  tf_test_dataset = tf.constant(test_dataset)\n",
    "  tf_test_labels = tf.constant(test_labels)\n",
    "\n",
    "  layer_1_valid = tf.nn.relu(tf.matmul(tf_valid_dataset, weights_1) + biases_1)\n",
    "  layer_2_valid = tf.nn.relu(tf.matmul(layer_1_valid, weights_2) + biases_2)\n",
    "  layer_3_valid = tf.nn.relu(tf.matmul(layer_2_valid, weights_3) + biases_3)\n",
    "  valid_prediction = tf.matmul(layer_3_valid, weights_o) + biases_o\n",
    "  valid_loss = tf.reduce_mean(tf.abs(valid_prediction-tf_valid_labels))\n",
    "    \n",
    "  layer_1_test = tf.nn.relu(tf.matmul(tf_test_dataset, weights_1) + biases_1)\n",
    "  layer_2_test = tf.nn.relu(tf.matmul(layer_1_test, weights_2) + biases_2)\n",
    "  layer_3_test = tf.nn.relu(tf.matmul(layer_2_test, weights_3) + biases_3)\n",
    "  test_prediction = tf.matmul(layer_3_test, weights_o) + biases_o\n",
    "  test_loss = tf.reduce_mean(tf.abs(test_prediction-tf_test_labels))\n",
    "#########################################################################################3\n",
    "num_steps = 1000\n",
    "with tf.Session(graph=graph) as session:\n",
    "  tf.initialize_all_variables().run()\n",
    "  print('Initialized')\n",
    "  for step in range(num_steps):\n",
    "    offset = (step * batch_size) % (train_labels.shape[0] - batch_size)\n",
    "    batch_data = train_dataset[offset:(offset + batch_size), :]\n",
    "    batch_labels = train_labels[offset:(offset + batch_size), :]\n",
    "    feed_dict = {tf_train_dataset : batch_data, tf_train_labels : batch_labels}\n",
    "    #_, l, predictions = session.run([optimizer, loss, train_prediction])\n",
    "    _, l, predictions = session.run([optimizer, loss, train_prediction], feed_dict=feed_dict)\n",
    "    if (step % 100 == 0):\n",
    "      print('Loss at step %d: %f' % (step, l))\n",
    "      print('Validation Loss: %f' % valid_loss.eval())\n",
    "  print('Test Loss: %f' %  test_loss.eval())"
   ]
  },
  {
   "cell_type": "code",
   "execution_count": null,
   "metadata": {
    "collapsed": true
   },
   "outputs": [],
   "source": []
  }
 ],
 "metadata": {
  "kernelspec": {
   "display_name": "Python 2",
   "language": "python",
   "name": "python2"
  },
  "language_info": {
   "codemirror_mode": {
    "name": "ipython",
    "version": 2
   },
   "file_extension": ".py",
   "mimetype": "text/x-python",
   "name": "python",
   "nbconvert_exporter": "python",
   "pygments_lexer": "ipython2",
   "version": "2.7.6"
  }
 },
 "nbformat": 4,
 "nbformat_minor": 1
}
